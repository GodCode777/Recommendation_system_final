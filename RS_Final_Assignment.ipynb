{
  "nbformat": 4,
  "nbformat_minor": 0,
  "metadata": {
    "colab": {
      "provenance": []
    },
    "kernelspec": {
      "name": "python3",
      "display_name": "Python 3"
    },
    "language_info": {
      "name": "python"
    },
    "gpuClass": "standard"
  },
  "cells": [
    {
      "cell_type": "code",
      "execution_count": null,
      "metadata": {
        "id": "1GTiCfl0JLcG"
      },
      "outputs": [],
      "source": [
        "import os\n",
        "import json\n",
        "import gzip\n",
        "import pandas as pd\n",
        "import numpy as np\n",
        "from gensim.models import Word2Vec\n",
        "import nltk\n",
        "from nltk.tokenize import sent_tokenize, word_tokenize\n",
        "from nltk.corpus import stopwords\n",
        "from nltk.stem import WordNetLemmatizer\n",
        "from collections import Counter\n",
        "import pickle\n",
        "import time\n",
        "import gc\n",
        "from sklearn.manifold import TSNE\n",
        "import matplotlib.pyplot as plt"
      ]
    },
    {
      "cell_type": "code",
      "source": [
        "nltk.download('punkt')\n",
        "nltk.download('stopwords')\n",
        "nltk.download('wordnet')"
      ],
      "metadata": {
        "colab": {
          "base_uri": "https://localhost:8080/"
        },
        "id": "pI-LUnEdyRyK",
        "outputId": "a6a06e8e-c375-4ccc-b9b9-731e1344aae8"
      },
      "execution_count": null,
      "outputs": [
        {
          "output_type": "stream",
          "name": "stderr",
          "text": [
            "[nltk_data] Downloading package punkt to /root/nltk_data...\n",
            "[nltk_data]   Package punkt is already up-to-date!\n",
            "[nltk_data] Downloading package stopwords to /root/nltk_data...\n",
            "[nltk_data]   Package stopwords is already up-to-date!\n",
            "[nltk_data] Downloading package wordnet to /root/nltk_data...\n",
            "[nltk_data]   Package wordnet is already up-to-date!\n"
          ]
        },
        {
          "output_type": "execute_result",
          "data": {
            "text/plain": [
              "True"
            ]
          },
          "metadata": {},
          "execution_count": 30
        }
      ]
    },
    {
      "cell_type": "code",
      "source": [
        "from google.colab import drive\n",
        "drive.mount('/content/drive')"
      ],
      "metadata": {
        "colab": {
          "base_uri": "https://localhost:8080/"
        },
        "id": "zDZBw_BQJy_2",
        "outputId": "0c17f8cd-6ff6-4228-b871-8101e57ffe94"
      },
      "execution_count": null,
      "outputs": [
        {
          "output_type": "stream",
          "name": "stdout",
          "text": [
            "Drive already mounted at /content/drive; to attempt to forcibly remount, call drive.mount(\"/content/drive\", force_remount=True).\n"
          ]
        }
      ]
    },
    {
      "cell_type": "markdown",
      "source": [
        "###---------------------"
      ],
      "metadata": {
        "id": "npzvut5sqnok"
      }
    },
    {
      "cell_type": "code",
      "source": [
        "data = []\n",
        "with gzip.open('/content/drive/MyDrive/data_for_lab/RS_final_assignment/meta_Digital_Music.json.gz') as f:\n",
        "    for l in f:\n",
        "        data.append(json.loads(l.strip()))\n",
        "    \n",
        "# total length of list, this number equals total number of products\n",
        "print(len(data))\n",
        "\n",
        "# first row of the list\n",
        "print(data[0])"
      ],
      "metadata": {
        "id": "choYu9RlJ7AU",
        "colab": {
          "base_uri": "https://localhost:8080/"
        },
        "outputId": "b22e6fb2-7922-4b7b-ff65-34327cf92a90"
      },
      "execution_count": null,
      "outputs": [
        {
          "output_type": "stream",
          "name": "stdout",
          "text": [
            "74347\n",
            "{'category': [], 'tech1': '', 'description': [], 'fit': '', 'title': 'Master Collection Volume One', 'also_buy': ['B000002UEN', 'B000008LD5', 'B01J804JKE', '7474034352', 'B004ZLBTXW', 'B000008LDH', 'B000TGKXJ8', 'B0000AM6KG', 'B0001XJ372', 'B001CFLHMC', 'B0007VO57G', 'B000005KVI', 'B0000251O2', 'B07FDMZ233', 'B000008LD9', 'B000008LDL', '0006935257', 'B07BHDLHH9', 'B00004WJ8I', 'B000008LDC', 'B000008LDI', 'B000002BLF', 'B000KNOC5G', 'B00079YLZ4', 'B000002GHQ', 'B07DXQ4SY4', 'B01NAIVYTN', '0785273425', 'B000E8CM5O', 'B000008N3O', 'B0000288NN', '0439763096', 'B000A79M1G', 'B00005OACU', 'B000008LDG', 'B00000JY96', 'B0002N61QC', 'B000008LDK', 'B00004UU0Y', 'B0000275JN', 'B000008LDN', 'B000008LDP', 'B000008ORJ'], 'tech2': '', 'brand': 'John Michael Talbot', 'feature': [], 'rank': '58,291 in CDs & Vinyl (', 'also_view': ['B000002UEN', 'B000008LD5', '7474034352', 'B000008LDH', 'B004ZLBTXW', 'B0001XJ372', 'B001CFLHMC', 'B01J804JKE', 'B000008LDC', 'B000TGKXJ8', '0819815802', 'B0007VO57G', 'B0000AM6KG', 'B000CD3LOM', 'B0000251O2', 'B000008LDL', 'B00FEFQSYS', '0006882919', 'B000088E97', 'B004U7FROI', 'B000IHYWAY', 'B000008LD9', 'B000003YLI', 'B0000288NN', 'B004OBGJHE', 'B00004WJ8I', 'B000008LDK', '0345538374', 'B000E8CM5O', 'B003JOO5ZA', 'B00005OACU', 'B00000JY96', '0879464003'], 'main_cat': '<img src=\"https://images-na.ssl-images-amazon.com/images/G/01/digital/music/logos/amzn_music_logo_subnav._CB471835632_.png\" class=\"nav-categ-image\" alt=\"Digital Music\"/>', 'similar_item': '', 'date': '', 'price': '$18.99', 'asin': '0001377647', 'imageURL': [], 'imageURLHighRes': []}\n"
          ]
        }
      ]
    },
    {
      "cell_type": "code",
      "source": [
        "\n",
        "df1 = pd.DataFrame.from_dict(data)\n",
        "\n",
        "print(len(df1))"
      ],
      "metadata": {
        "colab": {
          "base_uri": "https://localhost:8080/"
        },
        "id": "MM2F5Ha_AjDH",
        "outputId": "e2e38a42-138e-4f22-8f68-6231e4051982"
      },
      "execution_count": null,
      "outputs": [
        {
          "output_type": "stream",
          "name": "stdout",
          "text": [
            "74347\n"
          ]
        }
      ]
    },
    {
      "cell_type": "code",
      "source": [
        "df1"
      ],
      "metadata": {
        "colab": {
          "base_uri": "https://localhost:8080/",
          "height": 1000
        },
        "id": "ZEFTMJtkAqhC",
        "outputId": "eba654c7-cabd-4b5b-d58d-51b88b5a3fa8"
      },
      "execution_count": null,
      "outputs": [
        {
          "output_type": "execute_result",
          "data": {
            "text/plain": [
              "      category tech1                                        description fit  \\\n",
              "0           []                                                       []       \n",
              "1           []                                                       []       \n",
              "2           []                                                       []       \n",
              "3           []                                                       []       \n",
              "4           []        [1. Losing Game 2. I Can't Wait 3. Didn't He S...       \n",
              "...        ...   ...                                                ...  ..   \n",
              "74342       []        [1. \"Free At Last\" Southside 1:21 2. \"Never Go...       \n",
              "74343       []                                                       []       \n",
              "74344       []                                                       []       \n",
              "74345       []                                                       []       \n",
              "74346       []        [album 2016: 01.Autogram 02.Dobrotvorne svrhe ...       \n",
              "\n",
              "                                                   title  \\\n",
              "0                           Master Collection Volume One   \n",
              "1                      Hymns Collection: Hymns 1 &amp; 2   \n",
              "2                            Early Works - Don Francisco   \n",
              "3                          So You Wanna Go Back to Egypt   \n",
              "4                              Early Works - Dallas Holm   \n",
              "...                                                  ...   \n",
              "74342                         FUTURE PRESENTS: 56 NIGHTS   \n",
              "74343  Tori Amos - Little Earthquakes? - Lp Vinyl Record   \n",
              "74344  EXO - EX'ACT 3rd Album [Korean Lucky One Versi...   \n",
              "74345                      Vanilla Fudge (Korea Edition)   \n",
              "74346  CD Svetlana Ceca Raznatovic New Album 2016 Aut...   \n",
              "\n",
              "                                                also_buy tech2  \\\n",
              "0      [B000002UEN, B000008LD5, B01J804JKE, 747403435...         \n",
              "1                               [5558154950, B00014K5V4]         \n",
              "2      [B00004RC05, B003H8F4NA, B003ZFVHPO, B003JMP1Z...         \n",
              "3      [B0000275QQ, 0001393774, 0001388312, B0016CP2G...         \n",
              "4      [B0002N4JP2, 0760131694, B00002EQ79, B00150K8J...         \n",
              "...                                                  ...   ...   \n",
              "74342                                                 []         \n",
              "74343                                                 []         \n",
              "74344  [B07HSM242F, B00VMJ1MMS, B077ZYR799, B00YSOAJG...         \n",
              "74345                                                 []         \n",
              "74346                                       [8652700087]         \n",
              "\n",
              "                          brand feature                        rank  \\\n",
              "0           John Michael Talbot      []     58,291 in CDs & Vinyl (   \n",
              "1        Second Chapter of Acts      []     93,164 in CDs & Vinyl (   \n",
              "2                 Don Francisco      []    875,825 in CDs & Vinyl (   \n",
              "3                   Keith Green      []    203,263 in CDs & Vinyl (   \n",
              "4                   Dallas Holm      []    399,269 in CDs & Vinyl (   \n",
              "...                         ...     ...                         ...   \n",
              "74342                    FUTURE      []    695,581 in CDs & Vinyl (   \n",
              "74343                 Tori Amos      []  1,577,399 in CDs & Vinyl (   \n",
              "74344                       EXO      []    130,165 in CDs & Vinyl (   \n",
              "74345                                []                          []   \n",
              "74346  Svetlana Ceca Raznatovic      []    159,741 in CDs & Vinyl (   \n",
              "\n",
              "                                               also_view  \\\n",
              "0      [B000002UEN, B000008LD5, 7474034352, B000008LD...   \n",
              "1      [B000008KJ3, B000008KJ0, 5558154950, B000UN8KZ...   \n",
              "2      [B003H8F4NA, B003ZFVHPO, B003JMP1ZK, B00004RC0...   \n",
              "3      [B00000I7JO, B0016CP2GS, 0001393774, B0000275Q...   \n",
              "4      [B0002N4JP2, 0760131694, B00150K8JC, B003MTXNV...   \n",
              "...                                                  ...   \n",
              "74342                                                 []   \n",
              "74343                                                 []   \n",
              "74344  [B07HSM242F, B01KNSVGKQ, B077ZYR799, B075D9V4W...   \n",
              "74345  [B000002IAK, B00019PDWU, B00000GX0F, B00000GX0...   \n",
              "74346                                                 []   \n",
              "\n",
              "                                                main_cat similar_item date  \\\n",
              "0      <img src=\"https://images-na.ssl-images-amazon....                     \n",
              "1      <img src=\"https://images-na.ssl-images-amazon....                     \n",
              "2      <img src=\"https://images-na.ssl-images-amazon....                     \n",
              "3      <img src=\"https://images-na.ssl-images-amazon....                     \n",
              "4      <img src=\"https://images-na.ssl-images-amazon....                     \n",
              "...                                                  ...          ...  ...   \n",
              "74342  <img src=\"https://images-na.ssl-images-amazon....                     \n",
              "74343  <img src=\"https://images-na.ssl-images-amazon....                     \n",
              "74344  <img src=\"https://images-na.ssl-images-amazon....                     \n",
              "74345  <img src=\"https://images-na.ssl-images-amazon....                     \n",
              "74346  <img src=\"https://images-na.ssl-images-amazon....                     \n",
              "\n",
              "        price        asin                                           imageURL  \\\n",
              "0      $18.99  0001377647                                                 []   \n",
              "1              0001529145                                                 []   \n",
              "2              0001527134                                                 []   \n",
              "3      $13.01  0001388703                                                 []   \n",
              "4              0001526146                                                 []   \n",
              "...       ...         ...                                                ...   \n",
              "74342          B01HH7D5KU  [https://images-na.ssl-images-amazon.com/image...   \n",
              "74343          B01HHGQXI2  [https://images-na.ssl-images-amazon.com/image...   \n",
              "74344          B01HHRIKKK  [https://images-na.ssl-images-amazon.com/image...   \n",
              "74345          B01HI2B3G2                                                 []   \n",
              "74346   $9.39  B01HIT3KZC  [https://images-na.ssl-images-amazon.com/image...   \n",
              "\n",
              "                                         imageURLHighRes  \\\n",
              "0                                                     []   \n",
              "1                                                     []   \n",
              "2                                                     []   \n",
              "3                                                     []   \n",
              "4                                                     []   \n",
              "...                                                  ...   \n",
              "74342  [https://images-na.ssl-images-amazon.com/image...   \n",
              "74343  [https://images-na.ssl-images-amazon.com/image...   \n",
              "74344  [https://images-na.ssl-images-amazon.com/image...   \n",
              "74345                                                 []   \n",
              "74346  [https://images-na.ssl-images-amazon.com/image...   \n",
              "\n",
              "                                                 details  \n",
              "0                                                    NaN  \n",
              "1                                                    NaN  \n",
              "2                                                    NaN  \n",
              "3                                                    NaN  \n",
              "4                                                    NaN  \n",
              "...                                                  ...  \n",
              "74342           {'Label:': 'FBG', 'ASIN:': 'B01HH7D5KU'}  \n",
              "74343  {'Original Release Date:': '2015', 'Number of ...  \n",
              "74344                            {'ASIN:': 'B01HHRIKKK'}  \n",
              "74345                            {'ASIN:': 'B01HI2B3G2'}  \n",
              "74346   {'Number of Discs:': '1', 'ASIN:': 'B01HIT3KZC'}  \n",
              "\n",
              "[74347 rows x 19 columns]"
            ],
            "text/html": [
              "\n",
              "  <div id=\"df-7f971cc9-0040-428d-8771-16da6579886c\">\n",
              "    <div class=\"colab-df-container\">\n",
              "      <div>\n",
              "<style scoped>\n",
              "    .dataframe tbody tr th:only-of-type {\n",
              "        vertical-align: middle;\n",
              "    }\n",
              "\n",
              "    .dataframe tbody tr th {\n",
              "        vertical-align: top;\n",
              "    }\n",
              "\n",
              "    .dataframe thead th {\n",
              "        text-align: right;\n",
              "    }\n",
              "</style>\n",
              "<table border=\"1\" class=\"dataframe\">\n",
              "  <thead>\n",
              "    <tr style=\"text-align: right;\">\n",
              "      <th></th>\n",
              "      <th>category</th>\n",
              "      <th>tech1</th>\n",
              "      <th>description</th>\n",
              "      <th>fit</th>\n",
              "      <th>title</th>\n",
              "      <th>also_buy</th>\n",
              "      <th>tech2</th>\n",
              "      <th>brand</th>\n",
              "      <th>feature</th>\n",
              "      <th>rank</th>\n",
              "      <th>also_view</th>\n",
              "      <th>main_cat</th>\n",
              "      <th>similar_item</th>\n",
              "      <th>date</th>\n",
              "      <th>price</th>\n",
              "      <th>asin</th>\n",
              "      <th>imageURL</th>\n",
              "      <th>imageURLHighRes</th>\n",
              "      <th>details</th>\n",
              "    </tr>\n",
              "  </thead>\n",
              "  <tbody>\n",
              "    <tr>\n",
              "      <th>0</th>\n",
              "      <td>[]</td>\n",
              "      <td></td>\n",
              "      <td>[]</td>\n",
              "      <td></td>\n",
              "      <td>Master Collection Volume One</td>\n",
              "      <td>[B000002UEN, B000008LD5, B01J804JKE, 747403435...</td>\n",
              "      <td></td>\n",
              "      <td>John Michael Talbot</td>\n",
              "      <td>[]</td>\n",
              "      <td>58,291 in CDs &amp; Vinyl (</td>\n",
              "      <td>[B000002UEN, B000008LD5, 7474034352, B000008LD...</td>\n",
              "      <td>&lt;img src=\"https://images-na.ssl-images-amazon....</td>\n",
              "      <td></td>\n",
              "      <td></td>\n",
              "      <td>$18.99</td>\n",
              "      <td>0001377647</td>\n",
              "      <td>[]</td>\n",
              "      <td>[]</td>\n",
              "      <td>NaN</td>\n",
              "    </tr>\n",
              "    <tr>\n",
              "      <th>1</th>\n",
              "      <td>[]</td>\n",
              "      <td></td>\n",
              "      <td>[]</td>\n",
              "      <td></td>\n",
              "      <td>Hymns Collection: Hymns 1 &amp;amp; 2</td>\n",
              "      <td>[5558154950, B00014K5V4]</td>\n",
              "      <td></td>\n",
              "      <td>Second Chapter of Acts</td>\n",
              "      <td>[]</td>\n",
              "      <td>93,164 in CDs &amp; Vinyl (</td>\n",
              "      <td>[B000008KJ3, B000008KJ0, 5558154950, B000UN8KZ...</td>\n",
              "      <td>&lt;img src=\"https://images-na.ssl-images-amazon....</td>\n",
              "      <td></td>\n",
              "      <td></td>\n",
              "      <td></td>\n",
              "      <td>0001529145</td>\n",
              "      <td>[]</td>\n",
              "      <td>[]</td>\n",
              "      <td>NaN</td>\n",
              "    </tr>\n",
              "    <tr>\n",
              "      <th>2</th>\n",
              "      <td>[]</td>\n",
              "      <td></td>\n",
              "      <td>[]</td>\n",
              "      <td></td>\n",
              "      <td>Early Works - Don Francisco</td>\n",
              "      <td>[B00004RC05, B003H8F4NA, B003ZFVHPO, B003JMP1Z...</td>\n",
              "      <td></td>\n",
              "      <td>Don Francisco</td>\n",
              "      <td>[]</td>\n",
              "      <td>875,825 in CDs &amp; Vinyl (</td>\n",
              "      <td>[B003H8F4NA, B003ZFVHPO, B003JMP1ZK, B00004RC0...</td>\n",
              "      <td>&lt;img src=\"https://images-na.ssl-images-amazon....</td>\n",
              "      <td></td>\n",
              "      <td></td>\n",
              "      <td></td>\n",
              "      <td>0001527134</td>\n",
              "      <td>[]</td>\n",
              "      <td>[]</td>\n",
              "      <td>NaN</td>\n",
              "    </tr>\n",
              "    <tr>\n",
              "      <th>3</th>\n",
              "      <td>[]</td>\n",
              "      <td></td>\n",
              "      <td>[]</td>\n",
              "      <td></td>\n",
              "      <td>So You Wanna Go Back to Egypt</td>\n",
              "      <td>[B0000275QQ, 0001393774, 0001388312, B0016CP2G...</td>\n",
              "      <td></td>\n",
              "      <td>Keith Green</td>\n",
              "      <td>[]</td>\n",
              "      <td>203,263 in CDs &amp; Vinyl (</td>\n",
              "      <td>[B00000I7JO, B0016CP2GS, 0001393774, B0000275Q...</td>\n",
              "      <td>&lt;img src=\"https://images-na.ssl-images-amazon....</td>\n",
              "      <td></td>\n",
              "      <td></td>\n",
              "      <td>$13.01</td>\n",
              "      <td>0001388703</td>\n",
              "      <td>[]</td>\n",
              "      <td>[]</td>\n",
              "      <td>NaN</td>\n",
              "    </tr>\n",
              "    <tr>\n",
              "      <th>4</th>\n",
              "      <td>[]</td>\n",
              "      <td></td>\n",
              "      <td>[1. Losing Game 2. I Can't Wait 3. Didn't He S...</td>\n",
              "      <td></td>\n",
              "      <td>Early Works - Dallas Holm</td>\n",
              "      <td>[B0002N4JP2, 0760131694, B00002EQ79, B00150K8J...</td>\n",
              "      <td></td>\n",
              "      <td>Dallas Holm</td>\n",
              "      <td>[]</td>\n",
              "      <td>399,269 in CDs &amp; Vinyl (</td>\n",
              "      <td>[B0002N4JP2, 0760131694, B00150K8JC, B003MTXNV...</td>\n",
              "      <td>&lt;img src=\"https://images-na.ssl-images-amazon....</td>\n",
              "      <td></td>\n",
              "      <td></td>\n",
              "      <td></td>\n",
              "      <td>0001526146</td>\n",
              "      <td>[]</td>\n",
              "      <td>[]</td>\n",
              "      <td>NaN</td>\n",
              "    </tr>\n",
              "    <tr>\n",
              "      <th>...</th>\n",
              "      <td>...</td>\n",
              "      <td>...</td>\n",
              "      <td>...</td>\n",
              "      <td>...</td>\n",
              "      <td>...</td>\n",
              "      <td>...</td>\n",
              "      <td>...</td>\n",
              "      <td>...</td>\n",
              "      <td>...</td>\n",
              "      <td>...</td>\n",
              "      <td>...</td>\n",
              "      <td>...</td>\n",
              "      <td>...</td>\n",
              "      <td>...</td>\n",
              "      <td>...</td>\n",
              "      <td>...</td>\n",
              "      <td>...</td>\n",
              "      <td>...</td>\n",
              "      <td>...</td>\n",
              "    </tr>\n",
              "    <tr>\n",
              "      <th>74342</th>\n",
              "      <td>[]</td>\n",
              "      <td></td>\n",
              "      <td>[1. \"Free At Last\" Southside 1:21 2. \"Never Go...</td>\n",
              "      <td></td>\n",
              "      <td>FUTURE PRESENTS: 56 NIGHTS</td>\n",
              "      <td>[]</td>\n",
              "      <td></td>\n",
              "      <td>FUTURE</td>\n",
              "      <td>[]</td>\n",
              "      <td>695,581 in CDs &amp; Vinyl (</td>\n",
              "      <td>[]</td>\n",
              "      <td>&lt;img src=\"https://images-na.ssl-images-amazon....</td>\n",
              "      <td></td>\n",
              "      <td></td>\n",
              "      <td></td>\n",
              "      <td>B01HH7D5KU</td>\n",
              "      <td>[https://images-na.ssl-images-amazon.com/image...</td>\n",
              "      <td>[https://images-na.ssl-images-amazon.com/image...</td>\n",
              "      <td>{'Label:': 'FBG', 'ASIN:': 'B01HH7D5KU'}</td>\n",
              "    </tr>\n",
              "    <tr>\n",
              "      <th>74343</th>\n",
              "      <td>[]</td>\n",
              "      <td></td>\n",
              "      <td>[]</td>\n",
              "      <td></td>\n",
              "      <td>Tori Amos - Little Earthquakes? - Lp Vinyl Record</td>\n",
              "      <td>[]</td>\n",
              "      <td></td>\n",
              "      <td>Tori Amos</td>\n",
              "      <td>[]</td>\n",
              "      <td>1,577,399 in CDs &amp; Vinyl (</td>\n",
              "      <td>[]</td>\n",
              "      <td>&lt;img src=\"https://images-na.ssl-images-amazon....</td>\n",
              "      <td></td>\n",
              "      <td></td>\n",
              "      <td></td>\n",
              "      <td>B01HHGQXI2</td>\n",
              "      <td>[https://images-na.ssl-images-amazon.com/image...</td>\n",
              "      <td>[https://images-na.ssl-images-amazon.com/image...</td>\n",
              "      <td>{'Original Release Date:': '2015', 'Number of ...</td>\n",
              "    </tr>\n",
              "    <tr>\n",
              "      <th>74344</th>\n",
              "      <td>[]</td>\n",
              "      <td></td>\n",
              "      <td>[]</td>\n",
              "      <td></td>\n",
              "      <td>EXO - EX'ACT 3rd Album [Korean Lucky One Versi...</td>\n",
              "      <td>[B07HSM242F, B00VMJ1MMS, B077ZYR799, B00YSOAJG...</td>\n",
              "      <td></td>\n",
              "      <td>EXO</td>\n",
              "      <td>[]</td>\n",
              "      <td>130,165 in CDs &amp; Vinyl (</td>\n",
              "      <td>[B07HSM242F, B01KNSVGKQ, B077ZYR799, B075D9V4W...</td>\n",
              "      <td>&lt;img src=\"https://images-na.ssl-images-amazon....</td>\n",
              "      <td></td>\n",
              "      <td></td>\n",
              "      <td></td>\n",
              "      <td>B01HHRIKKK</td>\n",
              "      <td>[https://images-na.ssl-images-amazon.com/image...</td>\n",
              "      <td>[https://images-na.ssl-images-amazon.com/image...</td>\n",
              "      <td>{'ASIN:': 'B01HHRIKKK'}</td>\n",
              "    </tr>\n",
              "    <tr>\n",
              "      <th>74345</th>\n",
              "      <td>[]</td>\n",
              "      <td></td>\n",
              "      <td>[]</td>\n",
              "      <td></td>\n",
              "      <td>Vanilla Fudge (Korea Edition)</td>\n",
              "      <td>[]</td>\n",
              "      <td></td>\n",
              "      <td></td>\n",
              "      <td>[]</td>\n",
              "      <td>[]</td>\n",
              "      <td>[B000002IAK, B00019PDWU, B00000GX0F, B00000GX0...</td>\n",
              "      <td>&lt;img src=\"https://images-na.ssl-images-amazon....</td>\n",
              "      <td></td>\n",
              "      <td></td>\n",
              "      <td></td>\n",
              "      <td>B01HI2B3G2</td>\n",
              "      <td>[]</td>\n",
              "      <td>[]</td>\n",
              "      <td>{'ASIN:': 'B01HI2B3G2'}</td>\n",
              "    </tr>\n",
              "    <tr>\n",
              "      <th>74346</th>\n",
              "      <td>[]</td>\n",
              "      <td></td>\n",
              "      <td>[album 2016: 01.Autogram 02.Dobrotvorne svrhe ...</td>\n",
              "      <td></td>\n",
              "      <td>CD Svetlana Ceca Raznatovic New Album 2016 Aut...</td>\n",
              "      <td>[8652700087]</td>\n",
              "      <td></td>\n",
              "      <td>Svetlana Ceca Raznatovic</td>\n",
              "      <td>[]</td>\n",
              "      <td>159,741 in CDs &amp; Vinyl (</td>\n",
              "      <td>[]</td>\n",
              "      <td>&lt;img src=\"https://images-na.ssl-images-amazon....</td>\n",
              "      <td></td>\n",
              "      <td></td>\n",
              "      <td>$9.39</td>\n",
              "      <td>B01HIT3KZC</td>\n",
              "      <td>[https://images-na.ssl-images-amazon.com/image...</td>\n",
              "      <td>[https://images-na.ssl-images-amazon.com/image...</td>\n",
              "      <td>{'Number of Discs:': '1', 'ASIN:': 'B01HIT3KZC'}</td>\n",
              "    </tr>\n",
              "  </tbody>\n",
              "</table>\n",
              "<p>74347 rows × 19 columns</p>\n",
              "</div>\n",
              "      <button class=\"colab-df-convert\" onclick=\"convertToInteractive('df-7f971cc9-0040-428d-8771-16da6579886c')\"\n",
              "              title=\"Convert this dataframe to an interactive table.\"\n",
              "              style=\"display:none;\">\n",
              "        \n",
              "  <svg xmlns=\"http://www.w3.org/2000/svg\" height=\"24px\"viewBox=\"0 0 24 24\"\n",
              "       width=\"24px\">\n",
              "    <path d=\"M0 0h24v24H0V0z\" fill=\"none\"/>\n",
              "    <path d=\"M18.56 5.44l.94 2.06.94-2.06 2.06-.94-2.06-.94-.94-2.06-.94 2.06-2.06.94zm-11 1L8.5 8.5l.94-2.06 2.06-.94-2.06-.94L8.5 2.5l-.94 2.06-2.06.94zm10 10l.94 2.06.94-2.06 2.06-.94-2.06-.94-.94-2.06-.94 2.06-2.06.94z\"/><path d=\"M17.41 7.96l-1.37-1.37c-.4-.4-.92-.59-1.43-.59-.52 0-1.04.2-1.43.59L10.3 9.45l-7.72 7.72c-.78.78-.78 2.05 0 2.83L4 21.41c.39.39.9.59 1.41.59.51 0 1.02-.2 1.41-.59l7.78-7.78 2.81-2.81c.8-.78.8-2.07 0-2.86zM5.41 20L4 18.59l7.72-7.72 1.47 1.35L5.41 20z\"/>\n",
              "  </svg>\n",
              "      </button>\n",
              "      \n",
              "  <style>\n",
              "    .colab-df-container {\n",
              "      display:flex;\n",
              "      flex-wrap:wrap;\n",
              "      gap: 12px;\n",
              "    }\n",
              "\n",
              "    .colab-df-convert {\n",
              "      background-color: #E8F0FE;\n",
              "      border: none;\n",
              "      border-radius: 50%;\n",
              "      cursor: pointer;\n",
              "      display: none;\n",
              "      fill: #1967D2;\n",
              "      height: 32px;\n",
              "      padding: 0 0 0 0;\n",
              "      width: 32px;\n",
              "    }\n",
              "\n",
              "    .colab-df-convert:hover {\n",
              "      background-color: #E2EBFA;\n",
              "      box-shadow: 0px 1px 2px rgba(60, 64, 67, 0.3), 0px 1px 3px 1px rgba(60, 64, 67, 0.15);\n",
              "      fill: #174EA6;\n",
              "    }\n",
              "\n",
              "    [theme=dark] .colab-df-convert {\n",
              "      background-color: #3B4455;\n",
              "      fill: #D2E3FC;\n",
              "    }\n",
              "\n",
              "    [theme=dark] .colab-df-convert:hover {\n",
              "      background-color: #434B5C;\n",
              "      box-shadow: 0px 1px 3px 1px rgba(0, 0, 0, 0.15);\n",
              "      filter: drop-shadow(0px 1px 2px rgba(0, 0, 0, 0.3));\n",
              "      fill: #FFFFFF;\n",
              "    }\n",
              "  </style>\n",
              "\n",
              "      <script>\n",
              "        const buttonEl =\n",
              "          document.querySelector('#df-7f971cc9-0040-428d-8771-16da6579886c button.colab-df-convert');\n",
              "        buttonEl.style.display =\n",
              "          google.colab.kernel.accessAllowed ? 'block' : 'none';\n",
              "\n",
              "        async function convertToInteractive(key) {\n",
              "          const element = document.querySelector('#df-7f971cc9-0040-428d-8771-16da6579886c');\n",
              "          const dataTable =\n",
              "            await google.colab.kernel.invokeFunction('convertToInteractive',\n",
              "                                                     [key], {});\n",
              "          if (!dataTable) return;\n",
              "\n",
              "          const docLinkHtml = 'Like what you see? Visit the ' +\n",
              "            '<a target=\"_blank\" href=https://colab.research.google.com/notebooks/data_table.ipynb>data table notebook</a>'\n",
              "            + ' to learn more about interactive tables.';\n",
              "          element.innerHTML = '';\n",
              "          dataTable['output_type'] = 'display_data';\n",
              "          await google.colab.output.renderOutput(dataTable, element);\n",
              "          const docLink = document.createElement('div');\n",
              "          docLink.innerHTML = docLinkHtml;\n",
              "          element.appendChild(docLink);\n",
              "        }\n",
              "      </script>\n",
              "    </div>\n",
              "  </div>\n",
              "  "
            ]
          },
          "metadata": {},
          "execution_count": 46
        }
      ]
    },
    {
      "cell_type": "code",
      "source": [
        "np.unique(df1.category)"
      ],
      "metadata": {
        "colab": {
          "base_uri": "https://localhost:8080/"
        },
        "id": "ElfA_AcRSTho",
        "outputId": "e24cf634-4dc0-4ed7-f1ec-24f7eaab693b"
      },
      "execution_count": null,
      "outputs": [
        {
          "output_type": "execute_result",
          "data": {
            "text/plain": [
              "array([list([]), list(['Digital Music', 'Alternative Rock']),\n",
              "       list(['Digital Music', 'Blues']),\n",
              "       list(['Digital Music', 'Blues', 'Electric Blues Guitar']),\n",
              "       list(['Digital Music', 'Broadway & Vocalists']),\n",
              "       list(['Digital Music', 'Folk']), list(['Digital Music', 'Jazz']),\n",
              "       list(['Digital Music', 'Miscellaneous', 'Poetry, Spoken Word & Interviews'])],\n",
              "      dtype=object)"
            ]
          },
          "metadata": {},
          "execution_count": 47
        }
      ]
    },
    {
      "cell_type": "code",
      "source": [
        "len(np.unique(df1.asin))"
      ],
      "metadata": {
        "colab": {
          "base_uri": "https://localhost:8080/"
        },
        "id": "W6rl8U3ojMWI",
        "outputId": "ee631f67-ee77-46f1-b3d9-a3452a0b784a"
      },
      "execution_count": null,
      "outputs": [
        {
          "output_type": "execute_result",
          "data": {
            "text/plain": [
              "66013"
            ]
          },
          "metadata": {},
          "execution_count": 13
        }
      ]
    },
    {
      "cell_type": "markdown",
      "source": [
        "### LOADING DATA"
      ],
      "metadata": {
        "id": "dcaXDewHycW7"
      }
    },
    {
      "cell_type": "code",
      "source": [
        "### load the data\n",
        "\n",
        "data = []\n",
        "with gzip.open('/content/drive/MyDrive/data_for_lab/RS_final_assignment/Digital_Music.json.gz') as f:\n",
        "    for l in f:\n",
        "        data.append(json.loads(l.strip()))\n",
        "    \n",
        "# total length of list, this number equals total number of products\n",
        "print(len(data))\n",
        "\n",
        "# first row of the list\n",
        "print(data[0])"
      ],
      "metadata": {
        "colab": {
          "base_uri": "https://localhost:8080/"
        },
        "id": "pxoXtunVAtId",
        "outputId": "483dbab2-8645-4492-cd2e-80d786a04d45"
      },
      "execution_count": null,
      "outputs": [
        {
          "output_type": "stream",
          "name": "stdout",
          "text": [
            "1584082\n",
            "{'overall': 5.0, 'verified': True, 'reviewTime': '12 22, 2013', 'reviewerID': 'A1ZCPG3D3HGRSS', 'asin': '0001388703', 'style': {'Format:': ' Audio CD'}, 'reviewerName': 'mark l. massey', 'reviewText': 'This is a great cd full of worship favorites!!  All time great Keith green songs. His best album by far.', 'summary': 'Great worship cd', 'unixReviewTime': 1387670400}\n"
          ]
        }
      ]
    },
    {
      "cell_type": "code",
      "source": [
        "\n",
        "df = pd.DataFrame.from_dict(data)\n",
        "\n",
        "print(len(df))"
      ],
      "metadata": {
        "colab": {
          "base_uri": "https://localhost:8080/"
        },
        "id": "m-BC9WF1CtJS",
        "outputId": "da1e3ecf-2018-439b-d118-c8f512f1926a"
      },
      "execution_count": null,
      "outputs": [
        {
          "output_type": "stream",
          "name": "stdout",
          "text": [
            "1584082\n"
          ]
        }
      ]
    },
    {
      "cell_type": "code",
      "source": [
        "df"
      ],
      "metadata": {
        "colab": {
          "base_uri": "https://localhost:8080/",
          "height": 1000
        },
        "id": "TmFh0Ov9Cx52",
        "outputId": "e778a78a-dcf8-4880-bcbf-8b61cd59767c"
      },
      "execution_count": null,
      "outputs": [
        {
          "output_type": "execute_result",
          "data": {
            "text/plain": [
              "         overall  verified   reviewTime      reviewerID        asin  \\\n",
              "0            5.0      True  12 22, 2013  A1ZCPG3D3HGRSS  0001388703   \n",
              "1            5.0      True  09 11, 2013   AC2PL52NKPL29  0001388703   \n",
              "2            5.0      True   03 2, 2013  A1SUZXBDZSDQ3A  0001388703   \n",
              "3            5.0      True   12 2, 2012  A3A0W7FZXM0IZW  0001388703   \n",
              "4            5.0     False   01 7, 2012  A12R54MKO17TW0  0001388703   \n",
              "...          ...       ...          ...             ...         ...   \n",
              "1584077      5.0      True   03 3, 2018   AR3KABMPL5L0O  B01HJ91P94   \n",
              "1584078      4.0      True  01 24, 2018  A2N53GHW73INDH  B01HJ91P94   \n",
              "1584079      5.0      True  04 21, 2017   ABNKLDCCVJKW1  B01HJ91P94   \n",
              "1584080      5.0      True  02 23, 2018   AMWSDABZWFRAT  B01HJ91IVY   \n",
              "1584081      5.0      True  05 17, 2017   A7K5263R5OUIP  B01HJ91IVY   \n",
              "\n",
              "                             style        reviewerName  \\\n",
              "0         {'Format:': ' Audio CD'}      mark l. massey   \n",
              "1         {'Format:': ' Audio CD'}        Norma Mushen   \n",
              "2         {'Format:': ' Audio CD'}  Herbert W. Shurley   \n",
              "3         {'Format:': ' Audio CD'}      Mary M Raybell   \n",
              "4         {'Format:': ' Audio CD'}            J. Bynum   \n",
              "...                            ...                 ...   \n",
              "1584077  {'Format:': ' MP3 Music'}          Shar Solis   \n",
              "1584078  {'Format:': ' MP3 Music'}              PEANUT   \n",
              "1584079  {'Format:': ' MP3 Music'}                Alex   \n",
              "1584080  {'Format:': ' MP3 Music'}         sara cabuag   \n",
              "1584081  {'Format:': ' MP3 Music'}          K. Elliott   \n",
              "\n",
              "                                                reviewText  \\\n",
              "0        This is a great cd full of worship favorites!!...   \n",
              "1        So creative!  Love his music - the words, the ...   \n",
              "2        Keith Green, gone far to early in his carreer,...   \n",
              "3        Keith Green had his special comedy style of Ch...   \n",
              "4        Keith Green / So you wanna go back to Egypt......   \n",
              "...                                                    ...   \n",
              "1584077  Casting Crowns....you do it so well! Awesome s...   \n",
              "1584078  This band has produced many inspiring Christia...   \n",
              "1584079  Awesome band and awesome song. This is my next...   \n",
              "1584080                                          Excellent   \n",
              "1584081  This is a moving song. I used it on Easter mor...   \n",
              "\n",
              "                                                   summary  unixReviewTime  \\\n",
              "0                                         Great worship cd      1387670400   \n",
              "1                                    Gotta listen to this!      1378857600   \n",
              "2                Great approach still gets the message out      1362182400   \n",
              "3                                        Great A must have      1354406400   \n",
              "4        A great one from Keith with a guest appearance...      1325894400   \n",
              "...                                                    ...             ...   \n",
              "1584077                                      Awesome song!      1520035200   \n",
              "1584078  This song in particular speaks about what it's...      1516752000   \n",
              "1584079                                         Five Stars      1492732800   \n",
              "1584080                                         Five Stars      1519344000   \n",
              "1584081                      Casting Crowns does it again!      1494979200   \n",
              "\n",
              "        vote image  \n",
              "0        NaN   NaN  \n",
              "1        NaN   NaN  \n",
              "2        NaN   NaN  \n",
              "3        NaN   NaN  \n",
              "4          6   NaN  \n",
              "...      ...   ...  \n",
              "1584077  NaN   NaN  \n",
              "1584078  NaN   NaN  \n",
              "1584079  NaN   NaN  \n",
              "1584080  NaN   NaN  \n",
              "1584081  NaN   NaN  \n",
              "\n",
              "[1584082 rows x 12 columns]"
            ],
            "text/html": [
              "\n",
              "  <div id=\"df-0c32987e-2792-4608-9235-57d06f012fa7\">\n",
              "    <div class=\"colab-df-container\">\n",
              "      <div>\n",
              "<style scoped>\n",
              "    .dataframe tbody tr th:only-of-type {\n",
              "        vertical-align: middle;\n",
              "    }\n",
              "\n",
              "    .dataframe tbody tr th {\n",
              "        vertical-align: top;\n",
              "    }\n",
              "\n",
              "    .dataframe thead th {\n",
              "        text-align: right;\n",
              "    }\n",
              "</style>\n",
              "<table border=\"1\" class=\"dataframe\">\n",
              "  <thead>\n",
              "    <tr style=\"text-align: right;\">\n",
              "      <th></th>\n",
              "      <th>overall</th>\n",
              "      <th>verified</th>\n",
              "      <th>reviewTime</th>\n",
              "      <th>reviewerID</th>\n",
              "      <th>asin</th>\n",
              "      <th>style</th>\n",
              "      <th>reviewerName</th>\n",
              "      <th>reviewText</th>\n",
              "      <th>summary</th>\n",
              "      <th>unixReviewTime</th>\n",
              "      <th>vote</th>\n",
              "      <th>image</th>\n",
              "    </tr>\n",
              "  </thead>\n",
              "  <tbody>\n",
              "    <tr>\n",
              "      <th>0</th>\n",
              "      <td>5.0</td>\n",
              "      <td>True</td>\n",
              "      <td>12 22, 2013</td>\n",
              "      <td>A1ZCPG3D3HGRSS</td>\n",
              "      <td>0001388703</td>\n",
              "      <td>{'Format:': ' Audio CD'}</td>\n",
              "      <td>mark l. massey</td>\n",
              "      <td>This is a great cd full of worship favorites!!...</td>\n",
              "      <td>Great worship cd</td>\n",
              "      <td>1387670400</td>\n",
              "      <td>NaN</td>\n",
              "      <td>NaN</td>\n",
              "    </tr>\n",
              "    <tr>\n",
              "      <th>1</th>\n",
              "      <td>5.0</td>\n",
              "      <td>True</td>\n",
              "      <td>09 11, 2013</td>\n",
              "      <td>AC2PL52NKPL29</td>\n",
              "      <td>0001388703</td>\n",
              "      <td>{'Format:': ' Audio CD'}</td>\n",
              "      <td>Norma Mushen</td>\n",
              "      <td>So creative!  Love his music - the words, the ...</td>\n",
              "      <td>Gotta listen to this!</td>\n",
              "      <td>1378857600</td>\n",
              "      <td>NaN</td>\n",
              "      <td>NaN</td>\n",
              "    </tr>\n",
              "    <tr>\n",
              "      <th>2</th>\n",
              "      <td>5.0</td>\n",
              "      <td>True</td>\n",
              "      <td>03 2, 2013</td>\n",
              "      <td>A1SUZXBDZSDQ3A</td>\n",
              "      <td>0001388703</td>\n",
              "      <td>{'Format:': ' Audio CD'}</td>\n",
              "      <td>Herbert W. Shurley</td>\n",
              "      <td>Keith Green, gone far to early in his carreer,...</td>\n",
              "      <td>Great approach still gets the message out</td>\n",
              "      <td>1362182400</td>\n",
              "      <td>NaN</td>\n",
              "      <td>NaN</td>\n",
              "    </tr>\n",
              "    <tr>\n",
              "      <th>3</th>\n",
              "      <td>5.0</td>\n",
              "      <td>True</td>\n",
              "      <td>12 2, 2012</td>\n",
              "      <td>A3A0W7FZXM0IZW</td>\n",
              "      <td>0001388703</td>\n",
              "      <td>{'Format:': ' Audio CD'}</td>\n",
              "      <td>Mary M Raybell</td>\n",
              "      <td>Keith Green had his special comedy style of Ch...</td>\n",
              "      <td>Great A must have</td>\n",
              "      <td>1354406400</td>\n",
              "      <td>NaN</td>\n",
              "      <td>NaN</td>\n",
              "    </tr>\n",
              "    <tr>\n",
              "      <th>4</th>\n",
              "      <td>5.0</td>\n",
              "      <td>False</td>\n",
              "      <td>01 7, 2012</td>\n",
              "      <td>A12R54MKO17TW0</td>\n",
              "      <td>0001388703</td>\n",
              "      <td>{'Format:': ' Audio CD'}</td>\n",
              "      <td>J. Bynum</td>\n",
              "      <td>Keith Green / So you wanna go back to Egypt......</td>\n",
              "      <td>A great one from Keith with a guest appearance...</td>\n",
              "      <td>1325894400</td>\n",
              "      <td>6</td>\n",
              "      <td>NaN</td>\n",
              "    </tr>\n",
              "    <tr>\n",
              "      <th>...</th>\n",
              "      <td>...</td>\n",
              "      <td>...</td>\n",
              "      <td>...</td>\n",
              "      <td>...</td>\n",
              "      <td>...</td>\n",
              "      <td>...</td>\n",
              "      <td>...</td>\n",
              "      <td>...</td>\n",
              "      <td>...</td>\n",
              "      <td>...</td>\n",
              "      <td>...</td>\n",
              "      <td>...</td>\n",
              "    </tr>\n",
              "    <tr>\n",
              "      <th>1584077</th>\n",
              "      <td>5.0</td>\n",
              "      <td>True</td>\n",
              "      <td>03 3, 2018</td>\n",
              "      <td>AR3KABMPL5L0O</td>\n",
              "      <td>B01HJ91P94</td>\n",
              "      <td>{'Format:': ' MP3 Music'}</td>\n",
              "      <td>Shar Solis</td>\n",
              "      <td>Casting Crowns....you do it so well! Awesome s...</td>\n",
              "      <td>Awesome song!</td>\n",
              "      <td>1520035200</td>\n",
              "      <td>NaN</td>\n",
              "      <td>NaN</td>\n",
              "    </tr>\n",
              "    <tr>\n",
              "      <th>1584078</th>\n",
              "      <td>4.0</td>\n",
              "      <td>True</td>\n",
              "      <td>01 24, 2018</td>\n",
              "      <td>A2N53GHW73INDH</td>\n",
              "      <td>B01HJ91P94</td>\n",
              "      <td>{'Format:': ' MP3 Music'}</td>\n",
              "      <td>PEANUT</td>\n",
              "      <td>This band has produced many inspiring Christia...</td>\n",
              "      <td>This song in particular speaks about what it's...</td>\n",
              "      <td>1516752000</td>\n",
              "      <td>NaN</td>\n",
              "      <td>NaN</td>\n",
              "    </tr>\n",
              "    <tr>\n",
              "      <th>1584079</th>\n",
              "      <td>5.0</td>\n",
              "      <td>True</td>\n",
              "      <td>04 21, 2017</td>\n",
              "      <td>ABNKLDCCVJKW1</td>\n",
              "      <td>B01HJ91P94</td>\n",
              "      <td>{'Format:': ' MP3 Music'}</td>\n",
              "      <td>Alex</td>\n",
              "      <td>Awesome band and awesome song. This is my next...</td>\n",
              "      <td>Five Stars</td>\n",
              "      <td>1492732800</td>\n",
              "      <td>NaN</td>\n",
              "      <td>NaN</td>\n",
              "    </tr>\n",
              "    <tr>\n",
              "      <th>1584080</th>\n",
              "      <td>5.0</td>\n",
              "      <td>True</td>\n",
              "      <td>02 23, 2018</td>\n",
              "      <td>AMWSDABZWFRAT</td>\n",
              "      <td>B01HJ91IVY</td>\n",
              "      <td>{'Format:': ' MP3 Music'}</td>\n",
              "      <td>sara cabuag</td>\n",
              "      <td>Excellent</td>\n",
              "      <td>Five Stars</td>\n",
              "      <td>1519344000</td>\n",
              "      <td>NaN</td>\n",
              "      <td>NaN</td>\n",
              "    </tr>\n",
              "    <tr>\n",
              "      <th>1584081</th>\n",
              "      <td>5.0</td>\n",
              "      <td>True</td>\n",
              "      <td>05 17, 2017</td>\n",
              "      <td>A7K5263R5OUIP</td>\n",
              "      <td>B01HJ91IVY</td>\n",
              "      <td>{'Format:': ' MP3 Music'}</td>\n",
              "      <td>K. Elliott</td>\n",
              "      <td>This is a moving song. I used it on Easter mor...</td>\n",
              "      <td>Casting Crowns does it again!</td>\n",
              "      <td>1494979200</td>\n",
              "      <td>NaN</td>\n",
              "      <td>NaN</td>\n",
              "    </tr>\n",
              "  </tbody>\n",
              "</table>\n",
              "<p>1584082 rows × 12 columns</p>\n",
              "</div>\n",
              "      <button class=\"colab-df-convert\" onclick=\"convertToInteractive('df-0c32987e-2792-4608-9235-57d06f012fa7')\"\n",
              "              title=\"Convert this dataframe to an interactive table.\"\n",
              "              style=\"display:none;\">\n",
              "        \n",
              "  <svg xmlns=\"http://www.w3.org/2000/svg\" height=\"24px\"viewBox=\"0 0 24 24\"\n",
              "       width=\"24px\">\n",
              "    <path d=\"M0 0h24v24H0V0z\" fill=\"none\"/>\n",
              "    <path d=\"M18.56 5.44l.94 2.06.94-2.06 2.06-.94-2.06-.94-.94-2.06-.94 2.06-2.06.94zm-11 1L8.5 8.5l.94-2.06 2.06-.94-2.06-.94L8.5 2.5l-.94 2.06-2.06.94zm10 10l.94 2.06.94-2.06 2.06-.94-2.06-.94-.94-2.06-.94 2.06-2.06.94z\"/><path d=\"M17.41 7.96l-1.37-1.37c-.4-.4-.92-.59-1.43-.59-.52 0-1.04.2-1.43.59L10.3 9.45l-7.72 7.72c-.78.78-.78 2.05 0 2.83L4 21.41c.39.39.9.59 1.41.59.51 0 1.02-.2 1.41-.59l7.78-7.78 2.81-2.81c.8-.78.8-2.07 0-2.86zM5.41 20L4 18.59l7.72-7.72 1.47 1.35L5.41 20z\"/>\n",
              "  </svg>\n",
              "      </button>\n",
              "      \n",
              "  <style>\n",
              "    .colab-df-container {\n",
              "      display:flex;\n",
              "      flex-wrap:wrap;\n",
              "      gap: 12px;\n",
              "    }\n",
              "\n",
              "    .colab-df-convert {\n",
              "      background-color: #E8F0FE;\n",
              "      border: none;\n",
              "      border-radius: 50%;\n",
              "      cursor: pointer;\n",
              "      display: none;\n",
              "      fill: #1967D2;\n",
              "      height: 32px;\n",
              "      padding: 0 0 0 0;\n",
              "      width: 32px;\n",
              "    }\n",
              "\n",
              "    .colab-df-convert:hover {\n",
              "      background-color: #E2EBFA;\n",
              "      box-shadow: 0px 1px 2px rgba(60, 64, 67, 0.3), 0px 1px 3px 1px rgba(60, 64, 67, 0.15);\n",
              "      fill: #174EA6;\n",
              "    }\n",
              "\n",
              "    [theme=dark] .colab-df-convert {\n",
              "      background-color: #3B4455;\n",
              "      fill: #D2E3FC;\n",
              "    }\n",
              "\n",
              "    [theme=dark] .colab-df-convert:hover {\n",
              "      background-color: #434B5C;\n",
              "      box-shadow: 0px 1px 3px 1px rgba(0, 0, 0, 0.15);\n",
              "      filter: drop-shadow(0px 1px 2px rgba(0, 0, 0, 0.3));\n",
              "      fill: #FFFFFF;\n",
              "    }\n",
              "  </style>\n",
              "\n",
              "      <script>\n",
              "        const buttonEl =\n",
              "          document.querySelector('#df-0c32987e-2792-4608-9235-57d06f012fa7 button.colab-df-convert');\n",
              "        buttonEl.style.display =\n",
              "          google.colab.kernel.accessAllowed ? 'block' : 'none';\n",
              "\n",
              "        async function convertToInteractive(key) {\n",
              "          const element = document.querySelector('#df-0c32987e-2792-4608-9235-57d06f012fa7');\n",
              "          const dataTable =\n",
              "            await google.colab.kernel.invokeFunction('convertToInteractive',\n",
              "                                                     [key], {});\n",
              "          if (!dataTable) return;\n",
              "\n",
              "          const docLinkHtml = 'Like what you see? Visit the ' +\n",
              "            '<a target=\"_blank\" href=https://colab.research.google.com/notebooks/data_table.ipynb>data table notebook</a>'\n",
              "            + ' to learn more about interactive tables.';\n",
              "          element.innerHTML = '';\n",
              "          dataTable['output_type'] = 'display_data';\n",
              "          await google.colab.output.renderOutput(dataTable, element);\n",
              "          const docLink = document.createElement('div');\n",
              "          docLink.innerHTML = docLinkHtml;\n",
              "          element.appendChild(docLink);\n",
              "        }\n",
              "      </script>\n",
              "    </div>\n",
              "  </div>\n",
              "  "
            ]
          },
          "metadata": {},
          "execution_count": 6
        }
      ]
    },
    {
      "cell_type": "code",
      "source": [
        "df[~df['vote'].isnull()]"
      ],
      "metadata": {
        "colab": {
          "base_uri": "https://localhost:8080/",
          "height": 1000
        },
        "id": "4so2Jl0j2ZQp",
        "outputId": "837f1bbe-51f6-4ebe-9ff5-c279778fe4b0"
      },
      "execution_count": null,
      "outputs": [
        {
          "output_type": "execute_result",
          "data": {
            "text/plain": [
              "         overall  verified   reviewTime      reviewerID        asin  \\\n",
              "4            5.0     False   01 7, 2012  A12R54MKO17TW0  0001388703   \n",
              "5            5.0     False   07 8, 2009  A25ZT87OMIPLNX  0001388703   \n",
              "7            5.0     False   05 4, 2008   AT7OB43GHKIUA  0001388703   \n",
              "17           5.0      True  02 25, 2014  A2A3M3HVVGT9XY  0001388703   \n",
              "55           5.0     False  09 24, 2004  A1HIDFB1RWDEJ9  0001527134   \n",
              "...          ...       ...          ...             ...         ...   \n",
              "1584066      5.0     False   07 2, 2016  A3LRKLWH20WAN0  B01HJ8ZXRK   \n",
              "1584067      5.0     False  06 30, 2016   AH7NABGKD1YCB  B01HJ8ZXRK   \n",
              "1584068      5.0     False  06 29, 2016  A2TA40N948Q48H  B01HJ8ZXRK   \n",
              "1584069      5.0      True  06 28, 2016  A16DHJS7IQX39Y  B01HJ8ZXRK   \n",
              "1584070      5.0     False  06 28, 2016  A11TKNVEKMUSMU  B01HJ8ZXRK   \n",
              "\n",
              "                             style        reviewerName  \\\n",
              "4         {'Format:': ' Audio CD'}            J. Bynum   \n",
              "5        {'Format:': ' MP3 Music'}  Mark the Pizza guy   \n",
              "7         {'Format:': ' Audio CD'}    William G. Simon   \n",
              "17       {'Format:': ' MP3 Music'}               Bryan   \n",
              "55        {'Format:': ' Audio CD'}    Joshua L. Wilson   \n",
              "...                            ...                 ...   \n",
              "1584066  {'Format:': ' MP3 Music'}         Deanna Pino   \n",
              "1584067  {'Format:': ' MP3 Music'}         Kirk A Mann   \n",
              "1584068  {'Format:': ' MP3 Music'}              denise   \n",
              "1584069  {'Format:': ' MP3 Music'}       Bryan Ashmore   \n",
              "1584070  {'Format:': ' MP3 Music'}     Amazon Customer   \n",
              "\n",
              "                                                reviewText  \\\n",
              "4        Keith Green / So you wanna go back to Egypt......   \n",
              "5        Clever,inspired and moving. This is a great al...   \n",
              "7        Keith Green is a bit of legend in some Christi...   \n",
              "17       Keith's music is a timeless message.  Since hi...   \n",
              "55       Don Francisco's \"Early Works\" are filled with ...   \n",
              "...                                                    ...   \n",
              "1584066  Beautifully crafted produced songs with melodi...   \n",
              "1584067  Fantastic first EP from gifted singer songwrit...   \n",
              "1584068  I can't get Highwire out of my head! Speaks to...   \n",
              "1584069  Shelby Figueroa is a welcome breath of fresh a...   \n",
              "1584070  What a wonderful voice on this lady! I loved t...   \n",
              "\n",
              "                                                   summary  unixReviewTime  \\\n",
              "4        A great one from Keith with a guest appearance...      1325894400   \n",
              "5                                                   AWSOME      1247011200   \n",
              "7        Heartfelt, Passionate and Funny - Green is Mas...      1209859200   \n",
              "17                                          Never Gets Old      1393286400   \n",
              "55       The Early Works is filled with passion and hum...      1095984000   \n",
              "...                                                    ...             ...   \n",
              "1584066                                    Just Beautiful!      1467417600   \n",
              "1584067                            Outstanding New Artist!      1467244800   \n",
              "1584068                                               Wow!      1467158400   \n",
              "1584069  Highwire is a beautiful snapshot of a woman fi...      1467072000   \n",
              "1584070                             Listening on repeat...      1467072000   \n",
              "\n",
              "        vote image  \n",
              "4          6   NaN  \n",
              "5          2   NaN  \n",
              "7         10   NaN  \n",
              "17         2   NaN  \n",
              "55        16   NaN  \n",
              "...      ...   ...  \n",
              "1584066    3   NaN  \n",
              "1584067    3   NaN  \n",
              "1584068    3   NaN  \n",
              "1584069    4   NaN  \n",
              "1584070    2   NaN  \n",
              "\n",
              "[124722 rows x 12 columns]"
            ],
            "text/html": [
              "\n",
              "  <div id=\"df-6843856a-ba9c-4736-9ef9-e230fbb1627c\">\n",
              "    <div class=\"colab-df-container\">\n",
              "      <div>\n",
              "<style scoped>\n",
              "    .dataframe tbody tr th:only-of-type {\n",
              "        vertical-align: middle;\n",
              "    }\n",
              "\n",
              "    .dataframe tbody tr th {\n",
              "        vertical-align: top;\n",
              "    }\n",
              "\n",
              "    .dataframe thead th {\n",
              "        text-align: right;\n",
              "    }\n",
              "</style>\n",
              "<table border=\"1\" class=\"dataframe\">\n",
              "  <thead>\n",
              "    <tr style=\"text-align: right;\">\n",
              "      <th></th>\n",
              "      <th>overall</th>\n",
              "      <th>verified</th>\n",
              "      <th>reviewTime</th>\n",
              "      <th>reviewerID</th>\n",
              "      <th>asin</th>\n",
              "      <th>style</th>\n",
              "      <th>reviewerName</th>\n",
              "      <th>reviewText</th>\n",
              "      <th>summary</th>\n",
              "      <th>unixReviewTime</th>\n",
              "      <th>vote</th>\n",
              "      <th>image</th>\n",
              "    </tr>\n",
              "  </thead>\n",
              "  <tbody>\n",
              "    <tr>\n",
              "      <th>4</th>\n",
              "      <td>5.0</td>\n",
              "      <td>False</td>\n",
              "      <td>01 7, 2012</td>\n",
              "      <td>A12R54MKO17TW0</td>\n",
              "      <td>0001388703</td>\n",
              "      <td>{'Format:': ' Audio CD'}</td>\n",
              "      <td>J. Bynum</td>\n",
              "      <td>Keith Green / So you wanna go back to Egypt......</td>\n",
              "      <td>A great one from Keith with a guest appearance...</td>\n",
              "      <td>1325894400</td>\n",
              "      <td>6</td>\n",
              "      <td>NaN</td>\n",
              "    </tr>\n",
              "    <tr>\n",
              "      <th>5</th>\n",
              "      <td>5.0</td>\n",
              "      <td>False</td>\n",
              "      <td>07 8, 2009</td>\n",
              "      <td>A25ZT87OMIPLNX</td>\n",
              "      <td>0001388703</td>\n",
              "      <td>{'Format:': ' MP3 Music'}</td>\n",
              "      <td>Mark the Pizza guy</td>\n",
              "      <td>Clever,inspired and moving. This is a great al...</td>\n",
              "      <td>AWSOME</td>\n",
              "      <td>1247011200</td>\n",
              "      <td>2</td>\n",
              "      <td>NaN</td>\n",
              "    </tr>\n",
              "    <tr>\n",
              "      <th>7</th>\n",
              "      <td>5.0</td>\n",
              "      <td>False</td>\n",
              "      <td>05 4, 2008</td>\n",
              "      <td>AT7OB43GHKIUA</td>\n",
              "      <td>0001388703</td>\n",
              "      <td>{'Format:': ' Audio CD'}</td>\n",
              "      <td>William G. Simon</td>\n",
              "      <td>Keith Green is a bit of legend in some Christi...</td>\n",
              "      <td>Heartfelt, Passionate and Funny - Green is Mas...</td>\n",
              "      <td>1209859200</td>\n",
              "      <td>10</td>\n",
              "      <td>NaN</td>\n",
              "    </tr>\n",
              "    <tr>\n",
              "      <th>17</th>\n",
              "      <td>5.0</td>\n",
              "      <td>True</td>\n",
              "      <td>02 25, 2014</td>\n",
              "      <td>A2A3M3HVVGT9XY</td>\n",
              "      <td>0001388703</td>\n",
              "      <td>{'Format:': ' MP3 Music'}</td>\n",
              "      <td>Bryan</td>\n",
              "      <td>Keith's music is a timeless message.  Since hi...</td>\n",
              "      <td>Never Gets Old</td>\n",
              "      <td>1393286400</td>\n",
              "      <td>2</td>\n",
              "      <td>NaN</td>\n",
              "    </tr>\n",
              "    <tr>\n",
              "      <th>55</th>\n",
              "      <td>5.0</td>\n",
              "      <td>False</td>\n",
              "      <td>09 24, 2004</td>\n",
              "      <td>A1HIDFB1RWDEJ9</td>\n",
              "      <td>0001527134</td>\n",
              "      <td>{'Format:': ' Audio CD'}</td>\n",
              "      <td>Joshua L. Wilson</td>\n",
              "      <td>Don Francisco's \"Early Works\" are filled with ...</td>\n",
              "      <td>The Early Works is filled with passion and hum...</td>\n",
              "      <td>1095984000</td>\n",
              "      <td>16</td>\n",
              "      <td>NaN</td>\n",
              "    </tr>\n",
              "    <tr>\n",
              "      <th>...</th>\n",
              "      <td>...</td>\n",
              "      <td>...</td>\n",
              "      <td>...</td>\n",
              "      <td>...</td>\n",
              "      <td>...</td>\n",
              "      <td>...</td>\n",
              "      <td>...</td>\n",
              "      <td>...</td>\n",
              "      <td>...</td>\n",
              "      <td>...</td>\n",
              "      <td>...</td>\n",
              "      <td>...</td>\n",
              "    </tr>\n",
              "    <tr>\n",
              "      <th>1584066</th>\n",
              "      <td>5.0</td>\n",
              "      <td>False</td>\n",
              "      <td>07 2, 2016</td>\n",
              "      <td>A3LRKLWH20WAN0</td>\n",
              "      <td>B01HJ8ZXRK</td>\n",
              "      <td>{'Format:': ' MP3 Music'}</td>\n",
              "      <td>Deanna Pino</td>\n",
              "      <td>Beautifully crafted produced songs with melodi...</td>\n",
              "      <td>Just Beautiful!</td>\n",
              "      <td>1467417600</td>\n",
              "      <td>3</td>\n",
              "      <td>NaN</td>\n",
              "    </tr>\n",
              "    <tr>\n",
              "      <th>1584067</th>\n",
              "      <td>5.0</td>\n",
              "      <td>False</td>\n",
              "      <td>06 30, 2016</td>\n",
              "      <td>AH7NABGKD1YCB</td>\n",
              "      <td>B01HJ8ZXRK</td>\n",
              "      <td>{'Format:': ' MP3 Music'}</td>\n",
              "      <td>Kirk A Mann</td>\n",
              "      <td>Fantastic first EP from gifted singer songwrit...</td>\n",
              "      <td>Outstanding New Artist!</td>\n",
              "      <td>1467244800</td>\n",
              "      <td>3</td>\n",
              "      <td>NaN</td>\n",
              "    </tr>\n",
              "    <tr>\n",
              "      <th>1584068</th>\n",
              "      <td>5.0</td>\n",
              "      <td>False</td>\n",
              "      <td>06 29, 2016</td>\n",
              "      <td>A2TA40N948Q48H</td>\n",
              "      <td>B01HJ8ZXRK</td>\n",
              "      <td>{'Format:': ' MP3 Music'}</td>\n",
              "      <td>denise</td>\n",
              "      <td>I can't get Highwire out of my head! Speaks to...</td>\n",
              "      <td>Wow!</td>\n",
              "      <td>1467158400</td>\n",
              "      <td>3</td>\n",
              "      <td>NaN</td>\n",
              "    </tr>\n",
              "    <tr>\n",
              "      <th>1584069</th>\n",
              "      <td>5.0</td>\n",
              "      <td>True</td>\n",
              "      <td>06 28, 2016</td>\n",
              "      <td>A16DHJS7IQX39Y</td>\n",
              "      <td>B01HJ8ZXRK</td>\n",
              "      <td>{'Format:': ' MP3 Music'}</td>\n",
              "      <td>Bryan Ashmore</td>\n",
              "      <td>Shelby Figueroa is a welcome breath of fresh a...</td>\n",
              "      <td>Highwire is a beautiful snapshot of a woman fi...</td>\n",
              "      <td>1467072000</td>\n",
              "      <td>4</td>\n",
              "      <td>NaN</td>\n",
              "    </tr>\n",
              "    <tr>\n",
              "      <th>1584070</th>\n",
              "      <td>5.0</td>\n",
              "      <td>False</td>\n",
              "      <td>06 28, 2016</td>\n",
              "      <td>A11TKNVEKMUSMU</td>\n",
              "      <td>B01HJ8ZXRK</td>\n",
              "      <td>{'Format:': ' MP3 Music'}</td>\n",
              "      <td>Amazon Customer</td>\n",
              "      <td>What a wonderful voice on this lady! I loved t...</td>\n",
              "      <td>Listening on repeat...</td>\n",
              "      <td>1467072000</td>\n",
              "      <td>2</td>\n",
              "      <td>NaN</td>\n",
              "    </tr>\n",
              "  </tbody>\n",
              "</table>\n",
              "<p>124722 rows × 12 columns</p>\n",
              "</div>\n",
              "      <button class=\"colab-df-convert\" onclick=\"convertToInteractive('df-6843856a-ba9c-4736-9ef9-e230fbb1627c')\"\n",
              "              title=\"Convert this dataframe to an interactive table.\"\n",
              "              style=\"display:none;\">\n",
              "        \n",
              "  <svg xmlns=\"http://www.w3.org/2000/svg\" height=\"24px\"viewBox=\"0 0 24 24\"\n",
              "       width=\"24px\">\n",
              "    <path d=\"M0 0h24v24H0V0z\" fill=\"none\"/>\n",
              "    <path d=\"M18.56 5.44l.94 2.06.94-2.06 2.06-.94-2.06-.94-.94-2.06-.94 2.06-2.06.94zm-11 1L8.5 8.5l.94-2.06 2.06-.94-2.06-.94L8.5 2.5l-.94 2.06-2.06.94zm10 10l.94 2.06.94-2.06 2.06-.94-2.06-.94-.94-2.06-.94 2.06-2.06.94z\"/><path d=\"M17.41 7.96l-1.37-1.37c-.4-.4-.92-.59-1.43-.59-.52 0-1.04.2-1.43.59L10.3 9.45l-7.72 7.72c-.78.78-.78 2.05 0 2.83L4 21.41c.39.39.9.59 1.41.59.51 0 1.02-.2 1.41-.59l7.78-7.78 2.81-2.81c.8-.78.8-2.07 0-2.86zM5.41 20L4 18.59l7.72-7.72 1.47 1.35L5.41 20z\"/>\n",
              "  </svg>\n",
              "      </button>\n",
              "      \n",
              "  <style>\n",
              "    .colab-df-container {\n",
              "      display:flex;\n",
              "      flex-wrap:wrap;\n",
              "      gap: 12px;\n",
              "    }\n",
              "\n",
              "    .colab-df-convert {\n",
              "      background-color: #E8F0FE;\n",
              "      border: none;\n",
              "      border-radius: 50%;\n",
              "      cursor: pointer;\n",
              "      display: none;\n",
              "      fill: #1967D2;\n",
              "      height: 32px;\n",
              "      padding: 0 0 0 0;\n",
              "      width: 32px;\n",
              "    }\n",
              "\n",
              "    .colab-df-convert:hover {\n",
              "      background-color: #E2EBFA;\n",
              "      box-shadow: 0px 1px 2px rgba(60, 64, 67, 0.3), 0px 1px 3px 1px rgba(60, 64, 67, 0.15);\n",
              "      fill: #174EA6;\n",
              "    }\n",
              "\n",
              "    [theme=dark] .colab-df-convert {\n",
              "      background-color: #3B4455;\n",
              "      fill: #D2E3FC;\n",
              "    }\n",
              "\n",
              "    [theme=dark] .colab-df-convert:hover {\n",
              "      background-color: #434B5C;\n",
              "      box-shadow: 0px 1px 3px 1px rgba(0, 0, 0, 0.15);\n",
              "      filter: drop-shadow(0px 1px 2px rgba(0, 0, 0, 0.3));\n",
              "      fill: #FFFFFF;\n",
              "    }\n",
              "  </style>\n",
              "\n",
              "      <script>\n",
              "        const buttonEl =\n",
              "          document.querySelector('#df-6843856a-ba9c-4736-9ef9-e230fbb1627c button.colab-df-convert');\n",
              "        buttonEl.style.display =\n",
              "          google.colab.kernel.accessAllowed ? 'block' : 'none';\n",
              "\n",
              "        async function convertToInteractive(key) {\n",
              "          const element = document.querySelector('#df-6843856a-ba9c-4736-9ef9-e230fbb1627c');\n",
              "          const dataTable =\n",
              "            await google.colab.kernel.invokeFunction('convertToInteractive',\n",
              "                                                     [key], {});\n",
              "          if (!dataTable) return;\n",
              "\n",
              "          const docLinkHtml = 'Like what you see? Visit the ' +\n",
              "            '<a target=\"_blank\" href=https://colab.research.google.com/notebooks/data_table.ipynb>data table notebook</a>'\n",
              "            + ' to learn more about interactive tables.';\n",
              "          element.innerHTML = '';\n",
              "          dataTable['output_type'] = 'display_data';\n",
              "          await google.colab.output.renderOutput(dataTable, element);\n",
              "          const docLink = document.createElement('div');\n",
              "          docLink.innerHTML = docLinkHtml;\n",
              "          element.appendChild(docLink);\n",
              "        }\n",
              "      </script>\n",
              "    </div>\n",
              "  </div>\n",
              "  "
            ]
          },
          "metadata": {},
          "execution_count": 66
        }
      ]
    },
    {
      "cell_type": "code",
      "source": [
        "np.unique(df[~df['vote'].isnull()]['vote'])"
      ],
      "metadata": {
        "colab": {
          "base_uri": "https://localhost:8080/"
        },
        "id": "0ExwzLwS2kfK",
        "outputId": "2a9100e9-299b-41a0-b9dc-803b421aab9f"
      },
      "execution_count": null,
      "outputs": [
        {
          "output_type": "execute_result",
          "data": {
            "text/plain": [
              "array(['1,074', '1,143', '10', '100', '101', '102', '103', '104', '105',\n",
              "       '106', '107', '108', '109', '11', '110', '111', '112', '113',\n",
              "       '114', '115', '116', '117', '118', '119', '12', '120', '121',\n",
              "       '122', '124', '125', '127', '128', '129', '13', '130', '131',\n",
              "       '133', '134', '135', '136', '137', '138', '139', '14', '140',\n",
              "       '141', '142', '143', '144', '145', '146', '148', '149', '15',\n",
              "       '150', '152', '153', '155', '158', '159', '16', '163', '164',\n",
              "       '165', '166', '167', '168', '169', '17', '170', '172', '173',\n",
              "       '174', '175', '176', '177', '18', '180', '181', '182', '184',\n",
              "       '187', '188', '19', '190', '191', '193', '194', '195', '2', '20',\n",
              "       '203', '206', '208', '21', '210', '212', '213', '219', '22', '221',\n",
              "       '222', '224', '23', '230', '232', '235', '238', '24', '242', '243',\n",
              "       '246', '25', '250', '26', '264', '268', '27', '271', '274', '278',\n",
              "       '28', '281', '29', '290', '291', '294', '3', '30', '304', '31',\n",
              "       '312', '315', '32', '33', '338', '34', '35', '36', '361', '37',\n",
              "       '374', '377', '38', '388', '39', '4', '40', '41', '42', '426',\n",
              "       '427', '43', '437', '44', '45', '46', '461', '47', '48', '49', '5',\n",
              "       '50', '51', '514', '52', '53', '54', '55', '56', '57', '58', '59',\n",
              "       '6', '60', '61', '62', '63', '636', '64', '65', '66', '67', '68',\n",
              "       '69', '7', '70', '71', '72', '73', '74', '75', '76', '77', '78',\n",
              "       '79', '8', '80', '81', '82', '83', '84', '85', '86', '87', '88',\n",
              "       '89', '9', '90', '91', '92', '93', '94', '95', '96', '97', '98',\n",
              "       '99'], dtype=object)"
            ]
          },
          "metadata": {},
          "execution_count": 67
        }
      ]
    },
    {
      "cell_type": "code",
      "source": [
        "sent = []\n",
        "for i in range(10):\n",
        "  # i = 2\n",
        "  sent.extend(sent_tokenize(df.iloc[i]['reviewText']))\n",
        "  # print( ,'\\n', df.iloc[i]['summary'], '\\n')"
      ],
      "metadata": {
        "id": "Dq-kcPrUoM8G"
      },
      "execution_count": null,
      "outputs": []
    },
    {
      "cell_type": "markdown",
      "source": [
        "### Testing word2vec"
      ],
      "metadata": {
        "id": "-Or_XaKKvN9-"
      }
    },
    {
      "cell_type": "code",
      "source": [
        "sent"
      ],
      "metadata": {
        "colab": {
          "base_uri": "https://localhost:8080/"
        },
        "id": "NHSDQjNRvQV6",
        "outputId": "cbf09b42-64f2-4e2e-efe4-cf51be1e7bef"
      },
      "execution_count": null,
      "outputs": [
        {
          "output_type": "execute_result",
          "data": {
            "text/plain": [
              "['This is a great cd full of worship favorites!!',\n",
              " 'All time great Keith green songs.',\n",
              " 'His best album by far.',\n",
              " 'So creative!',\n",
              " 'Love his music - the words, the message!',\n",
              " 'Some of my favorite songs on this CD.',\n",
              " 'I should have bought it years ago!',\n",
              " 'Keith Green, gone far to early in his carreer, left us with these few golden alblums to bless us and let us see from a more in sync world veiw or I should say \"the language of the modern world\\'.',\n",
              " 'Had this on LP all His alblums..look for ammples and then you will wee what I am talking about.',\n",
              " 'God Bless you all',\n",
              " 'Keith Green had his special comedy style of Chirstian music with a powerful message.',\n",
              " 'Came quickly and packaged well.',\n",
              " 'I would purchase from this vendor again.',\n",
              " 'Keith Green / So you wanna go back to Egypt...:  In this album Keith gets his serious messages across with some of the best examples of his wonderful humor.',\n",
              " 'Bob Dylan plays harmonica on this album.',\n",
              " 'Five Stars',\n",
              " 'Clever,inspired and moving.',\n",
              " 'This is a great album from one of the finest Christian artists ever.',\n",
              " 'God took him home early, but not before leaving us with a great message and music.',\n",
              " 'Keith Green makes Bible lessons come to life with his music.',\n",
              " 'This tape can hardly be understood and it was listed for sale as \"very good\".',\n",
              " \"It's VERY BAD.\",\n",
              " 'Keith Green is a bit of legend in some Christian circles.',\n",
              " 'His music profoundly influenced many Christian bands, singers, pastors, and leaders throughout the 1980s and 1990s.',\n",
              " 'Though he died in the early 80s (a plane crash with, I believe, two of his four kids on board), what continues to make Keith Green so mesmerizing for many listeners today is his heartfelt passion for Jesus and the Church.',\n",
              " 'It is an undeniable quality you can hear as he sings and also in the lyrics he penned.',\n",
              " 'Green is not the most versatile musician with enormous breath in style.',\n",
              " 'However, what he lacks in scope he makes up for in spades when it comes to his relevancy to most Christians... their fickle behavior... their selfishness apart from the love of Christ... their need for grace and mercy given all the frailties and shortcomings.',\n",
              " 'His music, if listened to long enough, will for some individuals nag at the conscience, for others create a tear-fest, and even bring a few to their knees in prayer.',\n",
              " \"And, it's all because Green sounds genuine, lived a sincere, passionate life for Christ, and had a knack for finding the right words that resonated (and still does) with many Christians.\",\n",
              " 'Given the current shallow teaching in many Christian circles and the weakness for what is novel, colorful, or vogue over what is true and sensible... the work of Keith Green does indeed remain timely for the current age--especially among Protestant Evangelicals.',\n",
              " 'Pleased',\n",
              " 'Buy the CD.',\n",
              " 'Do not buy the MP3 album.',\n",
              " 'Download is no longer available.',\n",
              " \"But you don't find that out until after you have purchased it.\"]"
            ]
          },
          "metadata": {},
          "execution_count": 8
        }
      ]
    },
    {
      "cell_type": "code",
      "source": [
        "tokenizer = nltk.RegexpTokenizer(r\"\\w+\")\n",
        "stop_words = set(stopwords.words('english'))\n",
        "lemmatizer = WordNetLemmatizer()\n",
        "\n",
        "PP_arr = []\n",
        "\n",
        "for s in sent:\n",
        "  temp = []\n",
        "  temp.extend(tokenizer.tokenize(s))\n",
        "  temp = [w.lower() for w in temp if not w.lower() in stop_words]\n",
        "  temp = [lemmatizer.lemmatize(w) for w in temp]\n",
        "  PP_arr.append(temp)"
      ],
      "metadata": {
        "id": "nFU5SneexJoV"
      },
      "execution_count": null,
      "outputs": []
    },
    {
      "cell_type": "code",
      "source": [
        "model = Word2Vec(sentences=PP_arr, min_count=1,vector_size= 100,workers=3, window =3, sg = 1)"
      ],
      "metadata": {
        "id": "HQdpfxsuym-k"
      },
      "execution_count": null,
      "outputs": []
    },
    {
      "cell_type": "code",
      "source": [
        "len(model.wv.key_to_index)"
      ],
      "metadata": {
        "colab": {
          "base_uri": "https://localhost:8080/"
        },
        "id": "6DdrvmTnzbAf",
        "outputId": "c128760f-2430-4f47-c5fc-75bef1683703"
      },
      "execution_count": null,
      "outputs": [
        {
          "output_type": "execute_result",
          "data": {
            "text/plain": [
              "201"
            ]
          },
          "metadata": {},
          "execution_count": 11
        }
      ]
    },
    {
      "cell_type": "code",
      "source": [
        "model.wv.vector_size"
      ],
      "metadata": {
        "colab": {
          "base_uri": "https://localhost:8080/"
        },
        "id": "-_fv6iBzzvzY",
        "outputId": "2d5e1c0a-74a4-4a89-f635-8e3a0e908056"
      },
      "execution_count": null,
      "outputs": [
        {
          "output_type": "execute_result",
          "data": {
            "text/plain": [
              "100"
            ]
          },
          "metadata": {},
          "execution_count": 12
        }
      ]
    },
    {
      "cell_type": "code",
      "source": [
        "model.wv.get_vector('keith')"
      ],
      "metadata": {
        "colab": {
          "base_uri": "https://localhost:8080/"
        },
        "id": "EPphMNaH1JzU",
        "outputId": "93f8e542-af81-444f-c3a0-c184bcfa8317"
      },
      "execution_count": null,
      "outputs": [
        {
          "output_type": "execute_result",
          "data": {
            "text/plain": [
              "array([-0.00878339,  0.00370244,  0.00516933,  0.00593875,  0.00760758,\n",
              "       -0.00631991,  0.00120201,  0.00641368, -0.00302946, -0.0061395 ,\n",
              "       -0.0005031 , -0.00869539, -0.0056078 ,  0.00726684,  0.00326942,\n",
              "        0.00718767,  0.00684763,  0.00749984, -0.00384475, -0.00077295,\n",
              "        0.002309  , -0.00455721,  0.00828489, -0.00993427,  0.00676302,\n",
              "        0.00299947, -0.00488945,  0.00419858, -0.0017878 ,  0.00673342,\n",
              "        0.01004935, -0.00436382, -0.00057809, -0.00575709,  0.00373877,\n",
              "        0.00306023,  0.00703918,  0.00606364,  0.00960239,  0.00904022,\n",
              "        0.00782684, -0.00727508, -0.00922873, -0.00026934, -0.00298003,\n",
              "        0.0079274 ,  0.00581413, -0.00156876,  0.00161698,  0.00184921,\n",
              "        0.00805661, -0.00960592, -0.0001301 ,  0.00342063, -0.00102187,\n",
              "        0.00839814,  0.0090322 ,  0.00637638, -0.00097945,  0.00787527,\n",
              "       -0.00869797,  0.00335165, -0.00462982, -0.00531328,  0.00345382,\n",
              "        0.00541218,  0.00791588, -0.00543701,  0.00735258,  0.00684946,\n",
              "       -0.00371361, -0.00874335,  0.00555165,  0.00645666, -0.00050983,\n",
              "       -0.0067511 , -0.0071111 , -0.00253196,  0.00507309, -0.0036943 ,\n",
              "       -0.00948425,  0.00386361,  0.00478868, -0.00636561,  0.00115361,\n",
              "       -0.00204598,  0.00020492, -0.00992003,  0.00286671, -0.00482848,\n",
              "        0.00126772, -0.0014061 ,  0.00230903, -0.00767006, -0.00238667,\n",
              "        0.00287461,  0.00548091, -0.00261977, -0.00945222,  0.00452548],\n",
              "      dtype=float32)"
            ]
          },
          "metadata": {},
          "execution_count": 64
        }
      ]
    },
    {
      "cell_type": "code",
      "source": [
        "model.wv.save_word2vec_format('/content/drive/MyDrive/data_for_lab/RS_final_assignment/tes_100d.txt')"
      ],
      "metadata": {
        "id": "H7_cxyl7Dzbt"
      },
      "execution_count": null,
      "outputs": []
    },
    {
      "cell_type": "code",
      "source": [
        "model.save(\"/content/drive/MyDrive/data_for_lab/RS_final_assignment/w2v_test.model\")"
      ],
      "metadata": {
        "id": "dDRJlyvSEu57"
      },
      "execution_count": null,
      "outputs": []
    },
    {
      "cell_type": "code",
      "source": [
        "test_pretrained = Word2Vec.load(\"/content/drive/MyDrive/data_for_lab/RS_final_assignment/w2v_test.model\")"
      ],
      "metadata": {
        "id": "tcuBIKhAGl2G"
      },
      "execution_count": null,
      "outputs": []
    },
    {
      "cell_type": "code",
      "source": [
        "test_pretrained.wv.most_similar('keith')"
      ],
      "metadata": {
        "colab": {
          "base_uri": "https://localhost:8080/"
        },
        "id": "gFCOfmgBG_LP",
        "outputId": "62a03849-5c00-47d8-b363-39c8ac3e3dc4"
      },
      "execution_count": null,
      "outputs": [
        {
          "output_type": "execute_result",
          "data": {
            "text/plain": [
              "[('vogue', 0.2212226837873459),\n",
              " ('christ', 0.1923919916152954),\n",
              " ('love', 0.19202546775341034),\n",
              " ('quickly', 0.18620213866233826),\n",
              " ('individual', 0.18545183539390564),\n",
              " ('good', 0.18464861810207367),\n",
              " ('powerful', 0.18275900185108185),\n",
              " ('two', 0.17938099801540375),\n",
              " ('undeniable', 0.17440244555473328),\n",
              " ('pastor', 0.1715625524520874)]"
            ]
          },
          "metadata": {},
          "execution_count": 19
        }
      ]
    },
    {
      "cell_type": "markdown",
      "source": [
        "### ----------------------------------------"
      ],
      "metadata": {
        "id": "2sDtqWMLvJkL"
      }
    },
    {
      "cell_type": "markdown",
      "source": [
        "### Creating Word2Vec model for the whole data"
      ],
      "metadata": {
        "id": "fmUfCxLyHxZL"
      }
    },
    {
      "cell_type": "code",
      "source": [
        "### Loading the data\n",
        "data = []\n",
        "with gzip.open('/content/drive/MyDrive/data_for_lab/RS_final_assignment/Digital_Music.json.gz') as f:\n",
        "    for l in f:\n",
        "        data.append(json.loads(l.strip()))\n"
      ],
      "metadata": {
        "id": "7kVBTkk_Iayi"
      },
      "execution_count": null,
      "outputs": []
    },
    {
      "cell_type": "code",
      "source": [
        "df = pd.DataFrame.from_dict(data)"
      ],
      "metadata": {
        "id": "deRhDsaSIiTx"
      },
      "execution_count": null,
      "outputs": []
    },
    {
      "cell_type": "code",
      "source": [
        "df.shape"
      ],
      "metadata": {
        "colab": {
          "base_uri": "https://localhost:8080/"
        },
        "id": "F1wSh900ImLv",
        "outputId": "fd647abf-5aa2-4b7d-97a7-4798beb474eb"
      },
      "execution_count": null,
      "outputs": [
        {
          "output_type": "execute_result",
          "data": {
            "text/plain": [
              "(1584082, 12)"
            ]
          },
          "metadata": {},
          "execution_count": 7
        }
      ]
    },
    {
      "cell_type": "code",
      "source": [
        "tokenizer = nltk.RegexpTokenizer(r\"\\w+\")\n",
        "stop_words = set(stopwords.words('english'))\n",
        "lemmatizer = WordNetLemmatizer()\n",
        "\n",
        "unique_words = []\n",
        "\n",
        "count, per = 0, 0\n",
        "x = time.time()\n",
        "for i in range(df.shape[0]):\n",
        "  count += 1\n",
        "  try:\n",
        "    if count == df.shape[0] // 100:\n",
        "      per += 1\n",
        "      count = 0\n",
        "      print(f'Completed {per}%... Time taken - {time.time() - x}... Remaining time - {(100 - per) * (time.time() - x)}')\n",
        "      x = time.time()\n",
        "\n",
        "    sents = sent_tokenize(df.iloc[i]['reviewText'])\n",
        "    \n",
        "    temp = []\n",
        "    for s in sents:\n",
        "      temp.extend(tokenizer.tokenize(s))\n",
        "      temp = [w.lower() for w in temp if not w.lower() in stop_words]\n",
        "      temp = [lemmatizer.lemmatize(w) for w in temp]\n",
        "\n",
        "    for j in temp:\n",
        "      unique_words.append(j)\n",
        "  except KeyboardInterrupt:\n",
        "    break\n",
        "  except:\n",
        "    pass"
      ],
      "metadata": {
        "colab": {
          "base_uri": "https://localhost:8080/"
        },
        "id": "eKzG3OMyImIn",
        "outputId": "3e8012b6-7089-4fc9-c5ac-a1d9dce0d6fa"
      },
      "execution_count": null,
      "outputs": [
        {
          "output_type": "stream",
          "name": "stdout",
          "text": [
            "Completed 1%... Time taken - 23.23643183708191... Remaining time - 2300.408380508423\n",
            "Completed 2%... Time taken - 14.838775634765625... Remaining time - 1454.2007131576538\n",
            "Completed 3%... Time taken - 13.652883291244507... Remaining time - 1324.330465555191\n",
            "Completed 4%... Time taken - 14.831535816192627... Remaining time - 1423.8300247192383\n",
            "Completed 5%... Time taken - 6.1536455154418945... Remaining time - 584.5969355106354\n",
            "Completed 6%... Time taken - 17.098019123077393... Remaining time - 1607.2146492004395\n",
            "Completed 7%... Time taken - 12.786045789718628... Remaining time - 1189.103101015091\n",
            "Completed 8%... Time taken - 14.19383430480957... Remaining time - 1305.8335676193237\n",
            "Completed 9%... Time taken - 7.775974988937378... Remaining time - 707.6143097877502\n",
            "Completed 10%... Time taken - 16.514530181884766... Remaining time - 1486.3083386421204\n",
            "Completed 11%... Time taken - 17.599754571914673... Remaining time - 1566.3788571357727\n",
            "Completed 12%... Time taken - 19.3706693649292... Remaining time - 1704.619701385498\n",
            "Completed 13%... Time taken - 16.582294702529907... Remaining time - 1442.6602821350098\n",
            "Completed 14%... Time taken - 24.0116708278656... Remaining time - 2065.0045523643494\n",
            "Completed 15%... Time taken - 21.16778326034546... Remaining time - 1799.2622661590576\n",
            "Completed 16%... Time taken - 23.029924154281616... Remaining time - 1934.514349937439\n",
            "Completed 17%... Time taken - 18.80999493598938... Remaining time - 1561.2314398288727\n",
            "Completed 18%... Time taken - 12.586533069610596... Remaining time - 1032.0964937210083\n",
            "Completed 19%... Time taken - 17.075748205184937... Remaining time - 1383.136183977127\n",
            "Completed 20%... Time taken - 19.834588289260864... Remaining time - 1586.7676544189453\n",
            "Completed 21%... Time taken - 14.80248737335205... Remaining time - 1169.39710521698\n",
            "Completed 22%... Time taken - 20.347209692001343... Remaining time - 1587.0830626487732\n",
            "Completed 23%... Time taken - 9.711337566375732... Remaining time - 747.7735249996185\n",
            "Completed 24%... Time taken - 23.858550310134888... Remaining time - 1813.2503671646118\n",
            "Completed 25%... Time taken - 17.41170883178711... Remaining time - 1305.8786988258362\n",
            "Completed 26%... Time taken - 13.437307119369507... Remaining time - 994.361273765564\n",
            "Completed 27%... Time taken - 13.128686428070068... Remaining time - 958.3946661949158\n",
            "Completed 28%... Time taken - 11.979413747787476... Remaining time - 862.518424987793\n",
            "Completed 29%... Time taken - 14.364377975463867... Remaining time - 1019.871344089508\n",
            "Completed 30%... Time taken - 11.235161066055298... Remaining time - 786.4619755744934\n",
            "Completed 31%... Time taken - 13.961279392242432... Remaining time - 963.328985452652\n",
            "Completed 32%... Time taken - 9.895531415939331... Remaining time - 672.8965740203857\n",
            "Completed 33%... Time taken - 12.205464124679565... Remaining time - 817.7665436267853\n",
            "Completed 34%... Time taken - 11.623440027236938... Remaining time - 767.147545337677\n",
            "Completed 35%... Time taken - 11.381762266159058... Remaining time - 739.8151516914368\n",
            "Completed 36%... Time taken - 15.873964786529541... Remaining time - 1015.9341735839844\n",
            "Completed 37%... Time taken - 13.516119003295898... Remaining time - 851.5160830020905\n",
            "Completed 38%... Time taken - 12.140645980834961... Remaining time - 752.7208342552185\n",
            "Completed 39%... Time taken - 38.122638463974... Remaining time - 2325.481571674347\n",
            "Completed 40%... Time taken - 38.09623742103577... Remaining time - 2285.7748317718506\n",
            "Completed 41%... Time taken - 17.097272872924805... Remaining time - 1008.7398731708527\n",
            "Completed 42%... Time taken - 10.733760118484497... Remaining time - 622.5586123466492\n",
            "Completed 43%... Time taken - 16.787346601486206... Remaining time - 956.8792726993561\n",
            "Completed 44%... Time taken - 11.074907779693604... Remaining time - 620.1954898834229\n",
            "Completed 45%... Time taken - 9.212650299072266... Remaining time - 506.69621229171753\n",
            "Completed 46%... Time taken - 17.84918999671936... Remaining time - 963.8569679260254\n",
            "Completed 47%... Time taken - 7.48491907119751... Remaining time - 396.7010772228241\n",
            "Completed 48%... Time taken - 14.133939743041992... Remaining time - 734.965238571167\n",
            "Completed 49%... Time taken - 4.799500942230225... Remaining time - 244.77487635612488\n",
            "Completed 50%... Time taken - 6.941966533660889... Remaining time - 347.09869623184204\n",
            "Completed 51%... Time taken - 9.693336486816406... Remaining time - 474.97389674186707\n",
            "Completed 52%... Time taken - 20.52174186706543... Remaining time - 985.0440330505371\n",
            "Completed 53%... Time taken - 19.818516731262207... Remaining time - 931.4706673622131\n",
            "Completed 54%... Time taken - 17.01940941810608... Remaining time - 782.8932280540466\n",
            "Completed 55%... Time taken - 16.176483154296875... Remaining time - 727.9421281814575\n",
            "Completed 56%... Time taken - 11.042900323867798... Remaining time - 485.8880338668823\n",
            "Completed 57%... Time taken - 10.606468200683594... Remaining time - 456.0784401893616\n",
            "Completed 58%... Time taken - 15.065788745880127... Remaining time - 632.7634377479553\n",
            "Completed 59%... Time taken - 16.618960857391357... Remaining time - 681.3777861595154\n",
            "Completed 60%... Time taken - 14.3429536819458... Remaining time - 573.7184238433838\n",
            "Completed 61%... Time taken - 18.08032512664795... Remaining time - 705.1330518722534\n",
            "Completed 62%... Time taken - 17.474400520324707... Remaining time - 664.027491569519\n",
            "Completed 63%... Time taken - 16.24329710006714... Remaining time - 601.0022485256195\n",
            "Completed 64%... Time taken - 16.286511659622192... Remaining time - 586.3146686553955\n",
            "Completed 65%... Time taken - 15.031546354293823... Remaining time - 526.1043977737427\n",
            "Completed 66%... Time taken - 14.864845991134644... Remaining time - 505.4050555229187\n",
            "Completed 67%... Time taken - 15.043824195861816... Remaining time - 496.44644236564636\n",
            "Completed 68%... Time taken - 15.769999742507935... Remaining time - 504.6402893066406\n",
            "Completed 69%... Time taken - 15.251951456069946... Remaining time - 472.81070947647095\n",
            "Completed 70%... Time taken - 14.204818487167358... Remaining time - 426.14479064941406\n",
            "Completed 71%... Time taken - 15.161074161529541... Remaining time - 439.67144799232483\n",
            "Completed 72%... Time taken - 14.646631002426147... Remaining time - 410.1059617996216\n",
            "Completed 73%... Time taken - 14.588585138320923... Remaining time - 393.8920884132385\n",
            "Completed 74%... Time taken - 12.389533042907715... Remaining time - 322.1280884742737\n",
            "Completed 75%... Time taken - 14.50440788269043... Remaining time - 362.61048913002014\n",
            "Completed 76%... Time taken - 16.325291872024536... Remaining time - 391.8072338104248\n",
            "Completed 77%... Time taken - 15.131742477416992... Remaining time - 348.0302908420563\n",
            "Completed 78%... Time taken - 14.33521318435669... Remaining time - 315.3748893737793\n",
            "Completed 79%... Time taken - 15.046079397201538... Remaining time - 315.9679026603699\n",
            "Completed 80%... Time taken - 12.170281648635864... Remaining time - 243.4058141708374\n",
            "Completed 81%... Time taken - 13.744993686676025... Remaining time - 261.1550793647766\n",
            "Completed 82%... Time taken - 20.393014192581177... Remaining time - 367.0744957923889\n",
            "Completed 83%... Time taken - 11.487491130828857... Remaining time - 195.28751134872437\n",
            "Completed 84%... Time taken - 13.989258289337158... Remaining time - 223.82828521728516\n",
            "Completed 85%... Time taken - 13.000916004180908... Remaining time - 195.0138759613037\n",
            "Completed 86%... Time taken - 11.996018648147583... Remaining time - 167.94439792633057\n",
            "Completed 87%... Time taken - 15.906400680541992... Remaining time - 206.78332662582397\n",
            "Completed 88%... Time taken - 13.14419150352478... Remaining time - 157.73040676116943\n",
            "Completed 89%... Time taken - 10.702494382858276... Remaining time - 117.72754049301147\n",
            "Completed 90%... Time taken - 13.788250207901001... Remaining time - 137.88261651992798\n",
            "Completed 91%... Time taken - 11.249921560287476... Remaining time - 101.24940133094788\n",
            "Completed 92%... Time taken - 10.809744596481323... Remaining time - 86.4780445098877\n",
            "Completed 93%... Time taken - 13.034188747406006... Remaining time - 91.23938632011414\n",
            "Completed 94%... Time taken - 11.176697254180908... Remaining time - 67.06023788452148\n",
            "Completed 95%... Time taken - 16.95468282699585... Remaining time - 84.7734785079956\n",
            "Completed 96%... Time taken - 13.873521089553833... Remaining time - 55.49411964416504\n",
            "Completed 97%... Time taken - 12.156269073486328... Remaining time - 36.46883583068848\n",
            "Completed 98%... Time taken - 18.66077423095703... Remaining time - 37.32156562805176\n",
            "Completed 99%... Time taken - 13.70772409439087... Remaining time - 13.707733869552612\n",
            "Completed 100%... Time taken - 13.801488161087036... Remaining time - 0.0\n"
          ]
        }
      ]
    },
    {
      "cell_type": "code",
      "source": [
        "len(unique_words)"
      ],
      "metadata": {
        "colab": {
          "base_uri": "https://localhost:8080/"
        },
        "id": "g7D_YpbPRUc4",
        "outputId": "6e4720f7-eb3a-41d2-d166-005875b0a613"
      },
      "execution_count": null,
      "outputs": [
        {
          "output_type": "execute_result",
          "data": {
            "text/plain": [
              "32706650"
            ]
          },
          "metadata": {},
          "execution_count": 10
        }
      ]
    },
    {
      "cell_type": "code",
      "source": [
        "word_freq = Counter(unique_words)"
      ],
      "metadata": {
        "id": "VTLwcozdvE39"
      },
      "execution_count": null,
      "outputs": []
    },
    {
      "cell_type": "code",
      "source": [
        "# with open('/content/drive/MyDrive/data_for_lab/RS_final_assignment/word_frequency.pickle', 'wb') as handle:\n",
        "#     pickle.dump(dict(word_freq), handle, protocol=pickle.HIGHEST_PROTOCOL)\n",
        "\n",
        "# with open('filename.pickle', 'rb') as handle:\n",
        "#     b = pickle.load(handle)"
      ],
      "metadata": {
        "id": "WCQkMi5Dv4p7"
      },
      "execution_count": null,
      "outputs": []
    },
    {
      "cell_type": "markdown",
      "source": [
        "### ------------------------------------"
      ],
      "metadata": {
        "id": "750ZpTSO7eH-"
      }
    },
    {
      "cell_type": "code",
      "source": [
        "### loading frequency dict\n",
        "with open('/content/drive/MyDrive/data_for_lab/RS_final_assignment/word_frequency.pickle', 'rb') as handle:\n",
        "    b = pickle.load(handle)"
      ],
      "metadata": {
        "id": "y8_hp33OwI4E"
      },
      "execution_count": null,
      "outputs": []
    },
    {
      "cell_type": "code",
      "source": [
        "# taking words which is repeated more than 10 times and less than 25000 times. \n",
        "# Also filtering words of length 1 and 2 and numbers.\n",
        "word_set = set()\n",
        "for k in b.keys():\n",
        "  if not (b[k] < 10 or b[k] > 25000 or len(k) <= 2 or k.isnumeric()):\n",
        "    word_set.add(k)    "
      ],
      "metadata": {
        "id": "kx17mBPQ6Iw4"
      },
      "execution_count": null,
      "outputs": []
    },
    {
      "cell_type": "code",
      "source": [
        "len(word_set)"
      ],
      "metadata": {
        "colab": {
          "base_uri": "https://localhost:8080/"
        },
        "id": "AtA2uUHC6yH9",
        "outputId": "8ac4408d-4d60-4cd0-9124-0e999092e57c"
      },
      "execution_count": null,
      "outputs": [
        {
          "output_type": "execute_result",
          "data": {
            "text/plain": [
              "48916"
            ]
          },
          "metadata": {},
          "execution_count": 10
        }
      ]
    },
    {
      "cell_type": "code",
      "source": [
        "gc.collect()"
      ],
      "metadata": {
        "colab": {
          "base_uri": "https://localhost:8080/"
        },
        "id": "6R2yR2amBMX9",
        "outputId": "57bb9dae-bb75-4188-8aca-14fb0183f6bd"
      },
      "execution_count": null,
      "outputs": [
        {
          "output_type": "execute_result",
          "data": {
            "text/plain": [
              "0"
            ]
          },
          "metadata": {},
          "execution_count": 11
        }
      ]
    },
    {
      "cell_type": "code",
      "source": [
        "### Loading the data\n",
        "data = []\n",
        "with gzip.open('/content/drive/MyDrive/data_for_lab/RS_final_assignment/Digital_Music.json.gz') as f:\n",
        "    for l in f:\n",
        "        data.append(json.loads(l.strip()))\n",
        "\n",
        "df = pd.DataFrame.from_dict(data)"
      ],
      "metadata": {
        "id": "Syq3selL8_7v"
      },
      "execution_count": null,
      "outputs": []
    },
    {
      "cell_type": "code",
      "source": [
        "tokenizer = nltk.RegexpTokenizer(r\"\\w+\")\n",
        "stop_words = set(stopwords.words('english'))\n",
        "lemmatizer = WordNetLemmatizer()\n",
        "\n",
        "PP_arr = []\n",
        "count, per = 0, 0\n",
        "x = time.time()\n",
        "for i in range(df.shape[0]):\n",
        "  count += 1\n",
        "  try:\n",
        "    if count == df.shape[0] // 100:\n",
        "      per += 1\n",
        "      count = 0\n",
        "      print(f'Completed {per}%... Time taken - {time.time() - x}... Remaining time - {(100 - per) * (time.time() - x)}')\n",
        "      x = time.time()\n",
        "\n",
        "    sent = sent_tokenize(df.iloc[i]['reviewText'])\n",
        "    for s in sent:\n",
        "      temp = []\n",
        "      temp.extend(tokenizer.tokenize(s))\n",
        "      temp = [w.lower() for w in temp if not w.lower() in stop_words]\n",
        "      temp = [lemmatizer.lemmatize(w) for w in temp]\n",
        "      temp = [w for w in temp if w in word_set]\n",
        "      if len(temp) > 1:\n",
        "        PP_arr.append(temp)\n",
        "    \n",
        "  except KeyboardInterrupt:\n",
        "    break\n",
        "  except  Exception as e: \n",
        "    pass"
      ],
      "metadata": {
        "colab": {
          "base_uri": "https://localhost:8080/"
        },
        "id": "NVRH2ZKJ9UL9",
        "outputId": "600f1aa2-6dd1-4748-b89e-c3f05c2d30d5"
      },
      "execution_count": null,
      "outputs": [
        {
          "output_type": "stream",
          "name": "stdout",
          "text": [
            "Completed 1%... Time taken - 10.175477027893066... Remaining time - 1007.3729574680328\n",
            "Completed 2%... Time taken - 9.333108901977539... Remaining time - 914.6453266143799\n",
            "Completed 3%... Time taken - 5.5299458503723145... Remaining time - 536.4056725502014\n",
            "Completed 4%... Time taken - 7.22456955909729... Remaining time - 693.5592956542969\n",
            "Completed 5%... Time taken - 4.332571983337402... Remaining time - 411.59497261047363\n",
            "Completed 6%... Time taken - 7.865701675415039... Remaining time - 739.3764953613281\n",
            "Completed 7%... Time taken - 5.551400423049927... Remaining time - 516.2808601856232\n",
            "Completed 8%... Time taken - 6.935157537460327... Remaining time - 638.0352611541748\n",
            "Completed 9%... Time taken - 4.691027641296387... Remaining time - 426.88403606414795\n",
            "Completed 10%... Time taken - 6.400962591171265... Remaining time - 576.0873627662659\n",
            "Completed 11%... Time taken - 7.930602550506592... Remaining time - 705.824857711792\n",
            "Completed 12%... Time taken - 6.342750072479248... Remaining time - 558.1627826690674\n",
            "Completed 13%... Time taken - 7.743714332580566... Remaining time - 673.7036862373352\n",
            "Completed 14%... Time taken - 10.201839208602905... Remaining time - 877.3590741157532\n",
            "Completed 15%... Time taken - 7.099559783935547... Remaining time - 603.4631288051605\n",
            "Completed 16%... Time taken - 8.262155771255493... Remaining time - 694.0215854644775\n",
            "Completed 17%... Time taken - 6.409945726394653... Remaining time - 532.0259900093079\n",
            "Completed 18%... Time taken - 7.076425313949585... Remaining time - 580.2673645019531\n",
            "Completed 19%... Time taken - 6.106487512588501... Remaining time - 494.626029253006\n",
            "Completed 20%... Time taken - 7.564749479293823... Remaining time - 605.1806640625\n",
            "Completed 21%... Time taken - 5.54826545715332... Remaining time - 438.3134984970093\n",
            "Completed 22%... Time taken - 6.589260101318359... Remaining time - 513.9629573822021\n",
            "Completed 23%... Time taken - 6.164539337158203... Remaining time - 474.67009806632996\n",
            "Completed 24%... Time taken - 5.911434650421143... Remaining time - 449.26950454711914\n",
            "Completed 25%... Time taken - 6.9339964389801025... Remaining time - 520.0501799583435\n",
            "Completed 26%... Time taken - 4.885288715362549... Remaining time - 361.51184129714966\n",
            "Completed 27%... Time taken - 6.157825231552124... Remaining time - 449.5218858718872\n",
            "Completed 28%... Time taken - 4.9355480670928955... Remaining time - 355.35990715026855\n",
            "Completed 29%... Time taken - 4.713486433029175... Remaining time - 334.65797686576843\n",
            "Completed 30%... Time taken - 6.179066181182861... Remaining time - 432.5350499153137\n",
            "Completed 31%... Time taken - 4.839334487915039... Remaining time - 333.9145073890686\n",
            "Completed 32%... Time taken - 4.516581058502197... Remaining time - 307.1279821395874\n",
            "Completed 33%... Time taken - 9.471913814544678... Remaining time - 634.6187047958374\n",
            "Completed 34%... Time taken - 4.679607629776001... Remaining time - 308.8545126914978\n",
            "Completed 35%... Time taken - 6.321099519729614... Remaining time - 410.8719336986542\n",
            "Completed 36%... Time taken - 5.291431427001953... Remaining time - 338.6521301269531\n",
            "Completed 37%... Time taken - 6.155238389968872... Remaining time - 387.7806193828583\n",
            "Completed 38%... Time taken - 5.366970062255859... Remaining time - 332.7525134086609\n",
            "Completed 39%... Time taken - 11.252295732498169... Remaining time - 686.3904469013214\n",
            "Completed 40%... Time taken - 9.307904958724976... Remaining time - 558.4750986099243\n",
            "Completed 41%... Time taken - 7.575955390930176... Remaining time - 446.98171973228455\n",
            "Completed 42%... Time taken - 4.792959213256836... Remaining time - 277.99200773239136\n",
            "Completed 43%... Time taken - 7.068179607391357... Remaining time - 402.8865773677826\n",
            "Completed 44%... Time taken - 4.726900815963745... Remaining time - 264.70689964294434\n",
            "Completed 45%... Time taken - 4.8705973625183105... Remaining time - 267.88331389427185\n",
            "Completed 46%... Time taken - 7.061140537261963... Remaining time - 381.3019495010376\n",
            "Completed 47%... Time taken - 4.118555545806885... Remaining time - 218.28381037712097\n",
            "Completed 48%... Time taken - 6.5024590492248535... Remaining time - 338.1281929016113\n",
            "Completed 49%... Time taken - 3.7481000423431396... Remaining time - 191.15349125862122\n",
            "Completed 50%... Time taken - 3.9422457218170166... Remaining time - 197.11261987686157\n",
            "Completed 51%... Time taken - 6.431407690048218... Remaining time - 315.13938570022583\n",
            "Completed 52%... Time taken - 5.837998390197754... Remaining time - 280.2242317199707\n",
            "Completed 53%... Time taken - 6.79769229888916... Remaining time - 319.4920086860657\n",
            "Completed 54%... Time taken - 6.243697881698608... Remaining time - 287.2104206085205\n",
            "Completed 55%... Time taken - 5.480940341949463... Remaining time - 246.6425621509552\n",
            "Completed 56%... Time taken - 6.870559215545654... Remaining time - 302.3048782348633\n",
            "Completed 57%... Time taken - 4.567235231399536... Remaining time - 196.3913712501526\n",
            "Completed 58%... Time taken - 9.747901916503906... Remaining time - 409.4121708869934\n",
            "Completed 59%... Time taken - 5.791640043258667... Remaining time - 237.45794558525085\n",
            "Completed 60%... Time taken - 7.283702611923218... Remaining time - 291.3483715057373\n",
            "Completed 61%... Time taken - 5.8442254066467285... Remaining time - 227.92503261566162\n",
            "Completed 62%... Time taken - 7.641376256942749... Remaining time - 290.3725333213806\n",
            "Completed 63%... Time taken - 5.819313287734985... Remaining time - 215.3148033618927\n",
            "Completed 64%... Time taken - 7.192216873168945... Remaining time - 258.9201250076294\n",
            "Completed 65%... Time taken - 5.9876227378845215... Remaining time - 209.56748843193054\n",
            "Completed 66%... Time taken - 6.642058610916138... Remaining time - 225.83030080795288\n",
            "Completed 67%... Time taken - 6.6983678340911865... Remaining time - 221.04634308815002\n",
            "Completed 68%... Time taken - 5.84366250038147... Remaining time - 186.99749755859375\n",
            "Completed 69%... Time taken - 7.438857078552246... Remaining time - 230.60476899147034\n",
            "Completed 70%... Time taken - 5.589697599411011... Remaining time - 167.69113540649414\n",
            "Completed 71%... Time taken - 7.276296615600586... Remaining time - 211.01280236244202\n",
            "Completed 72%... Time taken - 5.508901834487915... Remaining time - 154.24943161010742\n",
            "Completed 73%... Time taken - 7.15013313293457... Remaining time - 193.05378127098083\n",
            "Completed 74%... Time taken - 5.177842855453491... Remaining time - 134.6240940093994\n",
            "Completed 75%... Time taken - 6.348713636398315... Remaining time - 158.7180733680725\n",
            "Completed 76%... Time taken - 6.738357067108154... Remaining time - 161.72072410583496\n",
            "Completed 77%... Time taken - 5.594463109970093... Remaining time - 128.6728105545044\n",
            "Completed 78%... Time taken - 7.239301919937134... Remaining time - 159.26477336883545\n",
            "Completed 79%... Time taken - 5.515432357788086... Remaining time - 115.82421970367432\n",
            "Completed 80%... Time taken - 6.856809854507446... Remaining time - 137.13632583618164\n",
            "Completed 81%... Time taken - 5.211706161499023... Remaining time - 99.02253937721252\n",
            "Completed 82%... Time taken - 7.122441530227661... Remaining time - 128.20410203933716\n",
            "Completed 83%... Time taken - 5.662832021713257... Remaining time - 96.26824975013733\n",
            "Completed 84%... Time taken - 5.012584686279297... Remaining time - 80.20146179199219\n",
            "Completed 85%... Time taken - 6.669748067855835... Remaining time - 100.04631757736206\n",
            "Completed 86%... Time taken - 8.493793249130249... Remaining time - 118.91323900222778\n",
            "Completed 87%... Time taken - 6.265301942825317... Remaining time - 81.44900894165039\n",
            "Completed 88%... Time taken - 4.646600246429443... Remaining time - 55.75927448272705\n",
            "Completed 89%... Time taken - 5.676210880279541... Remaining time - 62.438419342041016\n",
            "Completed 90%... Time taken - 5.297971487045288... Remaining time - 52.97977924346924\n",
            "Completed 91%... Time taken - 4.784753084182739... Remaining time - 43.062859296798706\n",
            "Completed 92%... Time taken - 6.196767568588257... Remaining time - 49.574188232421875\n",
            "Completed 93%... Time taken - 4.7734534740448... Remaining time - 33.41421604156494\n",
            "Completed 94%... Time taken - 4.646774530410767... Remaining time - 27.880698680877686\n",
            "Completed 95%... Time taken - 6.735516786575317... Remaining time - 33.677616119384766\n",
            "Completed 96%... Time taken - 4.804211378097534... Remaining time - 19.216870307922363\n",
            "Completed 97%... Time taken - 5.915592432022095... Remaining time - 17.746803760528564\n",
            "Completed 98%... Time taken - 5.560896635055542... Remaining time - 11.121806144714355\n",
            "Completed 99%... Time taken - 4.899173259735107... Remaining time - 4.89918065071106\n",
            "Completed 100%... Time taken - 6.675328969955444... Remaining time - 0.0\n"
          ]
        }
      ]
    },
    {
      "cell_type": "code",
      "source": [
        "model = Word2Vec(sentences=PP_arr, min_count=1,vector_size= 100,workers=3, window =3, sg = 1)"
      ],
      "metadata": {
        "id": "hBq8qyq99-xc"
      },
      "execution_count": null,
      "outputs": []
    },
    {
      "cell_type": "code",
      "source": [
        "# model.save(\"/content/drive/MyDrive/data_for_lab/RS_final_assignment/w2v_v2.model\")"
      ],
      "metadata": {
        "id": "5upxQoK29-un"
      },
      "execution_count": null,
      "outputs": []
    },
    {
      "cell_type": "code",
      "source": [
        "len(model.wv.key_to_index), model.wv.vector_size"
      ],
      "metadata": {
        "colab": {
          "base_uri": "https://localhost:8080/"
        },
        "id": "FFYPlxroF4Jv",
        "outputId": "2f6159a2-c85b-462a-9c73-a525a7637235"
      },
      "execution_count": null,
      "outputs": [
        {
          "output_type": "execute_result",
          "data": {
            "text/plain": [
              "(48907, 100)"
            ]
          },
          "metadata": {},
          "execution_count": 19
        }
      ]
    },
    {
      "cell_type": "code",
      "source": [
        "model.wv.get_vector('keith')"
      ],
      "metadata": {
        "colab": {
          "base_uri": "https://localhost:8080/"
        },
        "id": "1qXwqmhpGC0o",
        "outputId": "7355fcea-1a1d-4d50-aab8-f3c91f8599b3"
      },
      "execution_count": null,
      "outputs": [
        {
          "output_type": "execute_result",
          "data": {
            "text/plain": [
              "array([ 0.10385427,  0.04052361, -0.4721479 , -0.28519624, -0.15270838,\n",
              "       -0.26334813, -0.35240933,  0.49180388, -0.31079724, -0.56329715,\n",
              "       -0.18978435,  0.07454391, -0.44058344,  0.24287134,  0.1729744 ,\n",
              "        0.45110312, -0.46091434, -0.11843729,  0.21795888, -0.59076196,\n",
              "       -0.04756524,  0.74114007,  0.47006565,  1.0022998 , -0.5411253 ,\n",
              "        0.5632353 ,  0.20228745, -0.4373214 ,  0.04167503, -0.26078096,\n",
              "        0.04677122, -0.24626993, -0.34077734, -0.04558436, -0.3108025 ,\n",
              "       -0.02686865,  0.6385238 , -0.3658184 , -0.38156888, -0.22560513,\n",
              "       -0.24669933,  0.2667196 , -0.29662457, -0.3077548 ,  0.44419992,\n",
              "        0.3961391 , -0.3858814 , -0.60807765, -0.03008805, -0.16054322,\n",
              "        0.35970134, -0.20460895, -0.4470787 , -0.35316473,  0.2551988 ,\n",
              "        0.21488197, -0.09982389,  0.7716023 , -0.13625675,  0.08441096,\n",
              "        0.51247466, -0.1950659 , -0.12169358,  0.30684763, -0.25527707,\n",
              "        0.4433967 ,  0.0584562 , -0.01326058, -0.08489585,  0.31224546,\n",
              "       -0.0796835 ,  0.20461185, -0.3093964 ,  0.26389593, -0.20059133,\n",
              "        0.02664026, -0.46626082,  0.6312661 , -0.9002216 ,  0.39427122,\n",
              "       -0.27394202, -0.86988956,  0.5293679 ,  0.41963157,  0.64396966,\n",
              "       -0.83115625, -0.5999927 , -0.01305617, -0.5034983 , -0.1643164 ,\n",
              "       -0.07048351,  0.44115496, -0.04325339,  0.04208735,  0.66343844,\n",
              "       -0.0181872 , -0.49524838,  0.28057334,  0.73186296,  0.06181855],\n",
              "      dtype=float32)"
            ]
          },
          "metadata": {},
          "execution_count": 82
        }
      ]
    },
    {
      "cell_type": "code",
      "source": [
        "model.wv.most_similar('keith')"
      ],
      "metadata": {
        "colab": {
          "base_uri": "https://localhost:8080/"
        },
        "id": "kquUm7PWGI6T",
        "outputId": "de4c0938-30ab-4397-f12d-4bb8e3c01215"
      },
      "execution_count": null,
      "outputs": [
        {
          "output_type": "execute_result",
          "data": {
            "text/plain": [
              "[('kieth', 0.8159852027893066),\n",
              " ('harkin', 0.7378796339035034),\n",
              " ('kristyn', 0.7055225968360901),\n",
              " ('merrow', 0.6943685412406921),\n",
              " ('sudano', 0.6856597065925598),\n",
              " ('keiths', 0.6825425624847412),\n",
              " ('carradine', 0.6808328032493591),\n",
              " ('octagon', 0.679654061794281),\n",
              " ('wonderboy', 0.6698768734931946),\n",
              " ('toby', 0.6476283073425293)]"
            ]
          },
          "metadata": {},
          "execution_count": 83
        }
      ]
    },
    {
      "cell_type": "markdown",
      "source": [
        "### Visualizing word2vec embaddings\n"
      ],
      "metadata": {
        "id": "zGcEFkB6F_jE"
      }
    },
    {
      "cell_type": "code",
      "source": [
        "# load model\n",
        "model = Word2Vec.load(\"/content/drive/MyDrive/data_for_lab/RS_final_assignment/w2v_v1.model\")"
      ],
      "metadata": {
        "id": "RCbgaO5DGZSE"
      },
      "execution_count": null,
      "outputs": []
    },
    {
      "cell_type": "code",
      "source": [
        "def tsne_plot(model):\n",
        "    \"Creates and TSNE model and plots it\"\n",
        "    labels = []\n",
        "    tokens = []\n",
        "\n",
        "    for word in model.wv.key_to_index.keys():\n",
        "        tokens.append(model.wv.get_vector(word))\n",
        "        labels.append(word)\n",
        "    \n",
        "    tsne_model = TSNE(perplexity=40, n_components=2, init='pca', n_iter=250, random_state=23)\n",
        "    new_values = tsne_model.fit_transform(np.array(tokens)[:50])\n",
        "\n",
        "    x = []\n",
        "    y = []\n",
        "    for value in new_values:\n",
        "        x.append(value[0])\n",
        "        y.append(value[1])\n",
        "        \n",
        "    plt.figure(figsize=(12, 12)) \n",
        "    for i in range(len(x)):\n",
        "      plt.scatter(x[i],y[i])\n",
        "      plt.annotate(labels[i],\n",
        "                     xy=(x[i], y[i]),\n",
        "                     xytext=(5, 2),\n",
        "                     textcoords='offset points',\n",
        "                     ha='right',\n",
        "                     va='bottom')\n",
        "\n",
        "    plt.show()"
      ],
      "metadata": {
        "id": "RcbWS1j2F7qL"
      },
      "execution_count": null,
      "outputs": []
    },
    {
      "cell_type": "code",
      "source": [
        "tsne_plot(model)"
      ],
      "metadata": {
        "colab": {
          "base_uri": "https://localhost:8080/",
          "height": 984
        },
        "id": "uyHQWOWUG7hV",
        "outputId": "2cbe25e7-c51a-414d-aa6a-4b9be273fdc3"
      },
      "execution_count": null,
      "outputs": [
        {
          "output_type": "display_data",
          "data": {
            "text/plain": [
              "<Figure size 1200x1200 with 1 Axes>"
            ],
            "image/png": "[encoded data removed]"
          },
          "metadata": {}
        }
      ]
    },
    {
      "cell_type": "markdown",
      "source": [
        "### Expressing all items as vectors using word2vec model"
      ],
      "metadata": {
        "id": "dupE65-R2CRi"
      }
    },
    {
      "cell_type": "code",
      "source": [
        "# load model\n",
        "model = Word2Vec.load(\"/content/drive/MyDrive/data_for_lab/RS_final_assignment/w2v_v2.model\")"
      ],
      "metadata": {
        "id": "mHWy3DgW2B8-"
      },
      "execution_count": null,
      "outputs": []
    },
    {
      "cell_type": "code",
      "source": [
        "### Loading the data\n",
        "data = []\n",
        "with gzip.open('/content/drive/MyDrive/data_for_lab/RS_final_assignment/Digital_Music.json.gz') as f:\n",
        "    for l in f:\n",
        "        data.append(json.loads(l.strip()))\n",
        "\n",
        "df = pd.DataFrame.from_dict(data)\n",
        "df.shape"
      ],
      "metadata": {
        "colab": {
          "base_uri": "https://localhost:8080/"
        },
        "id": "JcBCwy6_2Nd9",
        "outputId": "fe5a9edc-ee58-4e7c-8123-db32e42b7d93"
      },
      "execution_count": null,
      "outputs": [
        {
          "output_type": "execute_result",
          "data": {
            "text/plain": [
              "(1584082, 12)"
            ]
          },
          "metadata": {},
          "execution_count": 5
        }
      ]
    },
    {
      "cell_type": "code",
      "source": [
        "len(np.unique(df['asin']))"
      ],
      "metadata": {
        "colab": {
          "base_uri": "https://localhost:8080/"
        },
        "id": "7P-VuRAb2Nal",
        "outputId": "5dbfe928-fb66-4651-feca-0d74504f232e"
      },
      "execution_count": null,
      "outputs": [
        {
          "output_type": "execute_result",
          "data": {
            "text/plain": [
              "456992"
            ]
          },
          "metadata": {},
          "execution_count": 23
        }
      ]
    },
    {
      "cell_type": "code",
      "source": [
        "### loading frequency dict\n",
        "with open('/content/drive/MyDrive/data_for_lab/RS_final_assignment/word_frequency.pickle', 'rb') as handle:\n",
        "    b = pickle.load(handle)\n",
        "\n",
        "# w2v_v1\n",
        "# taking words which is repeated more than 10 times and less than 10000 times. \n",
        "# Also filtering words of length 1 and 2 and numbers.\n",
        "\n",
        "# w2v_v2\n",
        "# taking words which is repeated more than 10 times and less than 25000 times. \n",
        "# Also filtering words of length 1 and 2 and numbers.\n",
        "\n",
        "word_set = set()\n",
        "\n",
        "for k in b.keys():\n",
        "  if not (b[k] < 10 or b[k] > 25000 or len(k) <= 2 or k.isnumeric()):\n",
        "    word_set.add(k)     "
      ],
      "metadata": {
        "id": "qqz5H5wU3Y7k"
      },
      "execution_count": null,
      "outputs": []
    },
    {
      "cell_type": "code",
      "source": [
        "len(word_set)"
      ],
      "metadata": {
        "colab": {
          "base_uri": "https://localhost:8080/"
        },
        "id": "T6aN-QfO36iz",
        "outputId": "c90682b8-3316-42bd-cf6d-8af0b6590332"
      },
      "execution_count": null,
      "outputs": [
        {
          "output_type": "execute_result",
          "data": {
            "text/plain": [
              "48916"
            ]
          },
          "metadata": {},
          "execution_count": 25
        }
      ]
    },
    {
      "cell_type": "code",
      "source": [
        "unique_items = list(np.unique(df['asin']))"
      ],
      "metadata": {
        "id": "7x5BAAko8fIw"
      },
      "execution_count": null,
      "outputs": []
    },
    {
      "cell_type": "code",
      "source": [
        "len(unique_items)"
      ],
      "metadata": {
        "colab": {
          "base_uri": "https://localhost:8080/"
        },
        "id": "toM0lsJw8oQp",
        "outputId": "929a8ce4-312d-4646-c8f1-65ad70d23827"
      },
      "execution_count": null,
      "outputs": [
        {
          "output_type": "execute_result",
          "data": {
            "text/plain": [
              "456992"
            ]
          },
          "metadata": {},
          "execution_count": 27
        }
      ]
    },
    {
      "cell_type": "code",
      "source": [
        "tokenizer = nltk.RegexpTokenizer(r\"\\w+\")\n",
        "stop_words = set(stopwords.words('english'))\n",
        "lemmatizer = WordNetLemmatizer()\n",
        "\n",
        "check, per, check_t = 0, 0, []\n",
        "main_dict = {}\n",
        "x = time.time()\n",
        "for item in df.groupby('asin'):\n",
        "  try:\n",
        "    check += 1\n",
        "\n",
        "    if check == len(unique_items) // 100:\n",
        "        per += 1\n",
        "        check = 0\n",
        "        check_t.append(time.time() - x)\n",
        "        print(f'Completed {per}%... Time taken - {time.time() - x}... Remaining time - {(100 - per) * (sum(check_t) / len(check_t))}')\n",
        "        x = time.time()\n",
        "\n",
        "\n",
        "    temp_df = item[1]\n",
        "    item_vec = np.zeros(100)\n",
        "    count = 0 \n",
        "    for i in range(temp_df.shape[0]):\n",
        "      sent = sent_tokenize(temp_df.iloc[i]['reviewText'])\n",
        "      pos_rev = True if temp_df.iloc[i]['overall'] >= 3 else False\n",
        "      for s in sent:\n",
        "        temp = []\n",
        "        temp.extend(tokenizer.tokenize(s))\n",
        "        temp = [w.lower() for w in temp if not w.lower() in stop_words]\n",
        "        temp = [lemmatizer.lemmatize(w) for w in temp]\n",
        "        temp = [w for w in temp if w in word_set]\n",
        "\n",
        "        if pos_rev:  \n",
        "          for w in temp:\n",
        "            item_vec += model.wv.get_vector(w)\n",
        "            count += 1\n",
        "        else:\n",
        "          for w in temp:\n",
        "            item_vec -= model.wv.get_vector(w)\n",
        "            count += 1\n",
        "\n",
        "    if count != 0:\n",
        "      main_dict[item[0]] = item_vec/count\n",
        "\n",
        "  except KeyboardInterrupt:\n",
        "    break\n",
        "  except Exception as e:\n",
        "    pass\n",
        "\n",
        "\n"
      ],
      "metadata": {
        "colab": {
          "base_uri": "https://localhost:8080/"
        },
        "id": "9CAkeLID2NXU",
        "outputId": "1fbc3533-b099-4b0e-b275-c9d56d941713"
      },
      "execution_count": null,
      "outputs": [
        {
          "output_type": "stream",
          "name": "stdout",
          "text": [
            "Completed 1%... Time taken - 16.772717475891113... Remaining time - 1660.4985580444336\n",
            "Completed 2%... Time taken - 8.917238235473633... Remaining time - 1258.8074560165405\n",
            "Completed 3%... Time taken - 11.996544599533081... Remaining time - 1218.5298375288644\n",
            "Completed 4%... Time taken - 10.276072263717651... Remaining time - 1151.1014213562012\n",
            "Completed 5%... Time taken - 7.5489397048950195... Remaining time - 1054.7184207439423\n",
            "Completed 6%... Time taken - 5.808228254318237... Remaining time - 960.675617535909\n",
            "Completed 7%... Time taken - 6.246271133422852... Remaining time - 897.6624128477913\n",
            "Completed 8%... Time taken - 6.7804789543151855... Remaining time - 854.9843240976334\n",
            "Completed 9%... Time taken - 7.493770122528076... Remaining time - 827.4956587685479\n",
            "Completed 10%... Time taken - 7.522510766983032... Remaining time - 804.2646367549897\n",
            "Completed 11%... Time taken - 9.350556135177612... Remaining time - 798.6802610484036\n",
            "Completed 12%... Time taken - 10.466935634613037... Remaining time - 800.6549703280131\n",
            "Completed 13%... Time taken - 13.302632808685303... Remaining time - 819.6929372824155\n",
            "Completed 14%... Time taken - 11.167796611785889... Remaining time - 820.9968252522606\n",
            "Completed 15%... Time taken - 7.535846471786499... Remaining time - 800.0567715962728\n",
            "Completed 16%... Time taken - 13.75040340423584... Remaining time - 813.4186668992043\n",
            "Completed 17%... Time taken - 14.10103988647461... Remaining time - 825.3027823812822\n",
            "Completed 18%... Time taken - 10.300583600997925... Remaining time - 816.9864262474907\n",
            "Completed 19%... Time taken - 13.435977697372437... Remaining time - 821.8279542672007\n",
            "Completed 20%... Time taken - 16.17920684814453... Remaining time - 835.8146476745605\n",
            "Completed 21%... Time taken - 8.855472564697266... Remaining time - 819.3771538280306\n",
            "Completed 22%... Time taken - 7.842482566833496... Remaining time - 800.0374803543091\n",
            "Completed 23%... Time taken - 11.03184700012207... Remaining time - 792.3749970767809\n",
            "Completed 24%... Time taken - 7.64954686164856... Remaining time - 773.7211128870646\n",
            "Completed 25%... Time taken - 7.134033918380737... Remaining time - 754.4010400772095\n",
            "Completed 26%... Time taken - 8.098243713378906... Remaining time - 738.7626459231743\n",
            "Completed 27%... Time taken - 6.152891635894775... Remaining time - 718.4231260440968\n",
            "Completed 28%... Time taken - 8.33795714378357... Remaining time - 704.7156370026726\n",
            "Completed 29%... Time taken - 7.824752569198608... Remaining time - 690.1220321901914\n",
            "Completed 30%... Time taken - 9.70796823501587... Remaining time - 680.3738537629446\n",
            "Completed 31%... Time taken - 8.897939920425415... Remaining time - 668.8253024778058\n",
            "Completed 32%... Time taken - 8.323827505111694... Remaining time - 656.2224288284779\n",
            "Completed 33%... Time taken - 7.982425212860107... Remaining time - 643.185739437739\n",
            "Completed 34%... Time taken - 6.94008469581604... Remaining time - 628.4229939685149\n",
            "Completed 35%... Time taken - 7.828887462615967... Remaining time - 615.7578915868486\n",
            "Completed 36%... Time taken - 6.0640082359313965... Remaining time - 600.2239045037163\n",
            "Completed 37%... Time taken - 7.620774507522583... Remaining time - 587.8525201243323\n",
            "Completed 38%... Time taken - 7.698029279708862... Remaining time - 575.8572129073896\n",
            "Completed 39%... Time taken - 11.142709732055664... Remaining time - 569.4701137726124\n",
            "Completed 40%... Time taken - 9.246888399124146... Remaining time - 560.0015015602112\n",
            "Completed 41%... Time taken - 7.246064901351929... Remaining time - 547.6644728881556\n",
            "Completed 42%... Time taken - 9.445117235183716... Remaining time - 538.6066574255625\n",
            "Completed 43%... Time taken - 7.074161052703857... Remaining time - 526.3879295060801\n",
            "Completed 44%... Time taken - 10.411776304244995... Remaining time - 518.6509227752686\n",
            "Completed 45%... Time taken - 10.77071213722229... Remaining time - 511.2337374687195\n",
            "Completed 46%... Time taken - 7.135589361190796... Remaining time - 499.4034259215645\n",
            "Completed 47%... Time taken - 8.555102348327637... Remaining time - 489.37361902378973\n",
            "Completed 48%... Time taken - 10.265768051147461... Remaining time - 481.25848050912225\n",
            "Completed 49%... Time taken - 7.2911388874053955... Remaining time - 469.95951820879566\n",
            "Completed 50%... Time taken - 8.983650207519531... Remaining time - 460.5133798122406\n",
            "Completed 51%... Time taken - 6.978954792022705... Remaining time - 449.15929866772075\n",
            "Completed 52%... Time taken - 9.989568710327148... Remaining time - 440.75252063457776\n",
            "Completed 53%... Time taken - 9.085123777389526... Remaining time - 431.4839587526501\n",
            "Completed 54%... Time taken - 6.52483344078064... Remaining time - 420.0412033575553\n",
            "Completed 55%... Time taken - 8.999315738677979... Remaining time - 410.8018580350009\n",
            "Completed 56%... Time taken - 6.991021394729614... Remaining time - 399.99313938617706\n",
            "Completed 57%... Time taken - 7.7309722900390625... Remaining time - 389.87658337124606\n",
            "Completed 58%... Time taken - 7.030591726303101... Remaining time - 379.33511739763725\n",
            "Completed 59%... Time taken - 9.581674814224243... Remaining time - 370.68545094991134\n",
            "Completed 60%... Time taken - 10.892959117889404... Remaining time - 362.87890736262005\n",
            "Completed 61%... Time taken - 14.3622305393219... Remaining time - 357.18922824546934\n",
            "Completed 62%... Time taken - 13.246953248977661... Remaining time - 350.5362329175395\n",
            "Completed 63%... Time taken - 9.845896482467651... Remaining time - 341.6764588128953\n",
            "Completed 64%... Time taken - 8.780386209487915... Remaining time - 332.18651953339577\n",
            "Completed 65%... Time taken - 8.465298652648926... Remaining time - 322.5487490800711\n",
            "Completed 66%... Time taken - 7.955729007720947... Remaining time - 312.68400402502584\n",
            "Completed 67%... Time taken - 9.395564794540405... Remaining time - 303.5854174663771\n",
            "Completed 68%... Time taken - 7.337880373001099... Remaining time - 293.5097740397734\n",
            "Completed 69%... Time taken - 8.220662832260132... Remaining time - 283.91009868400687\n",
            "Completed 70%... Time taken - 8.01546049118042... Remaining time - 274.2618797166007\n",
            "Completed 71%... Time taken - 8.121927499771118... Remaining time - 264.70314067518206\n",
            "Completed 72%... Time taken - 8.81690263748169... Remaining time - 255.4545812739266\n",
            "Completed 73%... Time taken - 7.681493520736694... Remaining time - 245.79790243383957\n",
            "Completed 74%... Time taken - 11.606328010559082... Remaining time - 237.5736029728039\n",
            "Completed 75%... Time taken - 7.365722179412842... Remaining time - 227.84558065732318\n",
            "Completed 76%... Time taken - 7.109042644500732... Remaining time - 218.09866769690262\n",
            "Completed 77%... Time taken - 8.787358045578003... Remaining time - 208.92158486316728\n",
            "Completed 78%... Time taken - 7.315897703170776... Remaining time - 199.33946888874738\n",
            "Completed 79%... Time taken - 8.77083683013916... Remaining time - 190.20148146303396\n",
            "Completed 80%... Time taken - 6.80517578125... Remaining time - 180.5812577009201\n",
            "Completed 81%... Time taken - 8.969672918319702... Remaining time - 171.5382629412192\n",
            "Completed 82%... Time taken - 9.644108295440674... Remaining time - 162.64510308823935\n",
            "Completed 83%... Time taken - 8.353752613067627... Remaining time - 153.46955879337818\n",
            "Completed 84%... Time taken - 10.741498470306396... Remaining time - 144.76838983808244\n",
            "Completed 85%... Time taken - 7.6406638622283936... Remaining time - 135.472006853889\n",
            "Completed 86%... Time taken - 9.001949310302734... Remaining time - 126.43573396150455\n",
            "Completed 87%... Time taken - 9.23708987236023... Remaining time - 117.43538613977104\n",
            "Completed 88%... Time taken - 9.32482361793518... Remaining time - 108.44162129272114\n",
            "Completed 89%... Time taken - 11.24977970123291... Remaining time - 99.67833320210488\n",
            "Completed 90%... Time taken - 9.212559938430786... Remaining time - 90.63343209690517\n",
            "Completed 91%... Time taken - 9.055504083633423... Remaining time - 81.5693129995367\n",
            "Completed 92%... Time taken - 9.002161026000977... Remaining time - 72.50074291229248\n",
            "Completed 93%... Time taken - 10.132660388946533... Remaining time - 63.518692334493004\n",
            "Completed 94%... Time taken - 6.524251699447632... Remaining time - 54.28183704234184\n",
            "Completed 95%... Time taken - 8.70255970954895... Remaining time - 45.2167370193883\n",
            "Completed 96%... Time taken - 8.441089391708374... Remaining time - 36.14829530318578\n",
            "Completed 97%... Time taken - 8.486435413360596... Remaining time - 27.094191320163688\n",
            "Completed 98%... Time taken - 10.37207579612732... Remaining time - 18.090154934902582\n",
            "Completed 99%... Time taken - 8.890239238739014... Remaining time - 9.043513396773676\n",
            "Completed 100%... Time taken - 8.504415512084961... Remaining time - 0.0\n"
          ]
        }
      ]
    },
    {
      "cell_type": "code",
      "source": [
        "arr = []\n",
        "items = []\n",
        "for i in main_dict.keys():\n",
        "  arr.append(main_dict[i])\n",
        "  items.append(i)\n",
        "\n",
        "arr = np.array(arr)\n",
        "items = np.array(items)"
      ],
      "metadata": {
        "id": "kATl0PgT1dE0"
      },
      "execution_count": null,
      "outputs": []
    },
    {
      "cell_type": "code",
      "source": [
        "len(unique_items) - items.shape[0]"
      ],
      "metadata": {
        "colab": {
          "base_uri": "https://localhost:8080/"
        },
        "id": "VaFxKAARC64U",
        "outputId": "87fcfa1d-14a6-427e-f4ef-d396cbd545d7"
      },
      "execution_count": null,
      "outputs": [
        {
          "output_type": "execute_result",
          "data": {
            "text/plain": [
              "44543"
            ]
          },
          "metadata": {},
          "execution_count": 33
        }
      ]
    },
    {
      "cell_type": "code",
      "source": [
        "# saving item vectors\n",
        "# with open('/content/drive/MyDrive/data_for_lab/RS_final_assignment/item_vectors_v2.pickle', 'wb') as handle:\n",
        "#     pickle.dump(main_dict, handle, protocol=pickle.HIGHEST_PROTOCOL)"
      ],
      "metadata": {
        "id": "udP9EnLnesx0"
      },
      "execution_count": null,
      "outputs": []
    },
    {
      "cell_type": "markdown",
      "source": [
        "### Building Content based RS"
      ],
      "metadata": {
        "id": "vxHdWiJ7ak8b"
      }
    },
    {
      "cell_type": "code",
      "source": [
        "# load item vectors\n",
        "# item_vectors_v2 has more items then item_vectors\n",
        "with open('/content/drive/MyDrive/data_for_lab/RS_final_assignment/item_vectors_v2.pickle', 'rb') as handle:\n",
        "    b = pickle.load(handle)"
      ],
      "metadata": {
        "id": "48ULAWsffIUt"
      },
      "execution_count": null,
      "outputs": []
    },
    {
      "cell_type": "code",
      "source": [
        "arr = []\n",
        "items = []\n",
        "for i in b.keys():\n",
        "  arr.append(b[i])\n",
        "  items.append(i)\n",
        "\n",
        "arr = np.array(arr)\n",
        "items = np.array(items)"
      ],
      "metadata": {
        "id": "_wjchGFcajDS"
      },
      "execution_count": null,
      "outputs": []
    },
    {
      "cell_type": "code",
      "source": [
        "arr.shape"
      ],
      "metadata": {
        "colab": {
          "base_uri": "https://localhost:8080/"
        },
        "id": "qOU7WtQPajAE",
        "outputId": "9c72682b-32fb-40e3-a369-f5295c09cdc2"
      },
      "execution_count": null,
      "outputs": [
        {
          "output_type": "execute_result",
          "data": {
            "text/plain": [
              "(412449, 100)"
            ]
          },
          "metadata": {},
          "execution_count": 8
        }
      ]
    },
    {
      "cell_type": "code",
      "source": [
        "df = pd.read_csv('/content/drive/MyDrive/data_for_lab/RS_final_assignment/Digital_Music_small.csv', header = None)"
      ],
      "metadata": {
        "id": "ZZUIbyJDaiyb"
      },
      "execution_count": null,
      "outputs": []
    },
    {
      "cell_type": "code",
      "source": [
        "x = time.time()\n",
        "test_user = 'A12R54MKO17TW0'\n",
        "\n",
        "t = df[df[1] == test_user]\n",
        "pos_rev = t[t[2] >= 3]\n",
        "neg_rev = t[t[2] < 3]\n",
        "\n",
        "pos_items_interacted = list(pos_rev[0])\n",
        "neg_items_interacted = list(neg_rev[0])\n",
        "\n",
        "user_profile = np.zeros(100)\n",
        "arg_items = np.where(np.isin(items,pos_items_interacted))[0]\n",
        "user_profile += np.sum(arr[arg_items], axis = 0)\n",
        "arg_items = np.where(np.isin(items,neg_items_interacted))[0]\n",
        "user_profile -= np.sum(arr[arg_items], axis = 0)\n",
        "user_profile = user_profile / (len(pos_items_interacted) + len(neg_items_interacted))\n",
        "\n",
        "top_k = 10\n",
        "print(items[np.argsort(np.sqrt(np.sum(np.square(arr - user_profile), axis = 1)))[:top_k]])\n",
        "print(f'Recommendations in {time.time() - x} seconds')"
      ],
      "metadata": {
        "colab": {
          "base_uri": "https://localhost:8080/"
        },
        "id": "72crtO1Qd920",
        "outputId": "2f5d005a-d380-4a92-c058-191a26acb776"
      },
      "execution_count": null,
      "outputs": [
        {
          "output_type": "stream",
          "name": "stdout",
          "text": [
            "['B001NFURF4' 'B0000564WK' 'B00025G1H4' 'B001BIQPB8' 'B01AUA24UI'\n",
            " 'B001DCDZVA' 'B001NSC6UK' 'B00000JWON' 'B01DKYRCEY' 'B002UXK0Z0']\n",
            "Recommendations in 0.9253556728363037 seconds\n"
          ]
        }
      ]
    },
    {
      "cell_type": "markdown",
      "source": [
        "### Collaborative"
      ],
      "metadata": {
        "id": "f4nNLh4BHs0B"
      }
    },
    {
      "cell_type": "code",
      "source": [
        "x = pd.read_csv('/content/drive/MyDrive/data_for_lab/RS_final_assignment/Digital_Music_small.csv', header = None)"
      ],
      "metadata": {
        "id": "-RhAmE1AEj64"
      },
      "execution_count": null,
      "outputs": []
    },
    {
      "cell_type": "code",
      "source": [
        "x.head()"
      ],
      "metadata": {
        "colab": {
          "base_uri": "https://localhost:8080/",
          "height": 206
        },
        "id": "gqHOk__hHfTs",
        "outputId": "16596bcb-0a43-461d-aa8b-7c5cf876a424"
      },
      "execution_count": null,
      "outputs": [
        {
          "output_type": "execute_result",
          "data": {
            "text/plain": [
              "            0               1    2           3\n",
              "0  0001388703  A1ZCPG3D3HGRSS  5.0  1387670400\n",
              "1  0001388703   AC2PL52NKPL29  5.0  1378857600\n",
              "2  0001388703  A1SUZXBDZSDQ3A  5.0  1362182400\n",
              "3  0001388703  A3A0W7FZXM0IZW  5.0  1354406400\n",
              "4  0001388703  A12R54MKO17TW0  5.0  1325894400"
            ],
            "text/html": [
              "\n",
              "  <div id=\"df-0a0af9f9-747c-4f42-93ff-8d9e53ab6a82\">\n",
              "    <div class=\"colab-df-container\">\n",
              "      <div>\n",
              "<style scoped>\n",
              "    .dataframe tbody tr th:only-of-type {\n",
              "        vertical-align: middle;\n",
              "    }\n",
              "\n",
              "    .dataframe tbody tr th {\n",
              "        vertical-align: top;\n",
              "    }\n",
              "\n",
              "    .dataframe thead th {\n",
              "        text-align: right;\n",
              "    }\n",
              "</style>\n",
              "<table border=\"1\" class=\"dataframe\">\n",
              "  <thead>\n",
              "    <tr style=\"text-align: right;\">\n",
              "      <th></th>\n",
              "      <th>0</th>\n",
              "      <th>1</th>\n",
              "      <th>2</th>\n",
              "      <th>3</th>\n",
              "    </tr>\n",
              "  </thead>\n",
              "  <tbody>\n",
              "    <tr>\n",
              "      <th>0</th>\n",
              "      <td>0001388703</td>\n",
              "      <td>A1ZCPG3D3HGRSS</td>\n",
              "      <td>5.0</td>\n",
              "      <td>1387670400</td>\n",
              "    </tr>\n",
              "    <tr>\n",
              "      <th>1</th>\n",
              "      <td>0001388703</td>\n",
              "      <td>AC2PL52NKPL29</td>\n",
              "      <td>5.0</td>\n",
              "      <td>1378857600</td>\n",
              "    </tr>\n",
              "    <tr>\n",
              "      <th>2</th>\n",
              "      <td>0001388703</td>\n",
              "      <td>A1SUZXBDZSDQ3A</td>\n",
              "      <td>5.0</td>\n",
              "      <td>1362182400</td>\n",
              "    </tr>\n",
              "    <tr>\n",
              "      <th>3</th>\n",
              "      <td>0001388703</td>\n",
              "      <td>A3A0W7FZXM0IZW</td>\n",
              "      <td>5.0</td>\n",
              "      <td>1354406400</td>\n",
              "    </tr>\n",
              "    <tr>\n",
              "      <th>4</th>\n",
              "      <td>0001388703</td>\n",
              "      <td>A12R54MKO17TW0</td>\n",
              "      <td>5.0</td>\n",
              "      <td>1325894400</td>\n",
              "    </tr>\n",
              "  </tbody>\n",
              "</table>\n",
              "</div>\n",
              "      <button class=\"colab-df-convert\" onclick=\"convertToInteractive('df-0a0af9f9-747c-4f42-93ff-8d9e53ab6a82')\"\n",
              "              title=\"Convert this dataframe to an interactive table.\"\n",
              "              style=\"display:none;\">\n",
              "        \n",
              "  <svg xmlns=\"http://www.w3.org/2000/svg\" height=\"24px\"viewBox=\"0 0 24 24\"\n",
              "       width=\"24px\">\n",
              "    <path d=\"M0 0h24v24H0V0z\" fill=\"none\"/>\n",
              "    <path d=\"M18.56 5.44l.94 2.06.94-2.06 2.06-.94-2.06-.94-.94-2.06-.94 2.06-2.06.94zm-11 1L8.5 8.5l.94-2.06 2.06-.94-2.06-.94L8.5 2.5l-.94 2.06-2.06.94zm10 10l.94 2.06.94-2.06 2.06-.94-2.06-.94-.94-2.06-.94 2.06-2.06.94z\"/><path d=\"M17.41 7.96l-1.37-1.37c-.4-.4-.92-.59-1.43-.59-.52 0-1.04.2-1.43.59L10.3 9.45l-7.72 7.72c-.78.78-.78 2.05 0 2.83L4 21.41c.39.39.9.59 1.41.59.51 0 1.02-.2 1.41-.59l7.78-7.78 2.81-2.81c.8-.78.8-2.07 0-2.86zM5.41 20L4 18.59l7.72-7.72 1.47 1.35L5.41 20z\"/>\n",
              "  </svg>\n",
              "      </button>\n",
              "      \n",
              "  <style>\n",
              "    .colab-df-container {\n",
              "      display:flex;\n",
              "      flex-wrap:wrap;\n",
              "      gap: 12px;\n",
              "    }\n",
              "\n",
              "    .colab-df-convert {\n",
              "      background-color: #E8F0FE;\n",
              "      border: none;\n",
              "      border-radius: 50%;\n",
              "      cursor: pointer;\n",
              "      display: none;\n",
              "      fill: #1967D2;\n",
              "      height: 32px;\n",
              "      padding: 0 0 0 0;\n",
              "      width: 32px;\n",
              "    }\n",
              "\n",
              "    .colab-df-convert:hover {\n",
              "      background-color: #E2EBFA;\n",
              "      box-shadow: 0px 1px 2px rgba(60, 64, 67, 0.3), 0px 1px 3px 1px rgba(60, 64, 67, 0.15);\n",
              "      fill: #174EA6;\n",
              "    }\n",
              "\n",
              "    [theme=dark] .colab-df-convert {\n",
              "      background-color: #3B4455;\n",
              "      fill: #D2E3FC;\n",
              "    }\n",
              "\n",
              "    [theme=dark] .colab-df-convert:hover {\n",
              "      background-color: #434B5C;\n",
              "      box-shadow: 0px 1px 3px 1px rgba(0, 0, 0, 0.15);\n",
              "      filter: drop-shadow(0px 1px 2px rgba(0, 0, 0, 0.3));\n",
              "      fill: #FFFFFF;\n",
              "    }\n",
              "  </style>\n",
              "\n",
              "      <script>\n",
              "        const buttonEl =\n",
              "          document.querySelector('#df-0a0af9f9-747c-4f42-93ff-8d9e53ab6a82 button.colab-df-convert');\n",
              "        buttonEl.style.display =\n",
              "          google.colab.kernel.accessAllowed ? 'block' : 'none';\n",
              "\n",
              "        async function convertToInteractive(key) {\n",
              "          const element = document.querySelector('#df-0a0af9f9-747c-4f42-93ff-8d9e53ab6a82');\n",
              "          const dataTable =\n",
              "            await google.colab.kernel.invokeFunction('convertToInteractive',\n",
              "                                                     [key], {});\n",
              "          if (!dataTable) return;\n",
              "\n",
              "          const docLinkHtml = 'Like what you see? Visit the ' +\n",
              "            '<a target=\"_blank\" href=https://colab.research.google.com/notebooks/data_table.ipynb>data table notebook</a>'\n",
              "            + ' to learn more about interactive tables.';\n",
              "          element.innerHTML = '';\n",
              "          dataTable['output_type'] = 'display_data';\n",
              "          await google.colab.output.renderOutput(dataTable, element);\n",
              "          const docLink = document.createElement('div');\n",
              "          docLink.innerHTML = docLinkHtml;\n",
              "          element.appendChild(docLink);\n",
              "        }\n",
              "      </script>\n",
              "    </div>\n",
              "  </div>\n",
              "  "
            ]
          },
          "metadata": {},
          "execution_count": 17
        }
      ]
    },
    {
      "cell_type": "code",
      "source": [
        "len(np.unique(x.iloc[:,0])), len(np.unique(x.iloc[:,1]))"
      ],
      "metadata": {
        "colab": {
          "base_uri": "https://localhost:8080/"
        },
        "id": "Ih0MbVc0ICHU",
        "outputId": "31ccfb51-0816-4d58-a1ac-b86be86c8bfc"
      },
      "execution_count": null,
      "outputs": [
        {
          "output_type": "execute_result",
          "data": {
            "text/plain": [
              "(456992, 840372)"
            ]
          },
          "metadata": {},
          "execution_count": 19
        }
      ]
    },
    {
      "cell_type": "code",
      "source": [
        "user_dict = {x:i for i,x in enumerate(np.unique(x.iloc[:,1]))}\n",
        "item_dict = {x:i for i,x in enumerate(np.unique(x.iloc[:,0]))}"
      ],
      "metadata": {
        "id": "DXmdy-Qj0sAU"
      },
      "execution_count": null,
      "outputs": []
    },
    {
      "cell_type": "code",
      "source": [
        "class MF_wo_implicit():\n",
        "  def __init__(self, arr, k, lmda4, gamma, iter):\n",
        "    self.arr = arr\n",
        "\n",
        "    self.user_dict = {x:i for i,x in enumerate(np.unique(arr[:,1]))}\n",
        "    self.item_dict = {x:i for i,x in enumerate(np.unique(arr[:,0]))}\n",
        "\n",
        "    self.bu = np.random.rand(len(self.user_dict))\n",
        "    self.bi = np.random.rand(len(self.item_dict))\n",
        "    self.u = np.mean(arr[:,2])\n",
        "    self.p = np.random.rand(len(self.user_dict),k)\n",
        "    self.q = np.random.rand(k,len(self.item_dict))\n",
        "\n",
        "    self.k = k\n",
        "    self.lmda4 = lmda4\n",
        "    self.gamma = gamma\n",
        "    self.iter = iter\n",
        "\n",
        "\n",
        "  def fit(self):\n",
        "    for epoch in range(self.iter):\n",
        "      total,count,err = self.arr.shape[0], 1, []\n",
        "    \n",
        "      for i in range(self.arr.shape[0]):\n",
        "        curr_rating = self.arr[i]\n",
        "        r_hat = self.u + self.bu[self.user_dict[curr_rating[1]]] + self.bi[self.item_dict[curr_rating[0]]] + np.dot(self.p[self.user_dict[curr_rating[1]],:], self.q[:, self.item_dict[curr_rating[0]]])\n",
        "\n",
        "        # update\n",
        "        error = curr_rating[2] - r_hat\n",
        "        err.append(error)\n",
        "\n",
        "        self.bu[self.user_dict[curr_rating[1]]] += self.gamma * (error - self.lmda4 * self.bu[self.user_dict[curr_rating[1]]])\n",
        "        self.bi[self.item_dict[curr_rating[0]]] += self.gamma * (error - self.lmda4 * self.bi[self.item_dict[curr_rating[0]]])\n",
        "\n",
        "        for j in range(self.k):\n",
        "          self.p[self.user_dict[curr_rating[1]],j] += self.gamma * (error * self.q[j, self.item_dict[curr_rating[0]]] + self.lmda4 * self.p[self.user_dict[curr_rating[1]],j])\n",
        "          self.q[j, self.item_dict[curr_rating[0]]] += self.gamma * (error * self.p[self.user_dict[curr_rating[1]],j] + self.lmda4 * self.q[j, self.item_dict[curr_rating[0]]])\n",
        "        \n",
        "        if count % int(total / 10) == 0:\n",
        "          s = 'Epoch ' + str(epoch) + ' [' + '===' * int((count+1) / total * 10) + '>' + '   ' * (10 - int((count+1) / total * 10)) + ']' + '  Error (RMSE): ' + str(np.sqrt(abs(np.mean(err))))\n",
        "          print(f\"\\r{s}\", end=\"\")\n",
        "        \n",
        "        count += 1\n",
        "      print()\n",
        "\n",
        "  def predict_index(self, user_id, top_k):\n",
        "    rec_index, ret_list = [], []\n",
        "\n",
        "    temp1 = self.arr[self.arr[1] == user_id][0]\n",
        "    for i in range(self.arr.shape[1]):\n",
        "      r_hat = self.u + self.bu[self.user_dict[user_id]] + self.bi[i] + np.dot(self.p[self.user_dict[user_id],:], self.q[:,i])\n",
        "\n",
        "      rec_index.append(r_hat)\n",
        "\n",
        "    rev_sorted_index = np.argsort(rec_index)[::-1]\n",
        "\n",
        "    for i in rev_sorted_index:\n",
        "      if i not in temp1:\n",
        "        ret_list.append(i)\n",
        "\n",
        "      if len(ret_list) == top_k:\n",
        "        break\n",
        "    \n",
        "    return ret_list"
      ],
      "metadata": {
        "id": "UD2b2BnYIUef"
      },
      "execution_count": null,
      "outputs": []
    },
    {
      "cell_type": "code",
      "source": [
        "mf = MF_wo_implicit(np.array(x),200,0.002,0.005,10)"
      ],
      "metadata": {
        "id": "waO36B3cEAV5"
      },
      "execution_count": null,
      "outputs": []
    },
    {
      "cell_type": "code",
      "source": [
        "mf.fit()"
      ],
      "metadata": {
        "colab": {
          "base_uri": "https://localhost:8080/"
        },
        "id": "oHTXjTTdHT4M",
        "outputId": "1e4dccc7-d4c1-4df3-e128-44dc9188d38b"
      },
      "execution_count": null,
      "outputs": [
        {
          "output_type": "stream",
          "name": "stdout",
          "text": [
            "Epoch 0 [===========================>   ]  Error (RMSE): 4.428360844003845\n",
            "Epoch 1 [===========================>   ]  Error (RMSE): 2.097266123265976\n",
            "Epoch 2 [===========================>   ]  Error (RMSE): 1.3424272965411346\n",
            "Epoch 3 [===========================>   ]  Error (RMSE): 0.8884169437278764\n",
            "Epoch 4 [===========================>   ]  Error (RMSE): 0.5857080230833032\n",
            "Epoch 5 [===========================>   ]  Error (RMSE): 0.3723102528713322\n",
            "Epoch 6 [===========================>   ]  Error (RMSE): 0.21170856024823034\n",
            "Epoch 7 [===========================>   ]  Error (RMSE): 0.05617495197815595\n",
            "Epoch 8 [===========================>   ]  Error (RMSE): 0.11743460810300253\n",
            "Epoch 9 [===========================>   ]  Error (RMSE): 0.13847946727719151\n"
          ]
        }
      ]
    },
    {
      "cell_type": "code",
      "source": [
        "save_dict = {}\n",
        "\n",
        "save_dict['info'] = f'Matrix Factorization model.\\nUsed data array of size {mf.arr.shape}, with columns as [item_id, user_id, rating].\\nOther data includes:\\nk = {mf.k}\\nlmda4: {mf.lmda4}\\ngamma: {mf.gamma}\\niterations: {mf.iter}'\n",
        "save_dict['arr'] = mf.arr\n",
        "save_dict['user_dict'] = mf.user_dict\n",
        "save_dict['item_dict'] = mf.item_dict\n",
        "save_dict['bu'] = mf.bu\n",
        "save_dict['bi'] = mf.bi\n",
        "save_dict['u'] = mf.u\n",
        "save_dict['p'] = mf.p\n",
        "save_dict['q'] = mf.q\n"
      ],
      "metadata": {
        "id": "NsExQCD9HclZ"
      },
      "execution_count": null,
      "outputs": []
    },
    {
      "cell_type": "code",
      "source": [
        "len(save_dict['item_dict'])"
      ],
      "metadata": {
        "colab": {
          "base_uri": "https://localhost:8080/"
        },
        "id": "O0QtOj1r6QKU",
        "outputId": "1e6656b2-a295-4074-a98a-bcbc706657a6"
      },
      "execution_count": null,
      "outputs": [
        {
          "output_type": "execute_result",
          "data": {
            "text/plain": [
              "456992"
            ]
          },
          "metadata": {},
          "execution_count": 30
        }
      ]
    },
    {
      "cell_type": "code",
      "source": [
        "save_dict['p'].shape, len(save_dict['user_dict'])"
      ],
      "metadata": {
        "colab": {
          "base_uri": "https://localhost:8080/"
        },
        "id": "3A8laYoq7Txh",
        "outputId": "946d7876-05ae-4e46-b258-43e96accfc7a"
      },
      "execution_count": null,
      "outputs": [
        {
          "output_type": "execute_result",
          "data": {
            "text/plain": [
              "((840372, 200), 840372)"
            ]
          },
          "metadata": {},
          "execution_count": 33
        }
      ]
    },
    {
      "cell_type": "code",
      "source": [
        "# with open('/content/drive/MyDrive/data_for_lab/RS_final_assignment/matrix_factorization_model_v1.pickle', 'wb') as handle:\n",
        "    # pickle.dump(save_dict, handle, protocol=pickle.HIGHEST_PROTOCOL)\n"
      ],
      "metadata": {
        "id": "sNfiEQlM5fqZ"
      },
      "execution_count": null,
      "outputs": []
    },
    {
      "cell_type": "code",
      "source": [
        "with open('/content/drive/MyDrive/data_for_lab/RS_final_assignment/matrix_factorization_model_v1.pickle', 'wb') as handle:\n",
        "    b = pickle.load(save_dict, handle, protocol=pickle.HIGHEST_PROTOCOL)"
      ],
      "metadata": {
        "id": "q89x5wwh_Bml"
      },
      "execution_count": null,
      "outputs": []
    },
    {
      "cell_type": "markdown",
      "source": [
        "### Checking metadata file"
      ],
      "metadata": {
        "id": "6g0ZyDrN_M_7"
      }
    },
    {
      "cell_type": "code",
      "source": [
        "remove = set(['Clothing, Shoes & Jewelry',\n",
        " 'Handbags & Wallets',\n",
        " 'Home & Kitchen', 'Kitchen & Dining',\n",
        " 'Books','CDs & Vinyl',\n",
        " 'Electronics',\n",
        " 'Kindle Store',\n",
        " 'Sports & Outdoors',\n",
        " 'Office Products',\n",
        " 'Patio, Lawn & Garden'])\n",
        "\n",
        "\n",
        "line_count = 10535680"
      ],
      "metadata": {
        "id": "eEbDbEk3Ep4n"
      },
      "execution_count": null,
      "outputs": []
    },
    {
      "cell_type": "code",
      "source": [
        "data = []\n",
        "check = 0\n",
        "with gzip.open('/content/drive/MyDrive/data_for_lab/RS_final_assignment/All_Amazon_Meta.json.gz') as f:\n",
        "    for l in f:\n",
        "      check += 1\n",
        "      if check <= line_count:\n",
        "        pass\n",
        "      else:\n",
        "        line_count += 1\n",
        "      found = False\n",
        "      t = json.loads(l.strip())['category']\n",
        "      if t:\n",
        "        for i in t:\n",
        "          if i in remove:\n",
        "            found = True\n",
        "            break\n",
        "        \n",
        "        if found:\n",
        "          pass\n",
        "        else:\n",
        "          print(json.loads(l.strip())['category'])\n",
        "          print(json.loads(l.strip()))\n",
        "          break\n",
        "    \n"
      ],
      "metadata": {
        "id": "lpItjanR6YUR",
        "colab": {
          "base_uri": "https://localhost:8080/"
        },
        "outputId": "9d23875b-7498-4a93-b896-20cad2321fcb"
      },
      "execution_count": null,
      "outputs": [
        {
          "output_type": "stream",
          "name": "stdout",
          "text": [
            "['Patio, Lawn & Garden', 'Outdoor Power Tools', 'Replacement Parts & Accessories', 'Lawn Mower Parts & Accessories']\n",
            "{'category': ['Patio, Lawn & Garden', 'Outdoor Power Tools', 'Replacement Parts & Accessories', 'Lawn Mower Parts & Accessories'], 'tech1': ' class=\"a-keyvalue prodDetTable\" role=\"presentation\">\\n         \\n           \\n           \\n           \\n           <tr>\\n            \\n            \\n              \\n              \\n               \\n                <th class=\"a-color-secondary a-size-base prodDetSectionEntry\">\\n                  Brand Name\\n                </th>\\n                \\n              \\n            \\n            \\n           \\n            <td class=\"a-size-base\">\\n              Scholastic\\n            </td>\\n            \\n           </tr>\\n           \\n           \\n           \\n           <tr>\\n            \\n            \\n              \\n              \\n               \\n                <th class=\"a-color-secondary a-size-base prodDetSectionEntry\">\\n                  Item Weight\\n                </th>\\n                \\n              \\n            \\n            \\n           \\n            <td class=\"a-size-base\">\\n              4 ounces\\n            </td>\\n            \\n           </tr>\\n           \\n           \\n           \\n           <tr>\\n            \\n            \\n              \\n              \\n               \\n                <th class=\"a-color-secondary a-size-base prodDetSectionEntry\">\\n                  Product Dimensions\\n                </th>\\n                \\n              \\n            \\n            \\n           \\n            <td class=\"a-size-base\">\\n              39.4 x 0.1 x 2.6 inches\\n            </td>\\n            \\n           </tr>\\n           \\n           \\n           \\n           <tr>\\n            \\n            \\n              \\n              \\n               \\n                <th class=\"a-color-secondary a-size-base prodDetSectionEntry\">\\n                  Item model number\\n                </th>\\n                \\n              \\n            \\n            \\n           \\n            <td class=\"a-size-base\">\\n              SC541760\\n            </td>\\n            \\n           </tr>\\n           \\n           \\n           \\n           <tr>\\n            \\n            \\n              \\n              \\n               \\n                <th class=\"a-color-secondary a-size-base prodDetSectionEntry\">\\n                  Color\\n                </th>\\n                \\n              \\n            \\n            \\n           \\n            <td class=\"a-size-base\">\\n              Multiple Colors\\n            </td>\\n            \\n           </tr>\\n           \\n           \\n           \\n           <tr>\\n            \\n            \\n              \\n              \\n               \\n                <th class=\"a-color-secondary a-size-base prodDetSectionEntry\">\\n                  Number of Items\\n                </th>\\n                \\n              \\n            \\n            \\n           \\n            <td class=\"a-size-base\">\\n              1\\n            </td>\\n            \\n           </tr>\\n           \\n           \\n           \\n           <tr>\\n            \\n            \\n              \\n              \\n               \\n                <th class=\"a-color-secondary a-size-base prodDetSectionEntry\">\\n                  Manufacturer Part Number\\n                </th>\\n                \\n              \\n            \\n            \\n           \\n            <td class=\"a-size-base\">\\n              SC541760\\n            </td>\\n            \\n           </tr>\\n           \\n           \\n          \\n        ', 'description': ['Frame your displays with these colorful, scalloped trimmers. Plastic-coated and fade-resistant. 36 feet long and 2-1/4\" tall.'], 'fit': '', 'title': 'Fiesta Stripes Scalloped Trimmer (SC541760)', 'also_buy': ['B07G51KLP3', '1483837300', 'B071NB2T4T', 'B078NHZPS5', 'B06XDDHVL3', 'B00207NL9S', 'B078NQJDB1', 'B00RY1QX2C', '1936023733', 'B004XATGIA', 'B001M5UDVI', '1483813541', 'B01LYHE0VP', 'B0055DXQS0', 'B00006IFH0', 'B001YT3G5C', '0312581408', 'B007VBXB48', 'B06XRWYD1X', '1609965647'], 'image': [], 'tech2': '', 'brand': 'Scholastic', 'feature': ['12 trimmers per pack.', '36 feet long and 2-1/4 tall.', 'Plastic-coated and fade-resistant.'], 'rank': ['>#293,451 in Office Products (See top 100)', '>#14,419 in Patio, Lawn & Garden > Mowers & Outdoor Power Tools > Replacement Parts & Accessories > Lawn Mower Parts & Accessories'], 'also_view': [], 'main_cat': 'Office Products', 'similar_item': '', 'date': 'February 1, 2012', 'price': '$4.29', 'asin': '0545417600'}\n"
          ]
        }
      ]
    },
    {
      "cell_type": "code",
      "source": [
        "line_count"
      ],
      "metadata": {
        "colab": {
          "base_uri": "https://localhost:8080/"
        },
        "id": "qtrJ2dCLhcRA",
        "outputId": "fbcdef0f-de5a-452a-f956-cebe300fcd09"
      },
      "execution_count": null,
      "outputs": [
        {
          "output_type": "execute_result",
          "data": {
            "text/plain": [
              "10535680"
            ]
          },
          "metadata": {},
          "execution_count": 42
        }
      ]
    },
    {
      "cell_type": "code",
      "source": [
        "json.loads(l.strip())['category']"
      ],
      "metadata": {
        "colab": {
          "base_uri": "https://localhost:8080/"
        },
        "id": "RXuvUKtEESD0",
        "outputId": "9b26b975-d7a1-415c-bc09-75185c94c789"
      },
      "execution_count": null,
      "outputs": [
        {
          "output_type": "execute_result",
          "data": {
            "text/plain": [
              "[]"
            ]
          },
          "metadata": {},
          "execution_count": 34
        }
      ]
    },
    {
      "cell_type": "code",
      "source": [
        "line_count"
      ],
      "metadata": {
        "colab": {
          "base_uri": "https://localhost:8080/"
        },
        "id": "juWsThG6IJ9l",
        "outputId": "b46a6e99-2eb8-404c-a070-c5978c4c12e5"
      },
      "execution_count": null,
      "outputs": [
        {
          "output_type": "execute_result",
          "data": {
            "text/plain": [
              "6920378"
            ]
          },
          "metadata": {},
          "execution_count": 51
        }
      ]
    },
    {
      "cell_type": "code",
      "source": [
        "x = pd.read_csv('/content/drive/MyDrive/data_for_lab/RS_final_assignment/Digital_Music_small.csv', header = None)"
      ],
      "metadata": {
        "id": "cjn417C5afBF"
      },
      "execution_count": null,
      "outputs": []
    },
    {
      "cell_type": "code",
      "source": [
        "set_id = set(x.iloc[:,0])"
      ],
      "metadata": {
        "id": "Cgw5WNiCatsr"
      },
      "execution_count": null,
      "outputs": []
    },
    {
      "cell_type": "code",
      "source": [
        "'B0013BM5T4' in set_id"
      ],
      "metadata": {
        "colab": {
          "base_uri": "https://localhost:8080/"
        },
        "id": "qYQkctS28-go",
        "outputId": "525ed94c-ac9d-4604-b9ef-85f0e7cb5477"
      },
      "execution_count": null,
      "outputs": [
        {
          "output_type": "execute_result",
          "data": {
            "text/plain": [
              "True"
            ]
          },
          "metadata": {},
          "execution_count": 11
        }
      ]
    },
    {
      "cell_type": "code",
      "source": [
        "data = []\n",
        "check = 0\n",
        "after_c = 0\n",
        "remove = set(['Digital Music'])\n",
        "with gzip.open('/content/drive/MyDrive/data_for_lab/RS_final_assignment/All_Amazon_Meta.json.gz') as f:\n",
        "    for l in f:\n",
        "      check += 1\n",
        "      # if check < 14788659 - 10:\n",
        "      #   continue\n",
        "      \n",
        "      t = json.loads(l.strip())\n",
        "\n",
        "      if t['asin'] in set_id:\n",
        "        data.append(t)\n",
        "\n",
        "        # if after_c > 200000:\n",
        "        #   if input() == 'q':\n",
        "        #     break\n",
        "        #   else:\n",
        "        #     print(len(data))\n",
        "        #     after_c = 0\n"
      ],
      "metadata": {
        "id": "Yv94z6R-Ku05"
      },
      "execution_count": null,
      "outputs": []
    },
    {
      "cell_type": "code",
      "source": [
        "df = pd.DataFrame.from_dict(data)"
      ],
      "metadata": {
        "id": "toY37F801aiO"
      },
      "execution_count": null,
      "outputs": []
    },
    {
      "cell_type": "code",
      "source": [
        "df"
      ],
      "metadata": {
        "colab": {
          "base_uri": "https://localhost:8080/",
          "height": 1000
        },
        "id": "fFq7EtKBfV0y",
        "outputId": "e91f0d00-d50b-413d-ce2f-2e59d3ba9975"
      },
      "execution_count": null,
      "outputs": [
        {
          "output_type": "execute_result",
          "data": {
            "text/plain": [
              "      category tech1                                        description fit  \\\n",
              "0           []                                                       []       \n",
              "1           []                                                       []       \n",
              "2           []                                                       []       \n",
              "3           []                                                       []       \n",
              "4           []        [1. Losing Game 2. I Can't Wait 3. Didn't He S...       \n",
              "...        ...   ...                                                ...  ..   \n",
              "74337       []        [1. \"Free At Last\" Southside 1:21 2. \"Never Go...       \n",
              "74338       []                                                       []       \n",
              "74339       []                                                       []       \n",
              "74340       []                                                       []       \n",
              "74341       []        [album 2016: 01.Autogram 02.Dobrotvorne svrhe ...       \n",
              "\n",
              "                                                   title  \\\n",
              "0                           Master Collection Volume One   \n",
              "1                      Hymns Collection: Hymns 1 &amp; 2   \n",
              "2                            Early Works - Don Francisco   \n",
              "3                          So You Wanna Go Back to Egypt   \n",
              "4                              Early Works - Dallas Holm   \n",
              "...                                                  ...   \n",
              "74337                         FUTURE PRESENTS: 56 NIGHTS   \n",
              "74338  Tori Amos - Little Earthquakes? - Lp Vinyl Record   \n",
              "74339  EXO - EX'ACT 3rd Album [Korean Lucky One Versi...   \n",
              "74340                      Vanilla Fudge (Korea Edition)   \n",
              "74341  CD Svetlana Ceca Raznatovic New Album 2016 Aut...   \n",
              "\n",
              "                                                also_buy  \\\n",
              "0      [B000002UEN, B000008LD5, B01J804JKE, 747403435...   \n",
              "1                               [5558154950, B00014K5V4]   \n",
              "2      [B00004RC05, B003H8F4NA, B003ZFVHPO, B003JMP1Z...   \n",
              "3      [B0000275QQ, 0001393774, 0001388312, B0016CP2G...   \n",
              "4      [B0002N4JP2, 0760131694, B00002EQ79, B00150K8J...   \n",
              "...                                                  ...   \n",
              "74337                                                 []   \n",
              "74338                                                 []   \n",
              "74339  [B07HSM242F, B00VMJ1MMS, B077ZYR799, B00YSOAJG...   \n",
              "74340                                                 []   \n",
              "74341                                       [8652700087]   \n",
              "\n",
              "                                                   image tech2  \\\n",
              "0                                                     []         \n",
              "1                                                     []         \n",
              "2                                                     []         \n",
              "3                                                     []         \n",
              "4                                                     []         \n",
              "...                                                  ...   ...   \n",
              "74337  [https://images-na.ssl-images-amazon.com/image...         \n",
              "74338  [https://images-na.ssl-images-amazon.com/image...         \n",
              "74339  [https://images-na.ssl-images-amazon.com/image...         \n",
              "74340                                                 []         \n",
              "74341  [https://images-na.ssl-images-amazon.com/image...         \n",
              "\n",
              "                          brand feature                        rank  \\\n",
              "0           John Michael Talbot      []     58,291 in CDs & Vinyl (   \n",
              "1        Second Chapter of Acts      []     93,164 in CDs & Vinyl (   \n",
              "2                 Don Francisco      []    875,825 in CDs & Vinyl (   \n",
              "3                   Keith Green      []    203,263 in CDs & Vinyl (   \n",
              "4                   Dallas Holm      []    399,269 in CDs & Vinyl (   \n",
              "...                         ...     ...                         ...   \n",
              "74337                    FUTURE      []    695,581 in CDs & Vinyl (   \n",
              "74338                 Tori Amos      []  1,577,399 in CDs & Vinyl (   \n",
              "74339                       EXO      []    130,165 in CDs & Vinyl (   \n",
              "74340                                []                          []   \n",
              "74341  Svetlana Ceca Raznatovic      []    159,741 in CDs & Vinyl (   \n",
              "\n",
              "                                               also_view  \\\n",
              "0      [B000002UEN, B000008LD5, 7474034352, B000008LD...   \n",
              "1      [B000008KJ3, B000008KJ0, 5558154950, B000UN8KZ...   \n",
              "2      [B003H8F4NA, B003ZFVHPO, B003JMP1ZK, B00004RC0...   \n",
              "3      [B00000I7JO, B0016CP2GS, 0001393774, B0000275Q...   \n",
              "4      [B0002N4JP2, 0760131694, B00150K8JC, B003MTXNV...   \n",
              "...                                                  ...   \n",
              "74337                                                 []   \n",
              "74338                                                 []   \n",
              "74339  [B07HSM242F, B01KNSVGKQ, B077ZYR799, B075D9V4W...   \n",
              "74340  [B000002IAK, B00019PDWU, B00000GX0F, B00000GX0...   \n",
              "74341                                                 []   \n",
              "\n",
              "                                                main_cat similar_item date  \\\n",
              "0      <img src=\"https://images-na.ssl-images-amazon....                     \n",
              "1      <img src=\"https://images-na.ssl-images-amazon....                     \n",
              "2      <img src=\"https://images-na.ssl-images-amazon....                     \n",
              "3      <img src=\"https://images-na.ssl-images-amazon....                     \n",
              "4      <img src=\"https://images-na.ssl-images-amazon....                     \n",
              "...                                                  ...          ...  ...   \n",
              "74337  <img src=\"https://images-na.ssl-images-amazon....                     \n",
              "74338  <img src=\"https://images-na.ssl-images-amazon....                     \n",
              "74339  <img src=\"https://images-na.ssl-images-amazon....                     \n",
              "74340  <img src=\"https://images-na.ssl-images-amazon....                     \n",
              "74341  <img src=\"https://images-na.ssl-images-amazon....                     \n",
              "\n",
              "        price        asin                                            details  \n",
              "0      $18.99  0001377647                                                NaN  \n",
              "1              0001529145                                                NaN  \n",
              "2              0001527134                                                NaN  \n",
              "3      $13.01  0001388703                                                NaN  \n",
              "4              0001526146                                                NaN  \n",
              "...       ...         ...                                                ...  \n",
              "74337          B01HH7D5KU           {'Label:': 'FBG', 'ASIN:': 'B01HH7D5KU'}  \n",
              "74338          B01HHGQXI2  {'Original Release Date:': '2015', 'Number of ...  \n",
              "74339          B01HHRIKKK                            {'ASIN:': 'B01HHRIKKK'}  \n",
              "74340          B01HI2B3G2                            {'ASIN:': 'B01HI2B3G2'}  \n",
              "74341   $9.39  B01HIT3KZC   {'Number of Discs:': '1', 'ASIN:': 'B01HIT3KZC'}  \n",
              "\n",
              "[74342 rows x 18 columns]"
            ],
            "text/html": [
              "\n",
              "  <div id=\"df-82c4b956-69ae-440e-8d2e-fc66f62d29fd\">\n",
              "    <div class=\"colab-df-container\">\n",
              "      <div>\n",
              "<style scoped>\n",
              "    .dataframe tbody tr th:only-of-type {\n",
              "        vertical-align: middle;\n",
              "    }\n",
              "\n",
              "    .dataframe tbody tr th {\n",
              "        vertical-align: top;\n",
              "    }\n",
              "\n",
              "    .dataframe thead th {\n",
              "        text-align: right;\n",
              "    }\n",
              "</style>\n",
              "<table border=\"1\" class=\"dataframe\">\n",
              "  <thead>\n",
              "    <tr style=\"text-align: right;\">\n",
              "      <th></th>\n",
              "      <th>category</th>\n",
              "      <th>tech1</th>\n",
              "      <th>description</th>\n",
              "      <th>fit</th>\n",
              "      <th>title</th>\n",
              "      <th>also_buy</th>\n",
              "      <th>image</th>\n",
              "      <th>tech2</th>\n",
              "      <th>brand</th>\n",
              "      <th>feature</th>\n",
              "      <th>rank</th>\n",
              "      <th>also_view</th>\n",
              "      <th>main_cat</th>\n",
              "      <th>similar_item</th>\n",
              "      <th>date</th>\n",
              "      <th>price</th>\n",
              "      <th>asin</th>\n",
              "      <th>details</th>\n",
              "    </tr>\n",
              "  </thead>\n",
              "  <tbody>\n",
              "    <tr>\n",
              "      <th>0</th>\n",
              "      <td>[]</td>\n",
              "      <td></td>\n",
              "      <td>[]</td>\n",
              "      <td></td>\n",
              "      <td>Master Collection Volume One</td>\n",
              "      <td>[B000002UEN, B000008LD5, B01J804JKE, 747403435...</td>\n",
              "      <td>[]</td>\n",
              "      <td></td>\n",
              "      <td>John Michael Talbot</td>\n",
              "      <td>[]</td>\n",
              "      <td>58,291 in CDs &amp; Vinyl (</td>\n",
              "      <td>[B000002UEN, B000008LD5, 7474034352, B000008LD...</td>\n",
              "      <td>&lt;img src=\"https://images-na.ssl-images-amazon....</td>\n",
              "      <td></td>\n",
              "      <td></td>\n",
              "      <td>$18.99</td>\n",
              "      <td>0001377647</td>\n",
              "      <td>NaN</td>\n",
              "    </tr>\n",
              "    <tr>\n",
              "      <th>1</th>\n",
              "      <td>[]</td>\n",
              "      <td></td>\n",
              "      <td>[]</td>\n",
              "      <td></td>\n",
              "      <td>Hymns Collection: Hymns 1 &amp;amp; 2</td>\n",
              "      <td>[5558154950, B00014K5V4]</td>\n",
              "      <td>[]</td>\n",
              "      <td></td>\n",
              "      <td>Second Chapter of Acts</td>\n",
              "      <td>[]</td>\n",
              "      <td>93,164 in CDs &amp; Vinyl (</td>\n",
              "      <td>[B000008KJ3, B000008KJ0, 5558154950, B000UN8KZ...</td>\n",
              "      <td>&lt;img src=\"https://images-na.ssl-images-amazon....</td>\n",
              "      <td></td>\n",
              "      <td></td>\n",
              "      <td></td>\n",
              "      <td>0001529145</td>\n",
              "      <td>NaN</td>\n",
              "    </tr>\n",
              "    <tr>\n",
              "      <th>2</th>\n",
              "      <td>[]</td>\n",
              "      <td></td>\n",
              "      <td>[]</td>\n",
              "      <td></td>\n",
              "      <td>Early Works - Don Francisco</td>\n",
              "      <td>[B00004RC05, B003H8F4NA, B003ZFVHPO, B003JMP1Z...</td>\n",
              "      <td>[]</td>\n",
              "      <td></td>\n",
              "      <td>Don Francisco</td>\n",
              "      <td>[]</td>\n",
              "      <td>875,825 in CDs &amp; Vinyl (</td>\n",
              "      <td>[B003H8F4NA, B003ZFVHPO, B003JMP1ZK, B00004RC0...</td>\n",
              "      <td>&lt;img src=\"https://images-na.ssl-images-amazon....</td>\n",
              "      <td></td>\n",
              "      <td></td>\n",
              "      <td></td>\n",
              "      <td>0001527134</td>\n",
              "      <td>NaN</td>\n",
              "    </tr>\n",
              "    <tr>\n",
              "      <th>3</th>\n",
              "      <td>[]</td>\n",
              "      <td></td>\n",
              "      <td>[]</td>\n",
              "      <td></td>\n",
              "      <td>So You Wanna Go Back to Egypt</td>\n",
              "      <td>[B0000275QQ, 0001393774, 0001388312, B0016CP2G...</td>\n",
              "      <td>[]</td>\n",
              "      <td></td>\n",
              "      <td>Keith Green</td>\n",
              "      <td>[]</td>\n",
              "      <td>203,263 in CDs &amp; Vinyl (</td>\n",
              "      <td>[B00000I7JO, B0016CP2GS, 0001393774, B0000275Q...</td>\n",
              "      <td>&lt;img src=\"https://images-na.ssl-images-amazon....</td>\n",
              "      <td></td>\n",
              "      <td></td>\n",
              "      <td>$13.01</td>\n",
              "      <td>0001388703</td>\n",
              "      <td>NaN</td>\n",
              "    </tr>\n",
              "    <tr>\n",
              "      <th>4</th>\n",
              "      <td>[]</td>\n",
              "      <td></td>\n",
              "      <td>[1. Losing Game 2. I Can't Wait 3. Didn't He S...</td>\n",
              "      <td></td>\n",
              "      <td>Early Works - Dallas Holm</td>\n",
              "      <td>[B0002N4JP2, 0760131694, B00002EQ79, B00150K8J...</td>\n",
              "      <td>[]</td>\n",
              "      <td></td>\n",
              "      <td>Dallas Holm</td>\n",
              "      <td>[]</td>\n",
              "      <td>399,269 in CDs &amp; Vinyl (</td>\n",
              "      <td>[B0002N4JP2, 0760131694, B00150K8JC, B003MTXNV...</td>\n",
              "      <td>&lt;img src=\"https://images-na.ssl-images-amazon....</td>\n",
              "      <td></td>\n",
              "      <td></td>\n",
              "      <td></td>\n",
              "      <td>0001526146</td>\n",
              "      <td>NaN</td>\n",
              "    </tr>\n",
              "    <tr>\n",
              "      <th>...</th>\n",
              "      <td>...</td>\n",
              "      <td>...</td>\n",
              "      <td>...</td>\n",
              "      <td>...</td>\n",
              "      <td>...</td>\n",
              "      <td>...</td>\n",
              "      <td>...</td>\n",
              "      <td>...</td>\n",
              "      <td>...</td>\n",
              "      <td>...</td>\n",
              "      <td>...</td>\n",
              "      <td>...</td>\n",
              "      <td>...</td>\n",
              "      <td>...</td>\n",
              "      <td>...</td>\n",
              "      <td>...</td>\n",
              "      <td>...</td>\n",
              "      <td>...</td>\n",
              "    </tr>\n",
              "    <tr>\n",
              "      <th>74337</th>\n",
              "      <td>[]</td>\n",
              "      <td></td>\n",
              "      <td>[1. \"Free At Last\" Southside 1:21 2. \"Never Go...</td>\n",
              "      <td></td>\n",
              "      <td>FUTURE PRESENTS: 56 NIGHTS</td>\n",
              "      <td>[]</td>\n",
              "      <td>[https://images-na.ssl-images-amazon.com/image...</td>\n",
              "      <td></td>\n",
              "      <td>FUTURE</td>\n",
              "      <td>[]</td>\n",
              "      <td>695,581 in CDs &amp; Vinyl (</td>\n",
              "      <td>[]</td>\n",
              "      <td>&lt;img src=\"https://images-na.ssl-images-amazon....</td>\n",
              "      <td></td>\n",
              "      <td></td>\n",
              "      <td></td>\n",
              "      <td>B01HH7D5KU</td>\n",
              "      <td>{'Label:': 'FBG', 'ASIN:': 'B01HH7D5KU'}</td>\n",
              "    </tr>\n",
              "    <tr>\n",
              "      <th>74338</th>\n",
              "      <td>[]</td>\n",
              "      <td></td>\n",
              "      <td>[]</td>\n",
              "      <td></td>\n",
              "      <td>Tori Amos - Little Earthquakes? - Lp Vinyl Record</td>\n",
              "      <td>[]</td>\n",
              "      <td>[https://images-na.ssl-images-amazon.com/image...</td>\n",
              "      <td></td>\n",
              "      <td>Tori Amos</td>\n",
              "      <td>[]</td>\n",
              "      <td>1,577,399 in CDs &amp; Vinyl (</td>\n",
              "      <td>[]</td>\n",
              "      <td>&lt;img src=\"https://images-na.ssl-images-amazon....</td>\n",
              "      <td></td>\n",
              "      <td></td>\n",
              "      <td></td>\n",
              "      <td>B01HHGQXI2</td>\n",
              "      <td>{'Original Release Date:': '2015', 'Number of ...</td>\n",
              "    </tr>\n",
              "    <tr>\n",
              "      <th>74339</th>\n",
              "      <td>[]</td>\n",
              "      <td></td>\n",
              "      <td>[]</td>\n",
              "      <td></td>\n",
              "      <td>EXO - EX'ACT 3rd Album [Korean Lucky One Versi...</td>\n",
              "      <td>[B07HSM242F, B00VMJ1MMS, B077ZYR799, B00YSOAJG...</td>\n",
              "      <td>[https://images-na.ssl-images-amazon.com/image...</td>\n",
              "      <td></td>\n",
              "      <td>EXO</td>\n",
              "      <td>[]</td>\n",
              "      <td>130,165 in CDs &amp; Vinyl (</td>\n",
              "      <td>[B07HSM242F, B01KNSVGKQ, B077ZYR799, B075D9V4W...</td>\n",
              "      <td>&lt;img src=\"https://images-na.ssl-images-amazon....</td>\n",
              "      <td></td>\n",
              "      <td></td>\n",
              "      <td></td>\n",
              "      <td>B01HHRIKKK</td>\n",
              "      <td>{'ASIN:': 'B01HHRIKKK'}</td>\n",
              "    </tr>\n",
              "    <tr>\n",
              "      <th>74340</th>\n",
              "      <td>[]</td>\n",
              "      <td></td>\n",
              "      <td>[]</td>\n",
              "      <td></td>\n",
              "      <td>Vanilla Fudge (Korea Edition)</td>\n",
              "      <td>[]</td>\n",
              "      <td>[]</td>\n",
              "      <td></td>\n",
              "      <td></td>\n",
              "      <td>[]</td>\n",
              "      <td>[]</td>\n",
              "      <td>[B000002IAK, B00019PDWU, B00000GX0F, B00000GX0...</td>\n",
              "      <td>&lt;img src=\"https://images-na.ssl-images-amazon....</td>\n",
              "      <td></td>\n",
              "      <td></td>\n",
              "      <td></td>\n",
              "      <td>B01HI2B3G2</td>\n",
              "      <td>{'ASIN:': 'B01HI2B3G2'}</td>\n",
              "    </tr>\n",
              "    <tr>\n",
              "      <th>74341</th>\n",
              "      <td>[]</td>\n",
              "      <td></td>\n",
              "      <td>[album 2016: 01.Autogram 02.Dobrotvorne svrhe ...</td>\n",
              "      <td></td>\n",
              "      <td>CD Svetlana Ceca Raznatovic New Album 2016 Aut...</td>\n",
              "      <td>[8652700087]</td>\n",
              "      <td>[https://images-na.ssl-images-amazon.com/image...</td>\n",
              "      <td></td>\n",
              "      <td>Svetlana Ceca Raznatovic</td>\n",
              "      <td>[]</td>\n",
              "      <td>159,741 in CDs &amp; Vinyl (</td>\n",
              "      <td>[]</td>\n",
              "      <td>&lt;img src=\"https://images-na.ssl-images-amazon....</td>\n",
              "      <td></td>\n",
              "      <td></td>\n",
              "      <td>$9.39</td>\n",
              "      <td>B01HIT3KZC</td>\n",
              "      <td>{'Number of Discs:': '1', 'ASIN:': 'B01HIT3KZC'}</td>\n",
              "    </tr>\n",
              "  </tbody>\n",
              "</table>\n",
              "<p>74342 rows × 18 columns</p>\n",
              "</div>\n",
              "      <button class=\"colab-df-convert\" onclick=\"convertToInteractive('df-82c4b956-69ae-440e-8d2e-fc66f62d29fd')\"\n",
              "              title=\"Convert this dataframe to an interactive table.\"\n",
              "              style=\"display:none;\">\n",
              "        \n",
              "  <svg xmlns=\"http://www.w3.org/2000/svg\" height=\"24px\"viewBox=\"0 0 24 24\"\n",
              "       width=\"24px\">\n",
              "    <path d=\"M0 0h24v24H0V0z\" fill=\"none\"/>\n",
              "    <path d=\"M18.56 5.44l.94 2.06.94-2.06 2.06-.94-2.06-.94-.94-2.06-.94 2.06-2.06.94zm-11 1L8.5 8.5l.94-2.06 2.06-.94-2.06-.94L8.5 2.5l-.94 2.06-2.06.94zm10 10l.94 2.06.94-2.06 2.06-.94-2.06-.94-.94-2.06-.94 2.06-2.06.94z\"/><path d=\"M17.41 7.96l-1.37-1.37c-.4-.4-.92-.59-1.43-.59-.52 0-1.04.2-1.43.59L10.3 9.45l-7.72 7.72c-.78.78-.78 2.05 0 2.83L4 21.41c.39.39.9.59 1.41.59.51 0 1.02-.2 1.41-.59l7.78-7.78 2.81-2.81c.8-.78.8-2.07 0-2.86zM5.41 20L4 18.59l7.72-7.72 1.47 1.35L5.41 20z\"/>\n",
              "  </svg>\n",
              "      </button>\n",
              "      \n",
              "  <style>\n",
              "    .colab-df-container {\n",
              "      display:flex;\n",
              "      flex-wrap:wrap;\n",
              "      gap: 12px;\n",
              "    }\n",
              "\n",
              "    .colab-df-convert {\n",
              "      background-color: #E8F0FE;\n",
              "      border: none;\n",
              "      border-radius: 50%;\n",
              "      cursor: pointer;\n",
              "      display: none;\n",
              "      fill: #1967D2;\n",
              "      height: 32px;\n",
              "      padding: 0 0 0 0;\n",
              "      width: 32px;\n",
              "    }\n",
              "\n",
              "    .colab-df-convert:hover {\n",
              "      background-color: #E2EBFA;\n",
              "      box-shadow: 0px 1px 2px rgba(60, 64, 67, 0.3), 0px 1px 3px 1px rgba(60, 64, 67, 0.15);\n",
              "      fill: #174EA6;\n",
              "    }\n",
              "\n",
              "    [theme=dark] .colab-df-convert {\n",
              "      background-color: #3B4455;\n",
              "      fill: #D2E3FC;\n",
              "    }\n",
              "\n",
              "    [theme=dark] .colab-df-convert:hover {\n",
              "      background-color: #434B5C;\n",
              "      box-shadow: 0px 1px 3px 1px rgba(0, 0, 0, 0.15);\n",
              "      filter: drop-shadow(0px 1px 2px rgba(0, 0, 0, 0.3));\n",
              "      fill: #FFFFFF;\n",
              "    }\n",
              "  </style>\n",
              "\n",
              "      <script>\n",
              "        const buttonEl =\n",
              "          document.querySelector('#df-82c4b956-69ae-440e-8d2e-fc66f62d29fd button.colab-df-convert');\n",
              "        buttonEl.style.display =\n",
              "          google.colab.kernel.accessAllowed ? 'block' : 'none';\n",
              "\n",
              "        async function convertToInteractive(key) {\n",
              "          const element = document.querySelector('#df-82c4b956-69ae-440e-8d2e-fc66f62d29fd');\n",
              "          const dataTable =\n",
              "            await google.colab.kernel.invokeFunction('convertToInteractive',\n",
              "                                                     [key], {});\n",
              "          if (!dataTable) return;\n",
              "\n",
              "          const docLinkHtml = 'Like what you see? Visit the ' +\n",
              "            '<a target=\"_blank\" href=https://colab.research.google.com/notebooks/data_table.ipynb>data table notebook</a>'\n",
              "            + ' to learn more about interactive tables.';\n",
              "          element.innerHTML = '';\n",
              "          dataTable['output_type'] = 'display_data';\n",
              "          await google.colab.output.renderOutput(dataTable, element);\n",
              "          const docLink = document.createElement('div');\n",
              "          docLink.innerHTML = docLinkHtml;\n",
              "          element.appendChild(docLink);\n",
              "        }\n",
              "      </script>\n",
              "    </div>\n",
              "  </div>\n",
              "  "
            ]
          },
          "metadata": {},
          "execution_count": 26
        }
      ]
    },
    {
      "cell_type": "code",
      "source": [
        "ids = df['asin']"
      ],
      "metadata": {
        "id": "Kcz37Bk6Er5e"
      },
      "execution_count": null,
      "outputs": []
    },
    {
      "cell_type": "code",
      "source": [
        "data_n = []\n",
        "with gzip.open('/content/drive/MyDrive/data_for_lab/RS_final_assignment/meta_Digital_Music.json.gz') as f:\n",
        "    for l in f:\n",
        "        data_n.append(json.loads(l.strip()))\n",
        "    \n",
        "# total length of list, this number equals total number of products\n",
        "# print(len(data))\n",
        "\n",
        "df2 = pd.DataFrame.from_dict(data_n)\n",
        "ids_n = df2['asin']"
      ],
      "metadata": {
        "id": "8GpgGxOtE09_"
      },
      "execution_count": null,
      "outputs": []
    },
    {
      "cell_type": "code",
      "source": [
        "len(set(ids).union(set(ids_n)))"
      ],
      "metadata": {
        "colab": {
          "base_uri": "https://localhost:8080/"
        },
        "id": "lklpAKsYFQmF",
        "outputId": "36354f8b-9ca8-4490-8881-63772241166a"
      },
      "execution_count": null,
      "outputs": [
        {
          "output_type": "execute_result",
          "data": {
            "text/plain": [
              "66013"
            ]
          },
          "metadata": {},
          "execution_count": 34
        }
      ]
    },
    {
      "cell_type": "code",
      "source": [
        "'B0002V55KM' in ids_n"
      ],
      "metadata": {
        "colab": {
          "base_uri": "https://localhost:8080/"
        },
        "id": "pThIeh8vFjgW",
        "outputId": "480edc01-9d38-4040-ffe8-f87556ac1705"
      },
      "execution_count": null,
      "outputs": [
        {
          "output_type": "execute_result",
          "data": {
            "text/plain": [
              "False"
            ]
          },
          "metadata": {},
          "execution_count": 37
        }
      ]
    },
    {
      "cell_type": "code",
      "source": [
        "final_df = pd.DataFrame()\n",
        "ids_n = set(ids_n)\n",
        "ids = set(ids)\n",
        "c = 0\n",
        "for i in ids:\n",
        "  if i not in ids_n:\n",
        "    c += 1\n",
        "\n",
        "c"
      ],
      "metadata": {
        "colab": {
          "base_uri": "https://localhost:8080/"
        },
        "id": "elYYokFDEudR",
        "outputId": "cb110bba-daf3-4a4b-f25a-0764ea2833fe"
      },
      "execution_count": null,
      "outputs": [
        {
          "output_type": "execute_result",
          "data": {
            "text/plain": [
              "0"
            ]
          },
          "metadata": {},
          "execution_count": 42
        }
      ]
    },
    {
      "cell_type": "code",
      "source": [
        "'0001388703' in df2['asin']"
      ],
      "metadata": {
        "colab": {
          "base_uri": "https://localhost:8080/"
        },
        "id": "LMUPX4gGDEli",
        "outputId": "f8e9af20-01d5-421d-e07e-c5e9dcb6c094"
      },
      "execution_count": null,
      "outputs": [
        {
          "output_type": "execute_result",
          "data": {
            "text/plain": [
              "False"
            ]
          },
          "metadata": {},
          "execution_count": 43
        }
      ]
    },
    {
      "cell_type": "code",
      "source": [
        "df3 = pd.read_csv('/content/drive/MyDrive/data_for_lab/RS_final_assignment/Digital_Music_small.csv', header = None)"
      ],
      "metadata": {
        "id": "bjT-mvNHHNFg"
      },
      "execution_count": null,
      "outputs": []
    },
    {
      "cell_type": "code",
      "source": [
        "k = 0\n",
        "\n",
        "for i in np.unique(df3.iloc[:,0]):\n",
        "  if i not in ids_n:\n",
        "    print(i)\n",
        "    k += 1\n",
        "    \n",
        "  if k > 10:\n",
        "    break"
      ],
      "metadata": {
        "colab": {
          "base_uri": "https://localhost:8080/"
        },
        "id": "VIS2K3MMHy-Q",
        "outputId": "1004a00c-bda0-499d-e91c-94f268b3c461"
      },
      "execution_count": null,
      "outputs": [
        {
          "output_type": "stream",
          "name": "stdout",
          "text": [
            "6305298564\n",
            "9081101811\n",
            "9434682614\n",
            "9568355790\n",
            "9721717150\n",
            "9746784129\n",
            "B000005YIR\n",
            "B000006TEB\n",
            "B000009G3H\n",
            "B00000AYII\n",
            "B0000255NS\n"
          ]
        }
      ]
    },
    {
      "cell_type": "code",
      "source": [
        "len(np.unique(df3.iloc[:,0]))"
      ],
      "metadata": {
        "colab": {
          "base_uri": "https://localhost:8080/"
        },
        "id": "7Cxe0LdGH0MN",
        "outputId": "58631784-2c6f-4a8e-cf67-92e6080db791"
      },
      "execution_count": null,
      "outputs": [
        {
          "output_type": "execute_result",
          "data": {
            "text/plain": [
              "456992"
            ]
          },
          "metadata": {},
          "execution_count": 50
        }
      ]
    },
    {
      "cell_type": "code",
      "source": [
        "np.unique(df3.iloc[:,0])[100] in ids_n"
      ],
      "metadata": {
        "colab": {
          "base_uri": "https://localhost:8080/"
        },
        "id": "mY1nj80KIODk",
        "outputId": "74be222a-3ee5-4eb9-92f1-6d7793209089"
      },
      "execution_count": null,
      "outputs": [
        {
          "output_type": "execute_result",
          "data": {
            "text/plain": [
              "True"
            ]
          },
          "metadata": {},
          "execution_count": 53
        }
      ]
    },
    {
      "cell_type": "code",
      "source": [
        "len(ids_n)"
      ],
      "metadata": {
        "colab": {
          "base_uri": "https://localhost:8080/"
        },
        "id": "cb5r814qITUD",
        "outputId": "51576894-4d44-427a-89d1-b9b883ea1604"
      },
      "execution_count": null,
      "outputs": [
        {
          "output_type": "execute_result",
          "data": {
            "text/plain": [
              "66013"
            ]
          },
          "metadata": {},
          "execution_count": 54
        }
      ]
    },
    {
      "cell_type": "markdown",
      "source": [
        "amazon.com/dp/id"
      ],
      "metadata": {
        "id": "chKdyjkerS2-"
      }
    },
    {
      "cell_type": "markdown",
      "source": [
        "### Learning To Rank"
      ],
      "metadata": {
        "id": "-8z2lCwLr2ra"
      }
    },
    {
      "cell_type": "code",
      "source": [
        "from datetime import datetime\n",
        "\n",
        "import matplotlib.pyplot as plt\n",
        "import numpy as np\n",
        "import pandas as pd\n",
        "import seaborn as sns\n",
        "from lightgbm import LGBMRanker\n",
        "from tqdm import tqdm\n",
        "from sklearn.model_selection import train_test_split\n"
      ],
      "metadata": {
        "id": "vnm-S4q-u7KC"
      },
      "execution_count": null,
      "outputs": []
    },
    {
      "cell_type": "code",
      "source": [
        "ratings = pd.read_csv('/content/drive/MyDrive/data_for_lab/RS_final_assignment/Digital_Music_small.csv', header = None)"
      ],
      "metadata": {
        "id": "he-Zex68xaYR"
      },
      "execution_count": null,
      "outputs": []
    },
    {
      "cell_type": "code",
      "source": [
        "ratings.columns = ['itemId', 'userId', 'rating', 'timestamp']"
      ],
      "metadata": {
        "id": "ki3ewC2Xxj-T"
      },
      "execution_count": null,
      "outputs": []
    },
    {
      "cell_type": "code",
      "source": [
        "columns_titles = [\"userId\",\"itemId\", 'rating', 'timestamp']\n",
        "ratings=ratings.reindex(columns=columns_titles)"
      ],
      "metadata": {
        "id": "6vvwiejUyHvU"
      },
      "execution_count": null,
      "outputs": []
    },
    {
      "cell_type": "code",
      "source": [
        "ratings"
      ],
      "metadata": {
        "colab": {
          "base_uri": "https://localhost:8080/",
          "height": 423
        },
        "id": "bgLpslqaxmno",
        "outputId": "be55bdbc-345d-426e-e50e-32475ed39a56"
      },
      "execution_count": null,
      "outputs": [
        {
          "output_type": "execute_result",
          "data": {
            "text/plain": [
              "                 userId      itemId  rating   timestamp\n",
              "0        A1ZCPG3D3HGRSS  0001388703     5.0  1387670400\n",
              "1         AC2PL52NKPL29  0001388703     5.0  1378857600\n",
              "2        A1SUZXBDZSDQ3A  0001388703     5.0  1362182400\n",
              "3        A3A0W7FZXM0IZW  0001388703     5.0  1354406400\n",
              "4        A12R54MKO17TW0  0001388703     5.0  1325894400\n",
              "...                 ...         ...     ...         ...\n",
              "1584077   AR3KABMPL5L0O  B01HJ91P94     5.0  1520035200\n",
              "1584078  A2N53GHW73INDH  B01HJ91P94     4.0  1516752000\n",
              "1584079   ABNKLDCCVJKW1  B01HJ91P94     5.0  1492732800\n",
              "1584080   AMWSDABZWFRAT  B01HJ91IVY     5.0  1519344000\n",
              "1584081   A7K5263R5OUIP  B01HJ91IVY     5.0  1494979200\n",
              "\n",
              "[1584082 rows x 4 columns]"
            ],
            "text/html": [
              "\n",
              "  <div id=\"df-f644f154-05a7-4234-8458-9b49b8c20c55\">\n",
              "    <div class=\"colab-df-container\">\n",
              "      <div>\n",
              "<style scoped>\n",
              "    .dataframe tbody tr th:only-of-type {\n",
              "        vertical-align: middle;\n",
              "    }\n",
              "\n",
              "    .dataframe tbody tr th {\n",
              "        vertical-align: top;\n",
              "    }\n",
              "\n",
              "    .dataframe thead th {\n",
              "        text-align: right;\n",
              "    }\n",
              "</style>\n",
              "<table border=\"1\" class=\"dataframe\">\n",
              "  <thead>\n",
              "    <tr style=\"text-align: right;\">\n",
              "      <th></th>\n",
              "      <th>userId</th>\n",
              "      <th>itemId</th>\n",
              "      <th>rating</th>\n",
              "      <th>timestamp</th>\n",
              "    </tr>\n",
              "  </thead>\n",
              "  <tbody>\n",
              "    <tr>\n",
              "      <th>0</th>\n",
              "      <td>A1ZCPG3D3HGRSS</td>\n",
              "      <td>0001388703</td>\n",
              "      <td>5.0</td>\n",
              "      <td>1387670400</td>\n",
              "    </tr>\n",
              "    <tr>\n",
              "      <th>1</th>\n",
              "      <td>AC2PL52NKPL29</td>\n",
              "      <td>0001388703</td>\n",
              "      <td>5.0</td>\n",
              "      <td>1378857600</td>\n",
              "    </tr>\n",
              "    <tr>\n",
              "      <th>2</th>\n",
              "      <td>A1SUZXBDZSDQ3A</td>\n",
              "      <td>0001388703</td>\n",
              "      <td>5.0</td>\n",
              "      <td>1362182400</td>\n",
              "    </tr>\n",
              "    <tr>\n",
              "      <th>3</th>\n",
              "      <td>A3A0W7FZXM0IZW</td>\n",
              "      <td>0001388703</td>\n",
              "      <td>5.0</td>\n",
              "      <td>1354406400</td>\n",
              "    </tr>\n",
              "    <tr>\n",
              "      <th>4</th>\n",
              "      <td>A12R54MKO17TW0</td>\n",
              "      <td>0001388703</td>\n",
              "      <td>5.0</td>\n",
              "      <td>1325894400</td>\n",
              "    </tr>\n",
              "    <tr>\n",
              "      <th>...</th>\n",
              "      <td>...</td>\n",
              "      <td>...</td>\n",
              "      <td>...</td>\n",
              "      <td>...</td>\n",
              "    </tr>\n",
              "    <tr>\n",
              "      <th>1584077</th>\n",
              "      <td>AR3KABMPL5L0O</td>\n",
              "      <td>B01HJ91P94</td>\n",
              "      <td>5.0</td>\n",
              "      <td>1520035200</td>\n",
              "    </tr>\n",
              "    <tr>\n",
              "      <th>1584078</th>\n",
              "      <td>A2N53GHW73INDH</td>\n",
              "      <td>B01HJ91P94</td>\n",
              "      <td>4.0</td>\n",
              "      <td>1516752000</td>\n",
              "    </tr>\n",
              "    <tr>\n",
              "      <th>1584079</th>\n",
              "      <td>ABNKLDCCVJKW1</td>\n",
              "      <td>B01HJ91P94</td>\n",
              "      <td>5.0</td>\n",
              "      <td>1492732800</td>\n",
              "    </tr>\n",
              "    <tr>\n",
              "      <th>1584080</th>\n",
              "      <td>AMWSDABZWFRAT</td>\n",
              "      <td>B01HJ91IVY</td>\n",
              "      <td>5.0</td>\n",
              "      <td>1519344000</td>\n",
              "    </tr>\n",
              "    <tr>\n",
              "      <th>1584081</th>\n",
              "      <td>A7K5263R5OUIP</td>\n",
              "      <td>B01HJ91IVY</td>\n",
              "      <td>5.0</td>\n",
              "      <td>1494979200</td>\n",
              "    </tr>\n",
              "  </tbody>\n",
              "</table>\n",
              "<p>1584082 rows × 4 columns</p>\n",
              "</div>\n",
              "      <button class=\"colab-df-convert\" onclick=\"convertToInteractive('df-f644f154-05a7-4234-8458-9b49b8c20c55')\"\n",
              "              title=\"Convert this dataframe to an interactive table.\"\n",
              "              style=\"display:none;\">\n",
              "        \n",
              "  <svg xmlns=\"http://www.w3.org/2000/svg\" height=\"24px\"viewBox=\"0 0 24 24\"\n",
              "       width=\"24px\">\n",
              "    <path d=\"M0 0h24v24H0V0z\" fill=\"none\"/>\n",
              "    <path d=\"M18.56 5.44l.94 2.06.94-2.06 2.06-.94-2.06-.94-.94-2.06-.94 2.06-2.06.94zm-11 1L8.5 8.5l.94-2.06 2.06-.94-2.06-.94L8.5 2.5l-.94 2.06-2.06.94zm10 10l.94 2.06.94-2.06 2.06-.94-2.06-.94-.94-2.06-.94 2.06-2.06.94z\"/><path d=\"M17.41 7.96l-1.37-1.37c-.4-.4-.92-.59-1.43-.59-.52 0-1.04.2-1.43.59L10.3 9.45l-7.72 7.72c-.78.78-.78 2.05 0 2.83L4 21.41c.39.39.9.59 1.41.59.51 0 1.02-.2 1.41-.59l7.78-7.78 2.81-2.81c.8-.78.8-2.07 0-2.86zM5.41 20L4 18.59l7.72-7.72 1.47 1.35L5.41 20z\"/>\n",
              "  </svg>\n",
              "      </button>\n",
              "      \n",
              "  <style>\n",
              "    .colab-df-container {\n",
              "      display:flex;\n",
              "      flex-wrap:wrap;\n",
              "      gap: 12px;\n",
              "    }\n",
              "\n",
              "    .colab-df-convert {\n",
              "      background-color: #E8F0FE;\n",
              "      border: none;\n",
              "      border-radius: 50%;\n",
              "      cursor: pointer;\n",
              "      display: none;\n",
              "      fill: #1967D2;\n",
              "      height: 32px;\n",
              "      padding: 0 0 0 0;\n",
              "      width: 32px;\n",
              "    }\n",
              "\n",
              "    .colab-df-convert:hover {\n",
              "      background-color: #E2EBFA;\n",
              "      box-shadow: 0px 1px 2px rgba(60, 64, 67, 0.3), 0px 1px 3px 1px rgba(60, 64, 67, 0.15);\n",
              "      fill: #174EA6;\n",
              "    }\n",
              "\n",
              "    [theme=dark] .colab-df-convert {\n",
              "      background-color: #3B4455;\n",
              "      fill: #D2E3FC;\n",
              "    }\n",
              "\n",
              "    [theme=dark] .colab-df-convert:hover {\n",
              "      background-color: #434B5C;\n",
              "      box-shadow: 0px 1px 3px 1px rgba(0, 0, 0, 0.15);\n",
              "      filter: drop-shadow(0px 1px 2px rgba(0, 0, 0, 0.3));\n",
              "      fill: #FFFFFF;\n",
              "    }\n",
              "  </style>\n",
              "\n",
              "      <script>\n",
              "        const buttonEl =\n",
              "          document.querySelector('#df-f644f154-05a7-4234-8458-9b49b8c20c55 button.colab-df-convert');\n",
              "        buttonEl.style.display =\n",
              "          google.colab.kernel.accessAllowed ? 'block' : 'none';\n",
              "\n",
              "        async function convertToInteractive(key) {\n",
              "          const element = document.querySelector('#df-f644f154-05a7-4234-8458-9b49b8c20c55');\n",
              "          const dataTable =\n",
              "            await google.colab.kernel.invokeFunction('convertToInteractive',\n",
              "                                                     [key], {});\n",
              "          if (!dataTable) return;\n",
              "\n",
              "          const docLinkHtml = 'Like what you see? Visit the ' +\n",
              "            '<a target=\"_blank\" href=https://colab.research.google.com/notebooks/data_table.ipynb>data table notebook</a>'\n",
              "            + ' to learn more about interactive tables.';\n",
              "          element.innerHTML = '';\n",
              "          dataTable['output_type'] = 'display_data';\n",
              "          await google.colab.output.renderOutput(dataTable, element);\n",
              "          const docLink = document.createElement('div');\n",
              "          docLink.innerHTML = docLinkHtml;\n",
              "          element.appendChild(docLink);\n",
              "        }\n",
              "      </script>\n",
              "    </div>\n",
              "  </div>\n",
              "  "
            ]
          },
          "metadata": {},
          "execution_count": 36
        }
      ]
    },
    {
      "cell_type": "code",
      "source": [
        "# Copied from bturan19's kaggle nb.\n",
        "def get_feature_by_user(df):\n",
        "    res = list()\n",
        "    for i, v in tqdm(df.groupby('userId')):\n",
        "        res.append(\n",
        "            (\n",
        "                i,\n",
        "                len(v['itemId']),\n",
        "                (v['rating'] == 5).sum(),\n",
        "                (v['rating'] == 4).sum(),\n",
        "                (v['rating'] == 3).sum(),\n",
        "                (v['rating'] == 2).sum(),\n",
        "                (v['rating'] == 1).sum(),\n",
        "                (v['timestamp'].dt.dayofweek == 0).sum(),\n",
        "                (v['timestamp'].dt.dayofweek == 1).sum(),\n",
        "                (v['timestamp'].dt.dayofweek == 2).sum(),\n",
        "                (v['timestamp'].dt.dayofweek == 3).sum(),\n",
        "                (v['timestamp'].dt.dayofweek == 4).sum(),\n",
        "                (v['timestamp'].dt.dayofweek == 5).sum(),\n",
        "                (v['timestamp'].dt.dayofweek == 6).sum(),\n",
        "                (v['timestamp'].dt.hour > 17).sum()\n",
        "\n",
        "            )\n",
        "        )\n",
        "    \n",
        "    res = pd.DataFrame(\n",
        "        res,\n",
        "        columns=[\n",
        "            'userId', 'revired_products', '5_star_ratings_gave', '4_star_ratings_gave',\n",
        "            '3_star_ratings_gave', '2_star_ratings_gave', '1_star_ratings_gave',\n",
        "            'monday_review_count_user', 'tuesday_review_count_user', 'wednesday_review_count_user', 'thursday_review_count_user',\n",
        "            'friday_review_count_user', 'saturday_review_count_user', 'sunday_review_count_user','evening_reviews_by_user'\n",
        "        ])\n",
        "    return res\n",
        "   \n",
        "def get_feature_by_product(df):\n",
        "    res = list()\n",
        "    for i, v in tqdm(df.groupby('itemId')):\n",
        "        res.append(\n",
        "            (\n",
        "                i,\n",
        "                len(v['userId']),\n",
        "                (v['rating'] == 5).sum(),\n",
        "                (v['rating'] == 4).sum(),\n",
        "                (v['rating'] == 3).sum(),\n",
        "                (v['rating'] == 2).sum(),\n",
        "                (v['rating'] == 1).sum(),\n",
        "                (v['timestamp'].dt.dayofweek == 0).sum(),\n",
        "                (v['timestamp'].dt.dayofweek == 1).sum(),\n",
        "                (v['timestamp'].dt.dayofweek == 2).sum(),\n",
        "                (v['timestamp'].dt.dayofweek == 3).sum(),\n",
        "                (v['timestamp'].dt.dayofweek == 4).sum(),\n",
        "                (v['timestamp'].dt.dayofweek == 5).sum(),\n",
        "                (v['timestamp'].dt.dayofweek == 6).sum(),\n",
        "                (v['timestamp'].dt.hour > 17).sum()\n",
        "            )\n",
        "        )\n",
        "    \n",
        "    res = pd.DataFrame(\n",
        "        res,\n",
        "        columns=[\n",
        "            'itemId', 'user_count', '1_star_ratings_recieved', '2_star_ratings_recieved',\n",
        "            '3_star_ratings_recieved', '4_star_ratings_recieved', '5_star_ratings_recieved',\n",
        "            'monday_review_count_item', 'tuesday_review_count_item', 'wednesday_review_count_item', 'thursday_review_count_item',\n",
        "            'friday_review_count_item', 'saturday_review_count_item', 'sunday_review_count_item','evening_reviews_by_movie'\n",
        "        ])\n",
        "    return res\n"
      ],
      "metadata": {
        "id": "KP-oQ-l8x6lz"
      },
      "execution_count": null,
      "outputs": []
    },
    {
      "cell_type": "code",
      "source": [
        "with open('/content/drive/MyDrive/data_for_lab/RS_final_assignment/item_vectors_v2.pickle', 'rb') as handle:\n",
        "    b = pickle.load(handle)"
      ],
      "metadata": {
        "id": "AVjbxaXxsyYk"
      },
      "execution_count": null,
      "outputs": []
    },
    {
      "cell_type": "code",
      "source": [
        "def get_feature_by_user_v1(df):\n",
        "    res = list()\n",
        "    for i, v in tqdm(df.groupby('userId')):\n",
        "        vec = np.zeros(100)\n",
        "        item, item_rating = v['itemId'], v['rating']\n",
        "        count = 0\n",
        "        for item_, irat in zip(item,item_rating):\n",
        "          try:\n",
        "            if irat >= 3:\n",
        "              vec += b[item_]\n",
        "            else:\n",
        "              vec -= b[item_]\n",
        "            count += 1\n",
        "          except:\n",
        "            pass\n",
        "\n",
        "        if count != 0:\n",
        "          vec = vec / count\n",
        "          res.append(\n",
        "              [i] + list(vec)\n",
        "          )\n",
        "    \n",
        "    col_names = ['userId'] + [f'{m}' for m in range(100)]\n",
        "    res = pd.DataFrame(\n",
        "        res,\n",
        "        columns=col_names)\n",
        "    return res\n",
        "\n",
        "\n",
        "def get_feature_by_product_v1(df):\n",
        "    res = list()\n",
        "    for i, v in tqdm(df.groupby('itemId')):\n",
        "        try:\n",
        "          res.append(\n",
        "              [i] + list(b[i])\n",
        "          )\n",
        "        except:\n",
        "          pass\n",
        "    \n",
        "    col_names = ['itemId'] + [f'{m}' for m in range(100)]\n",
        "    res = pd.DataFrame(\n",
        "        res,\n",
        "        columns= col_names)\n",
        "    return res\n"
      ],
      "metadata": {
        "id": "dLuJOkWwruJU"
      },
      "execution_count": null,
      "outputs": []
    },
    {
      "cell_type": "code",
      "source": [
        "ratings['timestamp'] = pd.to_datetime(ratings['timestamp'])"
      ],
      "metadata": {
        "id": "mtE5upldD_cD"
      },
      "execution_count": null,
      "outputs": []
    },
    {
      "cell_type": "code",
      "source": [
        "train_ratings, test_ratings = train_test_split(ratings, test_size=0.2, random_state = 42)"
      ],
      "metadata": {
        "id": "XnvGD6ZqyOoB"
      },
      "execution_count": null,
      "outputs": []
    },
    {
      "cell_type": "code",
      "source": [
        "train_x_u = get_feature_by_user_v1(train_ratings)\n",
        "train_x_p = get_feature_by_product_v1(train_ratings)"
      ],
      "metadata": {
        "colab": {
          "base_uri": "https://localhost:8080/"
        },
        "id": "UdsI79TdDKrQ",
        "outputId": "ae2516e8-9ac2-4c7f-c948-4289b71c811e"
      },
      "execution_count": null,
      "outputs": [
        {
          "output_type": "stream",
          "name": "stderr",
          "text": [
            "100%|██████████| 714421/714421 [01:51<00:00, 6401.92it/s]\n",
            "100%|██████████| 395369/395369 [00:17<00:00, 22058.16it/s]\n"
          ]
        }
      ]
    },
    {
      "cell_type": "code",
      "source": [
        "train_x_u = get_feature_by_user(ratings.iloc[:30000])\n",
        "train_x_p = get_feature_by_product(train_ratings[:30000])"
      ],
      "metadata": {
        "colab": {
          "base_uri": "https://localhost:8080/"
        },
        "id": "x-Wg_tcV47YM",
        "outputId": "97217b55-61c4-47f4-df84-145616c1d2d6"
      },
      "execution_count": null,
      "outputs": [
        {
          "output_type": "stream",
          "name": "stderr",
          "text": [
            "100%|██████████| 26542/26542 [02:02<00:00, 216.69it/s]\n",
            "100%|██████████| 22514/22514 [01:35<00:00, 235.75it/s]\n"
          ]
        }
      ]
    },
    {
      "cell_type": "code",
      "source": [
        "train_x_p"
      ],
      "metadata": {
        "colab": {
          "base_uri": "https://localhost:8080/",
          "height": 487
        },
        "id": "wZDqg7UupRIj",
        "outputId": "be9f207e-b536-43d1-f8b7-c0ca9b2f581f"
      },
      "execution_count": null,
      "outputs": [
        {
          "output_type": "execute_result",
          "data": {
            "text/plain": [
              "           itemId  user_count  1_star_ratings_recieved  \\\n",
              "0      0001526146           1                        1   \n",
              "1      0001527134           1                        1   \n",
              "2      0006935257           3                        3   \n",
              "3      0615516297           1                        1   \n",
              "4      0760131694           1                        1   \n",
              "...           ...         ...                      ...   \n",
              "22509  B01HIYACLC           1                        0   \n",
              "22510  B01HJ8ZUGE           1                        1   \n",
              "22511  B01HJ91HEC           2                        2   \n",
              "22512  B01HJ91LIY           2                        2   \n",
              "22513  B01HJ91MTW           1                        1   \n",
              "\n",
              "       2_star_ratings_recieved  3_star_ratings_recieved  \\\n",
              "0                            0                        0   \n",
              "1                            0                        0   \n",
              "2                            0                        0   \n",
              "3                            0                        0   \n",
              "4                            0                        0   \n",
              "...                        ...                      ...   \n",
              "22509                        1                        0   \n",
              "22510                        0                        0   \n",
              "22511                        0                        0   \n",
              "22512                        0                        0   \n",
              "22513                        0                        0   \n",
              "\n",
              "       4_star_ratings_recieved  5_star_ratings_recieved  \\\n",
              "0                            0                        0   \n",
              "1                            0                        0   \n",
              "2                            0                        0   \n",
              "3                            0                        0   \n",
              "4                            0                        0   \n",
              "...                        ...                      ...   \n",
              "22509                        0                        0   \n",
              "22510                        0                        0   \n",
              "22511                        0                        0   \n",
              "22512                        0                        0   \n",
              "22513                        0                        0   \n",
              "\n",
              "       monday_review_count_item  tuesday_review_count_item  \\\n",
              "0                             0                          0   \n",
              "1                             0                          0   \n",
              "2                             0                          0   \n",
              "3                             0                          0   \n",
              "4                             0                          0   \n",
              "...                         ...                        ...   \n",
              "22509                         0                          0   \n",
              "22510                         0                          0   \n",
              "22511                         0                          0   \n",
              "22512                         0                          0   \n",
              "22513                         0                          0   \n",
              "\n",
              "       wednesday_review_count_item  thursday_review_count_item  \\\n",
              "0                                0                           1   \n",
              "1                                0                           1   \n",
              "2                                0                           3   \n",
              "3                                0                           1   \n",
              "4                                0                           1   \n",
              "...                            ...                         ...   \n",
              "22509                            0                           1   \n",
              "22510                            0                           1   \n",
              "22511                            0                           2   \n",
              "22512                            0                           2   \n",
              "22513                            0                           1   \n",
              "\n",
              "       friday_review_count_item  saturday_review_count_item  \\\n",
              "0                             0                           0   \n",
              "1                             0                           0   \n",
              "2                             0                           0   \n",
              "3                             0                           0   \n",
              "4                             0                           0   \n",
              "...                         ...                         ...   \n",
              "22509                         0                           0   \n",
              "22510                         0                           0   \n",
              "22511                         0                           0   \n",
              "22512                         0                           0   \n",
              "22513                         0                           0   \n",
              "\n",
              "       sunday_review_count_item  evening_reviews_by_movie  \n",
              "0                             0                         0  \n",
              "1                             0                         0  \n",
              "2                             0                         0  \n",
              "3                             0                         0  \n",
              "4                             0                         0  \n",
              "...                         ...                       ...  \n",
              "22509                         0                         0  \n",
              "22510                         0                         0  \n",
              "22511                         0                         0  \n",
              "22512                         0                         0  \n",
              "22513                         0                         0  \n",
              "\n",
              "[22514 rows x 15 columns]"
            ],
            "text/html": [
              "\n",
              "  <div id=\"df-0f428623-fae5-43f5-b178-554dff0a9720\">\n",
              "    <div class=\"colab-df-container\">\n",
              "      <div>\n",
              "<style scoped>\n",
              "    .dataframe tbody tr th:only-of-type {\n",
              "        vertical-align: middle;\n",
              "    }\n",
              "\n",
              "    .dataframe tbody tr th {\n",
              "        vertical-align: top;\n",
              "    }\n",
              "\n",
              "    .dataframe thead th {\n",
              "        text-align: right;\n",
              "    }\n",
              "</style>\n",
              "<table border=\"1\" class=\"dataframe\">\n",
              "  <thead>\n",
              "    <tr style=\"text-align: right;\">\n",
              "      <th></th>\n",
              "      <th>itemId</th>\n",
              "      <th>user_count</th>\n",
              "      <th>1_star_ratings_recieved</th>\n",
              "      <th>2_star_ratings_recieved</th>\n",
              "      <th>3_star_ratings_recieved</th>\n",
              "      <th>4_star_ratings_recieved</th>\n",
              "      <th>5_star_ratings_recieved</th>\n",
              "      <th>monday_review_count_item</th>\n",
              "      <th>tuesday_review_count_item</th>\n",
              "      <th>wednesday_review_count_item</th>\n",
              "      <th>thursday_review_count_item</th>\n",
              "      <th>friday_review_count_item</th>\n",
              "      <th>saturday_review_count_item</th>\n",
              "      <th>sunday_review_count_item</th>\n",
              "      <th>evening_reviews_by_movie</th>\n",
              "    </tr>\n",
              "  </thead>\n",
              "  <tbody>\n",
              "    <tr>\n",
              "      <th>0</th>\n",
              "      <td>0001526146</td>\n",
              "      <td>1</td>\n",
              "      <td>1</td>\n",
              "      <td>0</td>\n",
              "      <td>0</td>\n",
              "      <td>0</td>\n",
              "      <td>0</td>\n",
              "      <td>0</td>\n",
              "      <td>0</td>\n",
              "      <td>0</td>\n",
              "      <td>1</td>\n",
              "      <td>0</td>\n",
              "      <td>0</td>\n",
              "      <td>0</td>\n",
              "      <td>0</td>\n",
              "    </tr>\n",
              "    <tr>\n",
              "      <th>1</th>\n",
              "      <td>0001527134</td>\n",
              "      <td>1</td>\n",
              "      <td>1</td>\n",
              "      <td>0</td>\n",
              "      <td>0</td>\n",
              "      <td>0</td>\n",
              "      <td>0</td>\n",
              "      <td>0</td>\n",
              "      <td>0</td>\n",
              "      <td>0</td>\n",
              "      <td>1</td>\n",
              "      <td>0</td>\n",
              "      <td>0</td>\n",
              "      <td>0</td>\n",
              "      <td>0</td>\n",
              "    </tr>\n",
              "    <tr>\n",
              "      <th>2</th>\n",
              "      <td>0006935257</td>\n",
              "      <td>3</td>\n",
              "      <td>3</td>\n",
              "      <td>0</td>\n",
              "      <td>0</td>\n",
              "      <td>0</td>\n",
              "      <td>0</td>\n",
              "      <td>0</td>\n",
              "      <td>0</td>\n",
              "      <td>0</td>\n",
              "      <td>3</td>\n",
              "      <td>0</td>\n",
              "      <td>0</td>\n",
              "      <td>0</td>\n",
              "      <td>0</td>\n",
              "    </tr>\n",
              "    <tr>\n",
              "      <th>3</th>\n",
              "      <td>0615516297</td>\n",
              "      <td>1</td>\n",
              "      <td>1</td>\n",
              "      <td>0</td>\n",
              "      <td>0</td>\n",
              "      <td>0</td>\n",
              "      <td>0</td>\n",
              "      <td>0</td>\n",
              "      <td>0</td>\n",
              "      <td>0</td>\n",
              "      <td>1</td>\n",
              "      <td>0</td>\n",
              "      <td>0</td>\n",
              "      <td>0</td>\n",
              "      <td>0</td>\n",
              "    </tr>\n",
              "    <tr>\n",
              "      <th>4</th>\n",
              "      <td>0760131694</td>\n",
              "      <td>1</td>\n",
              "      <td>1</td>\n",
              "      <td>0</td>\n",
              "      <td>0</td>\n",
              "      <td>0</td>\n",
              "      <td>0</td>\n",
              "      <td>0</td>\n",
              "      <td>0</td>\n",
              "      <td>0</td>\n",
              "      <td>1</td>\n",
              "      <td>0</td>\n",
              "      <td>0</td>\n",
              "      <td>0</td>\n",
              "      <td>0</td>\n",
              "    </tr>\n",
              "    <tr>\n",
              "      <th>...</th>\n",
              "      <td>...</td>\n",
              "      <td>...</td>\n",
              "      <td>...</td>\n",
              "      <td>...</td>\n",
              "      <td>...</td>\n",
              "      <td>...</td>\n",
              "      <td>...</td>\n",
              "      <td>...</td>\n",
              "      <td>...</td>\n",
              "      <td>...</td>\n",
              "      <td>...</td>\n",
              "      <td>...</td>\n",
              "      <td>...</td>\n",
              "      <td>...</td>\n",
              "      <td>...</td>\n",
              "    </tr>\n",
              "    <tr>\n",
              "      <th>22509</th>\n",
              "      <td>B01HIYACLC</td>\n",
              "      <td>1</td>\n",
              "      <td>0</td>\n",
              "      <td>1</td>\n",
              "      <td>0</td>\n",
              "      <td>0</td>\n",
              "      <td>0</td>\n",
              "      <td>0</td>\n",
              "      <td>0</td>\n",
              "      <td>0</td>\n",
              "      <td>1</td>\n",
              "      <td>0</td>\n",
              "      <td>0</td>\n",
              "      <td>0</td>\n",
              "      <td>0</td>\n",
              "    </tr>\n",
              "    <tr>\n",
              "      <th>22510</th>\n",
              "      <td>B01HJ8ZUGE</td>\n",
              "      <td>1</td>\n",
              "      <td>1</td>\n",
              "      <td>0</td>\n",
              "      <td>0</td>\n",
              "      <td>0</td>\n",
              "      <td>0</td>\n",
              "      <td>0</td>\n",
              "      <td>0</td>\n",
              "      <td>0</td>\n",
              "      <td>1</td>\n",
              "      <td>0</td>\n",
              "      <td>0</td>\n",
              "      <td>0</td>\n",
              "      <td>0</td>\n",
              "    </tr>\n",
              "    <tr>\n",
              "      <th>22511</th>\n",
              "      <td>B01HJ91HEC</td>\n",
              "      <td>2</td>\n",
              "      <td>2</td>\n",
              "      <td>0</td>\n",
              "      <td>0</td>\n",
              "      <td>0</td>\n",
              "      <td>0</td>\n",
              "      <td>0</td>\n",
              "      <td>0</td>\n",
              "      <td>0</td>\n",
              "      <td>2</td>\n",
              "      <td>0</td>\n",
              "      <td>0</td>\n",
              "      <td>0</td>\n",
              "      <td>0</td>\n",
              "    </tr>\n",
              "    <tr>\n",
              "      <th>22512</th>\n",
              "      <td>B01HJ91LIY</td>\n",
              "      <td>2</td>\n",
              "      <td>2</td>\n",
              "      <td>0</td>\n",
              "      <td>0</td>\n",
              "      <td>0</td>\n",
              "      <td>0</td>\n",
              "      <td>0</td>\n",
              "      <td>0</td>\n",
              "      <td>0</td>\n",
              "      <td>2</td>\n",
              "      <td>0</td>\n",
              "      <td>0</td>\n",
              "      <td>0</td>\n",
              "      <td>0</td>\n",
              "    </tr>\n",
              "    <tr>\n",
              "      <th>22513</th>\n",
              "      <td>B01HJ91MTW</td>\n",
              "      <td>1</td>\n",
              "      <td>1</td>\n",
              "      <td>0</td>\n",
              "      <td>0</td>\n",
              "      <td>0</td>\n",
              "      <td>0</td>\n",
              "      <td>0</td>\n",
              "      <td>0</td>\n",
              "      <td>0</td>\n",
              "      <td>1</td>\n",
              "      <td>0</td>\n",
              "      <td>0</td>\n",
              "      <td>0</td>\n",
              "      <td>0</td>\n",
              "    </tr>\n",
              "  </tbody>\n",
              "</table>\n",
              "<p>22514 rows × 15 columns</p>\n",
              "</div>\n",
              "      <button class=\"colab-df-convert\" onclick=\"convertToInteractive('df-0f428623-fae5-43f5-b178-554dff0a9720')\"\n",
              "              title=\"Convert this dataframe to an interactive table.\"\n",
              "              style=\"display:none;\">\n",
              "        \n",
              "  <svg xmlns=\"http://www.w3.org/2000/svg\" height=\"24px\"viewBox=\"0 0 24 24\"\n",
              "       width=\"24px\">\n",
              "    <path d=\"M0 0h24v24H0V0z\" fill=\"none\"/>\n",
              "    <path d=\"M18.56 5.44l.94 2.06.94-2.06 2.06-.94-2.06-.94-.94-2.06-.94 2.06-2.06.94zm-11 1L8.5 8.5l.94-2.06 2.06-.94-2.06-.94L8.5 2.5l-.94 2.06-2.06.94zm10 10l.94 2.06.94-2.06 2.06-.94-2.06-.94-.94-2.06-.94 2.06-2.06.94z\"/><path d=\"M17.41 7.96l-1.37-1.37c-.4-.4-.92-.59-1.43-.59-.52 0-1.04.2-1.43.59L10.3 9.45l-7.72 7.72c-.78.78-.78 2.05 0 2.83L4 21.41c.39.39.9.59 1.41.59.51 0 1.02-.2 1.41-.59l7.78-7.78 2.81-2.81c.8-.78.8-2.07 0-2.86zM5.41 20L4 18.59l7.72-7.72 1.47 1.35L5.41 20z\"/>\n",
              "  </svg>\n",
              "      </button>\n",
              "      \n",
              "  <style>\n",
              "    .colab-df-container {\n",
              "      display:flex;\n",
              "      flex-wrap:wrap;\n",
              "      gap: 12px;\n",
              "    }\n",
              "\n",
              "    .colab-df-convert {\n",
              "      background-color: #E8F0FE;\n",
              "      border: none;\n",
              "      border-radius: 50%;\n",
              "      cursor: pointer;\n",
              "      display: none;\n",
              "      fill: #1967D2;\n",
              "      height: 32px;\n",
              "      padding: 0 0 0 0;\n",
              "      width: 32px;\n",
              "    }\n",
              "\n",
              "    .colab-df-convert:hover {\n",
              "      background-color: #E2EBFA;\n",
              "      box-shadow: 0px 1px 2px rgba(60, 64, 67, 0.3), 0px 1px 3px 1px rgba(60, 64, 67, 0.15);\n",
              "      fill: #174EA6;\n",
              "    }\n",
              "\n",
              "    [theme=dark] .colab-df-convert {\n",
              "      background-color: #3B4455;\n",
              "      fill: #D2E3FC;\n",
              "    }\n",
              "\n",
              "    [theme=dark] .colab-df-convert:hover {\n",
              "      background-color: #434B5C;\n",
              "      box-shadow: 0px 1px 3px 1px rgba(0, 0, 0, 0.15);\n",
              "      filter: drop-shadow(0px 1px 2px rgba(0, 0, 0, 0.3));\n",
              "      fill: #FFFFFF;\n",
              "    }\n",
              "  </style>\n",
              "\n",
              "      <script>\n",
              "        const buttonEl =\n",
              "          document.querySelector('#df-0f428623-fae5-43f5-b178-554dff0a9720 button.colab-df-convert');\n",
              "        buttonEl.style.display =\n",
              "          google.colab.kernel.accessAllowed ? 'block' : 'none';\n",
              "\n",
              "        async function convertToInteractive(key) {\n",
              "          const element = document.querySelector('#df-0f428623-fae5-43f5-b178-554dff0a9720');\n",
              "          const dataTable =\n",
              "            await google.colab.kernel.invokeFunction('convertToInteractive',\n",
              "                                                     [key], {});\n",
              "          if (!dataTable) return;\n",
              "\n",
              "          const docLinkHtml = 'Like what you see? Visit the ' +\n",
              "            '<a target=\"_blank\" href=https://colab.research.google.com/notebooks/data_table.ipynb>data table notebook</a>'\n",
              "            + ' to learn more about interactive tables.';\n",
              "          element.innerHTML = '';\n",
              "          dataTable['output_type'] = 'display_data';\n",
              "          await google.colab.output.renderOutput(dataTable, element);\n",
              "          const docLink = document.createElement('div');\n",
              "          docLink.innerHTML = docLinkHtml;\n",
              "          element.appendChild(docLink);\n",
              "        }\n",
              "      </script>\n",
              "    </div>\n",
              "  </div>\n",
              "  "
            ]
          },
          "metadata": {},
          "execution_count": 34
        }
      ]
    },
    {
      "cell_type": "code",
      "source": [
        "unique_users = np.unique(train_x_u['userId'])"
      ],
      "metadata": {
        "id": "G2gmH0fdHSTU"
      },
      "execution_count": null,
      "outputs": []
    },
    {
      "cell_type": "code",
      "source": [
        "# test_x_u = get_feature_by_user_v1(test_ratings)\n",
        "# test_x_p = get_feature_by_product_v1(test_ratings)\n",
        "# unique_users_t = np.unique(test_x_u['userId'])\n",
        "\n",
        "test_x_u = get_feature_by_user(ratings[30000:40000])\n",
        "test_x_p = get_feature_by_product(ratings[30000:40000])\n",
        "unique_users_t = np.unique(test_x_u['userId'])"
      ],
      "metadata": {
        "colab": {
          "base_uri": "https://localhost:8080/"
        },
        "id": "zSuacVsNH3j4",
        "outputId": "1a171fb3-9eac-4548-9209-2b4c5e778e00"
      },
      "execution_count": null,
      "outputs": [
        {
          "output_type": "stream",
          "name": "stderr",
          "text": [
            "100%|██████████| 9136/9136 [00:39<00:00, 229.93it/s]\n",
            "100%|██████████| 529/529 [00:02<00:00, 245.98it/s]\n"
          ]
        }
      ]
    },
    {
      "cell_type": "code",
      "source": [
        "\n",
        "def get_model_input(X_u, X_m, y, tgt_users):\n",
        "\n",
        "    merged = pd.merge(X_u, y, on=['userId'], how='inner')\n",
        "    merged = pd.merge(X_m, merged, on=['itemId'], how='outer')\n",
        "    merged = merged.query('userId in @tgt_users')\n",
        "    # print(merged.columns)\n",
        "\n",
        "    merged.fillna(0, inplace=True)\n",
        "    features_cols = list(merged.drop(columns=['userId', 'itemId', 'rating', 'timestamp']).columns)\n",
        "\n",
        "    query_list = merged['userId'].value_counts()\n",
        "\n",
        "    merged = merged.set_index(['userId', 'itemId'])\n",
        "\n",
        "    query_list = query_list.sort_index()\n",
        "\n",
        "    merged.sort_index(inplace=True)\n",
        "\n",
        "    df_x = merged[features_cols]\n",
        "\n",
        "    df_y = merged['rating']\n",
        "    \n",
        "    return df_x, df_y, query_list\n",
        "\n",
        "X_train, y_train, query_list_train = get_model_input(train_x_u, train_x_p, train_ratings, unique_users)\n",
        "X_test, y_test, query_list_test = get_model_input(test_x_u, test_x_p, test_ratings, unique_users_t)\n"
      ],
      "metadata": {
        "id": "T7X-izp6y2pu"
      },
      "execution_count": null,
      "outputs": []
    },
    {
      "cell_type": "code",
      "source": [
        "# X_train.to_csv('/content/drive/MyDrive/data_for_lab/RS_final_assignment/re_ranking/X_train.csv')\n",
        "# y_train.to_csv('/content/drive/MyDrive/data_for_lab/RS_final_assignment/re_ranking/y_train.csv')\n",
        "# query_list_train.to_csv('/content/drive/MyDrive/data_for_lab/RS_final_assignment/re_ranking/query_list_train.csv')\n",
        "\n",
        "# X_test.to_csv('/content/drive/MyDrive/data_for_lab/RS_final_assignment/re_ranking/X_test.csv')\n",
        "# y_test.to_csv('/content/drive/MyDrive/data_for_lab/RS_final_assignment/re_ranking/y_test.csv')\n",
        "# query_list_test.to_csv('/content/drive/MyDrive/data_for_lab/RS_final_assignment/re_ranking/query_list_test.csv')"
      ],
      "metadata": {
        "id": "u88TbAu_2GXK"
      },
      "execution_count": null,
      "outputs": []
    },
    {
      "cell_type": "markdown",
      "source": [
        "### Other method"
      ],
      "metadata": {
        "id": "vbIDdfbUdl_P"
      }
    },
    {
      "cell_type": "code",
      "source": [
        "from sklearn.model_selection import GroupShuffleSplit\n",
        "\n",
        "gss = GroupShuffleSplit(test_size=.20, n_splits=1, random_state = 42).split(ratings, groups=ratings['userId'])\n",
        "\n",
        "X_train_inds, X_test_inds = next(gss)\n",
        "\n",
        "\n",
        "it_id = list(ratings['itemId'])\n",
        "rat = list(ratings['rating'])\n",
        "\n",
        "# train\n",
        "g_train = []\n",
        "X_train = []\n",
        "y_train = []\n",
        "\n",
        "for i in tqdm(X_train_inds):\n",
        "  try:\n",
        "    X_train.append(b[it_id[i]])\n",
        "    y_train.append(rat[i])\n",
        "    g_train.append(it_id[i])\n",
        "  except KeyboardInterrupt:\n",
        "    break\n",
        "  except Exception as e:\n",
        "    if len(X_train) > len(y_train):\n",
        "      X_train.pop()\n",
        "    pass\n",
        "\n",
        "X_train = pd.DataFrame(X_train)\n",
        "y_train = pd.DataFrame(y_train)\n",
        "\n",
        "print(X_train.shape, y_train.shape, len(g_train))\n",
        "\n",
        "c = Counter(g_train)\n",
        "groups_train = np.array(list(c.values()))\n",
        "\n",
        "\n",
        "# test\n",
        "temp_ratings = ratings.iloc[X_test_inds]\n",
        "temp_ratings = temp_ratings.reset_index()\n",
        "temp_ratings = temp_ratings.drop('index', axis=1)\n",
        "gss2 = GroupShuffleSplit(test_size=.25, n_splits=1, random_state = 42).split(temp_ratings, groups=temp_ratings['userId'])\n",
        "X_test_inds, X_val_inds = next(gss2)\n",
        "\n",
        "it_id = list(temp_ratings['itemId'])\n",
        "rat = list(temp_ratings['rating'])\n",
        "\n",
        "g_test = []\n",
        "X_test = []\n",
        "y_test = []\n",
        "\n",
        "for i in tqdm(X_test_inds):\n",
        "  try:\n",
        "    X_test.append(b[it_id[i]])\n",
        "    y_test.append(rat[i])\n",
        "    g_test.append(it_id[i])\n",
        "  except KeyboardInterrupt:\n",
        "    break\n",
        "  except Exception as e:\n",
        "    if len(X_test) > len(y_test):\n",
        "      X_test.pop()\n",
        "    pass\n",
        "\n",
        "X_test = pd.DataFrame(X_test)\n",
        "y_test = pd.DataFrame(y_test)\n",
        "\n",
        "print(X_test.shape, y_test.shape, len(g_test))\n",
        "\n",
        "c = Counter(g_test)\n",
        "groups_test = np.array(list(c.values()))\n",
        "\n",
        "# val\n",
        "g_val = []\n",
        "X_val = []\n",
        "y_val = []\n",
        "\n",
        "for i in tqdm(X_test_inds):\n",
        "  try:\n",
        "    X_val.append(b[it_id[i]])\n",
        "    y_val.append(rat[i])\n",
        "    g_val.append(it_id[i])\n",
        "  except KeyboardInterrupt:\n",
        "    break\n",
        "  except Exception as e:\n",
        "    if len(X_val) > len(y_val):\n",
        "      X_val.pop()\n",
        "    pass\n",
        "\n",
        "X_val = pd.DataFrame(X_val)\n",
        "y_val = pd.DataFrame(y_val)\n",
        "\n",
        "print(X_val.shape, y_val.shape, len(g_val))\n",
        "\n",
        "c = Counter(g_val)\n",
        "groups_val = np.array(list(c.values()))\n"
      ],
      "metadata": {
        "colab": {
          "base_uri": "https://localhost:8080/"
        },
        "id": "lxmp2Ju47Db2",
        "outputId": "1a60b0ac-5f4b-4c87-91d0-6819cab6fe47"
      },
      "execution_count": null,
      "outputs": [
        {
          "output_type": "stream",
          "name": "stderr",
          "text": [
            "100%|██████████| 1264413/1264413 [00:01<00:00, 1005729.53it/s]\n"
          ]
        },
        {
          "output_type": "stream",
          "name": "stdout",
          "text": [
            "(1136881, 100) (1136881, 1) 1136881\n"
          ]
        },
        {
          "output_type": "stream",
          "name": "stderr",
          "text": [
            "100%|██████████| 238722/238722 [00:00<00:00, 748591.55it/s]\n"
          ]
        },
        {
          "output_type": "stream",
          "name": "stdout",
          "text": [
            "(214628, 100) (214628, 1) 214628\n"
          ]
        },
        {
          "output_type": "stream",
          "name": "stderr",
          "text": [
            "100%|██████████| 238722/238722 [00:00<00:00, 836663.32it/s]\n"
          ]
        },
        {
          "output_type": "stream",
          "name": "stdout",
          "text": [
            "(214628, 100) (214628, 1) 214628\n"
          ]
        }
      ]
    },
    {
      "cell_type": "code",
      "source": [
        "from xgboost import XGBRanker\n",
        "model = XGBRanker(objective='rank:ndcg', n_estimators=100, random_state=0,learning_rate=0.1)\n",
        "model.fit(\n",
        "    X_train,\n",
        "    y_train,\n",
        "    group=groups_train,\n",
        "    eval_set=[(X_val, y_val)],\n",
        "    eval_group=[groups_val],\n",
        "    eval_metric='ndcg',\n",
        "    verbose =True\n",
        ")\n",
        "# eval_set=[(X_test, y_test)],\n",
        "#     eval_group=[list(query_list_test)]"
      ],
      "metadata": {
        "colab": {
          "base_uri": "https://localhost:8080/",
          "height": 1000
        },
        "id": "FKWjgeY0HpwQ",
        "outputId": "42cc4cd5-4ff9-46bc-a18b-f08cdea02827"
      },
      "execution_count": null,
      "outputs": [
        {
          "output_type": "stream",
          "name": "stderr",
          "text": [
            "/usr/local/lib/python3.9/dist-packages/xgboost/sklearn.py:835: UserWarning: `eval_metric` in `fit` method is deprecated for better compatibility with scikit-learn, use `eval_metric` in constructor or`set_params` instead.\n",
            "  warnings.warn(\n"
          ]
        },
        {
          "output_type": "stream",
          "name": "stdout",
          "text": [
            "[0]\tvalidation_0-ndcg:0.99261\n",
            "[1]\tvalidation_0-ndcg:0.99263\n",
            "[2]\tvalidation_0-ndcg:0.99266\n",
            "[3]\tvalidation_0-ndcg:0.99269\n",
            "[4]\tvalidation_0-ndcg:0.99269\n",
            "[5]\tvalidation_0-ndcg:0.99272\n",
            "[6]\tvalidation_0-ndcg:0.99274\n",
            "[7]\tvalidation_0-ndcg:0.99279\n",
            "[8]\tvalidation_0-ndcg:0.99283\n",
            "[9]\tvalidation_0-ndcg:0.99283\n",
            "[10]\tvalidation_0-ndcg:0.99282\n",
            "[11]\tvalidation_0-ndcg:0.99284\n",
            "[12]\tvalidation_0-ndcg:0.99285\n",
            "[13]\tvalidation_0-ndcg:0.99287\n",
            "[14]\tvalidation_0-ndcg:0.99286\n",
            "[15]\tvalidation_0-ndcg:0.99288\n",
            "[16]\tvalidation_0-ndcg:0.99289\n",
            "[17]\tvalidation_0-ndcg:0.99291\n",
            "[18]\tvalidation_0-ndcg:0.99291\n",
            "[19]\tvalidation_0-ndcg:0.99291\n",
            "[20]\tvalidation_0-ndcg:0.99292\n",
            "[21]\tvalidation_0-ndcg:0.99294\n",
            "[22]\tvalidation_0-ndcg:0.99294\n",
            "[23]\tvalidation_0-ndcg:0.99294\n",
            "[24]\tvalidation_0-ndcg:0.99294\n",
            "[25]\tvalidation_0-ndcg:0.99293\n",
            "[26]\tvalidation_0-ndcg:0.99294\n",
            "[27]\tvalidation_0-ndcg:0.99295\n",
            "[28]\tvalidation_0-ndcg:0.99295\n",
            "[29]\tvalidation_0-ndcg:0.99295\n",
            "[30]\tvalidation_0-ndcg:0.99296\n",
            "[31]\tvalidation_0-ndcg:0.99297\n",
            "[32]\tvalidation_0-ndcg:0.99296\n",
            "[33]\tvalidation_0-ndcg:0.99297\n",
            "[34]\tvalidation_0-ndcg:0.99299\n",
            "[35]\tvalidation_0-ndcg:0.99299\n",
            "[36]\tvalidation_0-ndcg:0.99299\n",
            "[37]\tvalidation_0-ndcg:0.99302\n",
            "[38]\tvalidation_0-ndcg:0.99303\n",
            "[39]\tvalidation_0-ndcg:0.99303\n",
            "[40]\tvalidation_0-ndcg:0.99305\n",
            "[41]\tvalidation_0-ndcg:0.99304\n",
            "[42]\tvalidation_0-ndcg:0.99305\n",
            "[43]\tvalidation_0-ndcg:0.99305\n",
            "[44]\tvalidation_0-ndcg:0.99305\n",
            "[45]\tvalidation_0-ndcg:0.99307\n",
            "[46]\tvalidation_0-ndcg:0.99308\n",
            "[47]\tvalidation_0-ndcg:0.99309\n",
            "[48]\tvalidation_0-ndcg:0.99310\n",
            "[49]\tvalidation_0-ndcg:0.99311\n",
            "[50]\tvalidation_0-ndcg:0.99311\n",
            "[51]\tvalidation_0-ndcg:0.99312\n",
            "[52]\tvalidation_0-ndcg:0.99311\n",
            "[53]\tvalidation_0-ndcg:0.99312\n",
            "[54]\tvalidation_0-ndcg:0.99313\n",
            "[55]\tvalidation_0-ndcg:0.99313\n",
            "[56]\tvalidation_0-ndcg:0.99313\n",
            "[57]\tvalidation_0-ndcg:0.99313\n",
            "[58]\tvalidation_0-ndcg:0.99314\n",
            "[59]\tvalidation_0-ndcg:0.99313\n",
            "[60]\tvalidation_0-ndcg:0.99314\n",
            "[61]\tvalidation_0-ndcg:0.99313\n",
            "[62]\tvalidation_0-ndcg:0.99313\n",
            "[63]\tvalidation_0-ndcg:0.99314\n",
            "[64]\tvalidation_0-ndcg:0.99314\n",
            "[65]\tvalidation_0-ndcg:0.99314\n",
            "[66]\tvalidation_0-ndcg:0.99315\n",
            "[67]\tvalidation_0-ndcg:0.99315\n",
            "[68]\tvalidation_0-ndcg:0.99315\n",
            "[69]\tvalidation_0-ndcg:0.99314\n",
            "[70]\tvalidation_0-ndcg:0.99315\n",
            "[71]\tvalidation_0-ndcg:0.99316\n",
            "[72]\tvalidation_0-ndcg:0.99316\n",
            "[73]\tvalidation_0-ndcg:0.99316\n",
            "[74]\tvalidation_0-ndcg:0.99316\n",
            "[75]\tvalidation_0-ndcg:0.99317\n",
            "[76]\tvalidation_0-ndcg:0.99317\n",
            "[77]\tvalidation_0-ndcg:0.99318\n",
            "[78]\tvalidation_0-ndcg:0.99318\n",
            "[79]\tvalidation_0-ndcg:0.99317\n",
            "[80]\tvalidation_0-ndcg:0.99317\n",
            "[81]\tvalidation_0-ndcg:0.99319\n",
            "[82]\tvalidation_0-ndcg:0.99319\n",
            "[83]\tvalidation_0-ndcg:0.99319\n",
            "[84]\tvalidation_0-ndcg:0.99319\n",
            "[85]\tvalidation_0-ndcg:0.99319\n",
            "[86]\tvalidation_0-ndcg:0.99319\n",
            "[87]\tvalidation_0-ndcg:0.99320\n",
            "[88]\tvalidation_0-ndcg:0.99320\n",
            "[89]\tvalidation_0-ndcg:0.99321\n",
            "[90]\tvalidation_0-ndcg:0.99321\n",
            "[91]\tvalidation_0-ndcg:0.99321\n",
            "[92]\tvalidation_0-ndcg:0.99321\n",
            "[93]\tvalidation_0-ndcg:0.99321\n",
            "[94]\tvalidation_0-ndcg:0.99322\n",
            "[95]\tvalidation_0-ndcg:0.99321\n",
            "[96]\tvalidation_0-ndcg:0.99321\n",
            "[97]\tvalidation_0-ndcg:0.99320\n",
            "[98]\tvalidation_0-ndcg:0.99321\n",
            "[99]\tvalidation_0-ndcg:0.99320\n"
          ]
        },
        {
          "output_type": "execute_result",
          "data": {
            "text/plain": [
              "XGBRanker(base_score=None, booster=None, callbacks=None, colsample_bylevel=None,\n",
              "          colsample_bynode=None, colsample_bytree=None,\n",
              "          early_stopping_rounds=None, enable_categorical=False,\n",
              "          eval_metric=None, feature_types=None, gamma=None, gpu_id=None,\n",
              "          grow_policy=None, importance_type=None, interaction_constraints=None,\n",
              "          learning_rate=0.1, max_bin=None, max_cat_threshold=None,\n",
              "          max_cat_to_onehot=None, max_delta_step=None, max_depth=None,\n",
              "          max_leaves=None, min_child_weight=None, missing=nan,\n",
              "          monotone_constraints=None, n_estimators=100, n_jobs=None,\n",
              "          num_parallel_tree=None, objective='rank:ndcg', predictor=None, ...)"
            ],
            "text/html": [
              "<style>#sk-container-id-1 {color: black;background-color: white;}#sk-container-id-1 pre{padding: 0;}#sk-container-id-1 div.sk-toggleable {background-color: white;}#sk-container-id-1 label.sk-toggleable__label {cursor: pointer;display: block;width: 100%;margin-bottom: 0;padding: 0.3em;box-sizing: border-box;text-align: center;}#sk-container-id-1 label.sk-toggleable__label-arrow:before {content: \"▸\";float: left;margin-right: 0.25em;color: #696969;}#sk-container-id-1 label.sk-toggleable__label-arrow:hover:before {color: black;}#sk-container-id-1 div.sk-estimator:hover label.sk-toggleable__label-arrow:before {color: black;}#sk-container-id-1 div.sk-toggleable__content {max-height: 0;max-width: 0;overflow: hidden;text-align: left;background-color: #f0f8ff;}#sk-container-id-1 div.sk-toggleable__content pre {margin: 0.2em;color: black;border-radius: 0.25em;background-color: #f0f8ff;}#sk-container-id-1 input.sk-toggleable__control:checked~div.sk-toggleable__content {max-height: 200px;max-width: 100%;overflow: auto;}#sk-container-id-1 input.sk-toggleable__control:checked~label.sk-toggleable__label-arrow:before {content: \"▾\";}#sk-container-id-1 div.sk-estimator input.sk-toggleable__control:checked~label.sk-toggleable__label {background-color: #d4ebff;}#sk-container-id-1 div.sk-label input.sk-toggleable__control:checked~label.sk-toggleable__label {background-color: #d4ebff;}#sk-container-id-1 input.sk-hidden--visually {border: 0;clip: rect(1px 1px 1px 1px);clip: rect(1px, 1px, 1px, 1px);height: 1px;margin: -1px;overflow: hidden;padding: 0;position: absolute;width: 1px;}#sk-container-id-1 div.sk-estimator {font-family: monospace;background-color: #f0f8ff;border: 1px dotted black;border-radius: 0.25em;box-sizing: border-box;margin-bottom: 0.5em;}#sk-container-id-1 div.sk-estimator:hover {background-color: #d4ebff;}#sk-container-id-1 div.sk-parallel-item::after {content: \"\";width: 100%;border-bottom: 1px solid gray;flex-grow: 1;}#sk-container-id-1 div.sk-label:hover label.sk-toggleable__label {background-color: #d4ebff;}#sk-container-id-1 div.sk-serial::before {content: \"\";position: absolute;border-left: 1px solid gray;box-sizing: border-box;top: 0;bottom: 0;left: 50%;z-index: 0;}#sk-container-id-1 div.sk-serial {display: flex;flex-direction: column;align-items: center;background-color: white;padding-right: 0.2em;padding-left: 0.2em;position: relative;}#sk-container-id-1 div.sk-item {position: relative;z-index: 1;}#sk-container-id-1 div.sk-parallel {display: flex;align-items: stretch;justify-content: center;background-color: white;position: relative;}#sk-container-id-1 div.sk-item::before, #sk-container-id-1 div.sk-parallel-item::before {content: \"\";position: absolute;border-left: 1px solid gray;box-sizing: border-box;top: 0;bottom: 0;left: 50%;z-index: -1;}#sk-container-id-1 div.sk-parallel-item {display: flex;flex-direction: column;z-index: 1;position: relative;background-color: white;}#sk-container-id-1 div.sk-parallel-item:first-child::after {align-self: flex-end;width: 50%;}#sk-container-id-1 div.sk-parallel-item:last-child::after {align-self: flex-start;width: 50%;}#sk-container-id-1 div.sk-parallel-item:only-child::after {width: 0;}#sk-container-id-1 div.sk-dashed-wrapped {border: 1px dashed gray;margin: 0 0.4em 0.5em 0.4em;box-sizing: border-box;padding-bottom: 0.4em;background-color: white;}#sk-container-id-1 div.sk-label label {font-family: monospace;font-weight: bold;display: inline-block;line-height: 1.2em;}#sk-container-id-1 div.sk-label-container {text-align: center;}#sk-container-id-1 div.sk-container {/* jupyter's `normalize.less` sets `[hidden] { display: none; }` but bootstrap.min.css set `[hidden] { display: none !important; }` so we also need the `!important` here to be able to override the default hidden behavior on the sphinx rendered scikit-learn.org. See: https://github.com/scikit-learn/scikit-learn/issues/21755 */display: inline-block !important;position: relative;}#sk-container-id-1 div.sk-text-repr-fallback {display: none;}</style><div id=\"sk-container-id-1\" class=\"sk-top-container\"><div class=\"sk-text-repr-fallback\"><pre>XGBRanker(base_score=None, booster=None, callbacks=None, colsample_bylevel=None,\n",
              "          colsample_bynode=None, colsample_bytree=None,\n",
              "          early_stopping_rounds=None, enable_categorical=False,\n",
              "          eval_metric=None, feature_types=None, gamma=None, gpu_id=None,\n",
              "          grow_policy=None, importance_type=None, interaction_constraints=None,\n",
              "          learning_rate=0.1, max_bin=None, max_cat_threshold=None,\n",
              "          max_cat_to_onehot=None, max_delta_step=None, max_depth=None,\n",
              "          max_leaves=None, min_child_weight=None, missing=nan,\n",
              "          monotone_constraints=None, n_estimators=100, n_jobs=None,\n",
              "          num_parallel_tree=None, objective=&#x27;rank:ndcg&#x27;, predictor=None, ...)</pre><b>In a Jupyter environment, please rerun this cell to show the HTML representation or trust the notebook. <br />On GitHub, the HTML representation is unable to render, please try loading this page with nbviewer.org.</b></div><div class=\"sk-container\" hidden><div class=\"sk-item\"><div class=\"sk-estimator sk-toggleable\"><input class=\"sk-toggleable__control sk-hidden--visually\" id=\"sk-estimator-id-1\" type=\"checkbox\" checked><label for=\"sk-estimator-id-1\" class=\"sk-toggleable__label sk-toggleable__label-arrow\">XGBRanker</label><div class=\"sk-toggleable__content\"><pre>XGBRanker(base_score=None, booster=None, callbacks=None, colsample_bylevel=None,\n",
              "          colsample_bynode=None, colsample_bytree=None,\n",
              "          early_stopping_rounds=None, enable_categorical=False,\n",
              "          eval_metric=None, feature_types=None, gamma=None, gpu_id=None,\n",
              "          grow_policy=None, importance_type=None, interaction_constraints=None,\n",
              "          learning_rate=0.1, max_bin=None, max_cat_threshold=None,\n",
              "          max_cat_to_onehot=None, max_delta_step=None, max_depth=None,\n",
              "          max_leaves=None, min_child_weight=None, missing=nan,\n",
              "          monotone_constraints=None, n_estimators=100, n_jobs=None,\n",
              "          num_parallel_tree=None, objective=&#x27;rank:ndcg&#x27;, predictor=None, ...)</pre></div></div></div></div></div>"
            ]
          },
          "metadata": {},
          "execution_count": 44
        }
      ]
    },
    {
      "cell_type": "code",
      "source": [
        "# saving model\n",
        "# model.save_model(\"/content/drive/MyDrive/data_for_lab/RS_final_assignment/l2r_xgb_v1.json\")"
      ],
      "metadata": {
        "id": "1xv1tvdtwxu_"
      },
      "execution_count": null,
      "outputs": []
    },
    {
      "cell_type": "code",
      "source": [
        "test_load = XGBRanker()\n",
        "# model_xgb_2 = xgb.Booster()\n",
        "test_load.load_model(\"/content/drive/MyDrive/data_for_lab/RS_final_assignment/l2r_xgb_v1.json\")"
      ],
      "metadata": {
        "id": "_puoQiOJyJEz"
      },
      "execution_count": null,
      "outputs": []
    },
    {
      "cell_type": "code",
      "source": [
        "# predict\n",
        "for i in range(100):\n",
        "  if len(ratings[ratings['userId'] == ratings.iloc[i]['userId']]) > 10:\n",
        "    print(ratings.iloc[i]['userId'])"
      ],
      "metadata": {
        "colab": {
          "base_uri": "https://localhost:8080/"
        },
        "id": "p3Yuga9kzawh",
        "outputId": "d39c5a6f-f960-4ce3-f7ad-1493af10f314"
      },
      "execution_count": null,
      "outputs": [
        {
          "output_type": "stream",
          "name": "stdout",
          "text": [
            "A12R54MKO17TW0\n",
            "A3FVAWZNKW9GX\n"
          ]
        }
      ]
    },
    {
      "cell_type": "code",
      "source": [
        "temp_df = ratings[ratings['userId'] == 'A12R54MKO17TW0']\n",
        "d = []\n",
        "for i in range(temp_df.shape[0]):\n",
        "  d.append(b[temp_df.iloc[i]['itemId']])\n",
        "\n",
        "df = pd.DataFrame(d)"
      ],
      "metadata": {
        "id": "qRyysIkU0K0O"
      },
      "execution_count": null,
      "outputs": []
    },
    {
      "cell_type": "code",
      "source": [
        "np.argsort(model.predict(df))"
      ],
      "metadata": {
        "colab": {
          "base_uri": "https://localhost:8080/"
        },
        "id": "2Xu2AMIJ0lxa",
        "outputId": "bf0f023e-0a9b-4433-9d39-173b72d5fb7b"
      },
      "execution_count": null,
      "outputs": [
        {
          "output_type": "execute_result",
          "data": {
            "text/plain": [
              "array([13, 10,  9, 15, 16, 17, 46, 42, 36, 12, 50, 49, 23, 39,  4,  8, 19,\n",
              "        5,  1, 38, 21, 24, 29, 30, 34, 28,  3,  7, 18, 48, 27, 35, 11, 14,\n",
              "       22, 37, 25, 33, 20, 44, 26, 32, 31, 40,  6,  2,  0, 43, 41, 47, 45])"
            ]
          },
          "metadata": {},
          "execution_count": 54
        }
      ]
    },
    {
      "cell_type": "code",
      "source": [
        "np.argsort(test_load.predict(df))"
      ],
      "metadata": {
        "colab": {
          "base_uri": "https://localhost:8080/"
        },
        "id": "dc8jLCXu0luc",
        "outputId": "e93b67a7-68ee-418b-eea0-5fad78cdeb06"
      },
      "execution_count": null,
      "outputs": [
        {
          "output_type": "execute_result",
          "data": {
            "text/plain": [
              "array([13, 10,  9, 15, 16, 17, 46, 42, 36, 12, 50, 49, 23, 39,  4,  8, 19,\n",
              "        5,  1, 38, 21, 24, 29, 30, 34, 28,  3,  7, 18, 48, 27, 35, 11, 14,\n",
              "       22, 37, 25, 33, 20, 44, 26, 32, 31, 40,  6,  2,  0, 43, 41, 47, 45])"
            ]
          },
          "metadata": {},
          "execution_count": 55
        }
      ]
    },
    {
      "cell_type": "code",
      "source": [],
      "metadata": {
        "id": "gTQQIA700lbf"
      },
      "execution_count": null,
      "outputs": []
    },
    {
      "cell_type": "markdown",
      "source": [
        "### ---------------------------"
      ],
      "metadata": {
        "id": "7LXY2Y8PqQN0"
      }
    },
    {
      "cell_type": "code",
      "source": [
        "import requests\n",
        "from bs4 import BeautifulSoup"
      ],
      "metadata": {
        "id": "SvnCE-dtMUQM"
      },
      "execution_count": 2,
      "outputs": []
    },
    {
      "cell_type": "code",
      "source": [
        "URL = \"https://www.amazon.com/dp/B01HJ91P94\"\n",
        "HEADERS = ({'User-Agent':'Mozilla/5.0 (X11; Linux x86_64) AppleWebKit/537.36 (KHTML, like Gecko) Chrome/44.0.2403.157 Safari/537.36',\n",
        "                           'Accept-Language': 'en-US, en;q=0.5'})\n",
        " \n",
        "page = requests.get(URL, headers=HEADERS)\n",
        "soup = BeautifulSoup(page.content, \"html.parser\")"
      ],
      "metadata": {
        "id": "8xWdyrkhqWtb"
      },
      "execution_count": 22,
      "outputs": []
    },
    {
      "cell_type": "code",
      "source": [
        "page"
      ],
      "metadata": {
        "colab": {
          "base_uri": "https://localhost:8080/"
        },
        "id": "Jc7cTweHrop1",
        "outputId": "507dd571-7362-48b3-99e8-7cf3fcff8507"
      },
      "execution_count": 23,
      "outputs": [
        {
          "output_type": "execute_result",
          "data": {
            "text/plain": [
              "<Response [503]>"
            ]
          },
          "metadata": {},
          "execution_count": 23
        }
      ]
    },
    {
      "cell_type": "code",
      "source": [
        "!pip install requests-html"
      ],
      "metadata": {
        "colab": {
          "base_uri": "https://localhost:8080/"
        },
        "id": "zdAHNsDBs-4e",
        "outputId": "89102897-4995-4f8a-90dc-c814d038b3fa"
      },
      "execution_count": 26,
      "outputs": [
        {
          "output_type": "stream",
          "name": "stdout",
          "text": [
            "Looking in indexes: https://pypi.org/simple, https://us-python.pkg.dev/colab-wheels/public/simple/\n",
            "Collecting requests-html\n",
            "  Downloading requests_html-0.10.0-py3-none-any.whl (13 kB)\n",
            "Collecting bs4\n",
            "  Downloading bs4-0.0.1.tar.gz (1.1 kB)\n",
            "  Preparing metadata (setup.py) ... \u001b[?25l\u001b[?25hdone\n",
            "Collecting parse\n",
            "  Downloading parse-1.19.0.tar.gz (30 kB)\n",
            "  Preparing metadata (setup.py) ... \u001b[?25l\u001b[?25hdone\n",
            "Collecting pyppeteer>=0.0.14\n",
            "  Downloading pyppeteer-1.0.2-py3-none-any.whl (83 kB)\n",
            "\u001b[2K     \u001b[90m━━━━━━━━━━━━━━━━━━━━━━━━━━━━━━━━━━━━━━━━\u001b[0m \u001b[32m83.4/83.4 kB\u001b[0m \u001b[31m5.5 MB/s\u001b[0m eta \u001b[36m0:00:00\u001b[0m\n",
            "\u001b[?25hCollecting fake-useragent\n",
            "  Downloading fake_useragent-1.1.3-py3-none-any.whl (50 kB)\n",
            "\u001b[2K     \u001b[90m━━━━━━━━━━━━━━━━━━━━━━━━━━━━━━━━━━━━━━━━\u001b[0m \u001b[32m50.5/50.5 kB\u001b[0m \u001b[31m6.9 MB/s\u001b[0m eta \u001b[36m0:00:00\u001b[0m\n",
            "\u001b[?25hRequirement already satisfied: requests in /usr/local/lib/python3.9/dist-packages (from requests-html) (2.27.1)\n",
            "Collecting pyquery\n",
            "  Downloading pyquery-2.0.0-py3-none-any.whl (22 kB)\n",
            "Collecting w3lib\n",
            "  Downloading w3lib-2.1.1-py3-none-any.whl (21 kB)\n",
            "Requirement already satisfied: appdirs<2.0.0,>=1.4.3 in /usr/local/lib/python3.9/dist-packages (from pyppeteer>=0.0.14->requests-html) (1.4.4)\n",
            "Collecting websockets<11.0,>=10.0\n",
            "  Downloading websockets-10.4-cp39-cp39-manylinux_2_5_x86_64.manylinux1_x86_64.manylinux_2_17_x86_64.manylinux2014_x86_64.whl (106 kB)\n",
            "\u001b[2K     \u001b[90m━━━━━━━━━━━━━━━━━━━━━━━━━━━━━━━━━━━━━━\u001b[0m \u001b[32m106.5/106.5 kB\u001b[0m \u001b[31m12.3 MB/s\u001b[0m eta \u001b[36m0:00:00\u001b[0m\n",
            "\u001b[?25hRequirement already satisfied: tqdm<5.0.0,>=4.42.1 in /usr/local/lib/python3.9/dist-packages (from pyppeteer>=0.0.14->requests-html) (4.65.0)\n",
            "Requirement already satisfied: urllib3<2.0.0,>=1.25.8 in /usr/local/lib/python3.9/dist-packages (from pyppeteer>=0.0.14->requests-html) (1.26.15)\n",
            "Requirement already satisfied: importlib-metadata>=1.4 in /usr/local/lib/python3.9/dist-packages (from pyppeteer>=0.0.14->requests-html) (6.4.1)\n",
            "Collecting pyee<9.0.0,>=8.1.0\n",
            "  Downloading pyee-8.2.2-py2.py3-none-any.whl (12 kB)\n",
            "Requirement already satisfied: certifi>=2021 in /usr/local/lib/python3.9/dist-packages (from pyppeteer>=0.0.14->requests-html) (2022.12.7)\n",
            "Requirement already satisfied: beautifulsoup4 in /usr/local/lib/python3.9/dist-packages (from bs4->requests-html) (4.11.2)\n",
            "Requirement already satisfied: importlib-resources>=5.0 in /usr/local/lib/python3.9/dist-packages (from fake-useragent->requests-html) (5.12.0)\n",
            "Requirement already satisfied: lxml>=2.1 in /usr/local/lib/python3.9/dist-packages (from pyquery->requests-html) (4.9.2)\n",
            "Collecting cssselect>=1.2.0\n",
            "  Downloading cssselect-1.2.0-py2.py3-none-any.whl (18 kB)\n",
            "Requirement already satisfied: charset-normalizer~=2.0.0 in /usr/local/lib/python3.9/dist-packages (from requests->requests-html) (2.0.12)\n",
            "Requirement already satisfied: idna<4,>=2.5 in /usr/local/lib/python3.9/dist-packages (from requests->requests-html) (3.4)\n",
            "Requirement already satisfied: zipp>=0.5 in /usr/local/lib/python3.9/dist-packages (from importlib-metadata>=1.4->pyppeteer>=0.0.14->requests-html) (3.15.0)\n",
            "Requirement already satisfied: soupsieve>1.2 in /usr/local/lib/python3.9/dist-packages (from beautifulsoup4->bs4->requests-html) (2.4.1)\n",
            "Building wheels for collected packages: bs4, parse\n",
            "  Building wheel for bs4 (setup.py) ... \u001b[?25l\u001b[?25hdone\n",
            "  Created wheel for bs4: filename=bs4-0.0.1-py3-none-any.whl size=1270 sha256=435736d13d50687be23bf10f5ec588be3600826eb3202573312d2a7fbd59f795\n",
            "  Stored in directory: /root/.cache/pip/wheels/73/2b/cb/099980278a0c9a3e57ff1a89875ec07bfa0b6fcbebb9a8cad3\n",
            "  Building wheel for parse (setup.py) ... \u001b[?25l\u001b[?25hdone\n",
            "  Created wheel for parse: filename=parse-1.19.0-py3-none-any.whl size=24589 sha256=add6b6946ebeb78c21e86a6026d931e1ad9e76275d827f4cee2abaa82b864386\n",
            "  Stored in directory: /root/.cache/pip/wheels/d6/9c/58/ee3ba36897e890f3ad81e9b730791a153fce20caa4a8a474df\n",
            "Successfully built bs4 parse\n",
            "Installing collected packages: pyee, parse, websockets, w3lib, cssselect, pyquery, pyppeteer, fake-useragent, bs4, requests-html\n",
            "Successfully installed bs4-0.0.1 cssselect-1.2.0 fake-useragent-1.1.3 parse-1.19.0 pyee-8.2.2 pyppeteer-1.0.2 pyquery-2.0.0 requests-html-0.10.0 w3lib-2.1.1 websockets-10.4\n"
          ]
        }
      ]
    },
    {
      "cell_type": "code",
      "source": [
        "from requests_html import HTMLSession\n",
        "session = HTMLSession()\n",
        "r = session.get(\"https://www.amazon.com/dp/B01HJ91P94\")"
      ],
      "metadata": {
        "id": "yICBMA6br7-c"
      },
      "execution_count": 36,
      "outputs": []
    },
    {
      "cell_type": "code",
      "source": [
        "r.html.find('h5')"
      ],
      "metadata": {
        "colab": {
          "base_uri": "https://localhost:8080/"
        },
        "id": "R5Xp_sYQsocD",
        "outputId": "15b3f12c-bf04-423c-f277-bfbbed0afe76"
      },
      "execution_count": 33,
      "outputs": [
        {
          "output_type": "execute_result",
          "data": {
            "text/plain": [
              "[]"
            ]
          },
          "metadata": {},
          "execution_count": 33
        }
      ]
    },
    {
      "cell_type": "code",
      "source": [
        "type(r)"
      ],
      "metadata": {
        "colab": {
          "base_uri": "https://localhost:8080/"
        },
        "id": "R-5b56qMtJ5f",
        "outputId": "bc779d03-58b1-4972-85d2-c9aabbe10213"
      },
      "execution_count": 34,
      "outputs": [
        {
          "output_type": "execute_result",
          "data": {
            "text/plain": [
              "requests_html.HTMLResponse"
            ]
          },
          "metadata": {},
          "execution_count": 34
        }
      ]
    },
    {
      "cell_type": "code",
      "source": [
        "!pip install Faker"
      ],
      "metadata": {
        "colab": {
          "base_uri": "https://localhost:8080/"
        },
        "id": "uZ0Ok6dlyOCV",
        "outputId": "c6637d37-2d0b-4134-a24c-a946e0fe7e82"
      },
      "execution_count": 43,
      "outputs": [
        {
          "output_type": "stream",
          "name": "stdout",
          "text": [
            "Looking in indexes: https://pypi.org/simple, https://us-python.pkg.dev/colab-wheels/public/simple/\n",
            "Collecting Faker\n",
            "  Downloading Faker-18.5.1-py3-none-any.whl (1.7 MB)\n",
            "\u001b[2K     \u001b[90m━━━━━━━━━━━━━━━━━━━━━━━━━━━━━━━━━━━━━━━━\u001b[0m \u001b[32m1.7/1.7 MB\u001b[0m \u001b[31m20.6 MB/s\u001b[0m eta \u001b[36m0:00:00\u001b[0m\n",
            "\u001b[?25hRequirement already satisfied: python-dateutil>=2.4 in /usr/local/lib/python3.9/dist-packages (from Faker) (2.8.2)\n",
            "Requirement already satisfied: six>=1.5 in /usr/local/lib/python3.9/dist-packages (from python-dateutil>=2.4->Faker) (1.16.0)\n",
            "Installing collected packages: Faker\n",
            "Successfully installed Faker-18.5.1\n"
          ]
        }
      ]
    },
    {
      "cell_type": "code",
      "source": [
        "import requests\n",
        "from bs4 import BeautifulSoup\n",
        "import re\n",
        "import json\n",
        "import pandas as pd\n",
        "from faker import Faker\n",
        "\n",
        "result = []\n",
        "\n",
        "def get_soup_retry(url):\n",
        "    fake = Faker()\n",
        "    uag_random = fake.user_agent()\n",
        "\n",
        "    header = {\n",
        "        'User-Agent': uag_random,\n",
        "        'Accept-Language': 'en-US,en;q=0.9'\n",
        "    }\n",
        "    isCaptcha = True\n",
        "    while isCaptcha:\n",
        "        page = requests.get(url, headers=header)\n",
        "        # print(page.status_code,type(page.status_code))\n",
        "        # assert page.status_code == 200\n",
        "        if page.status_code != 200:\n",
        "          soup = BeautifulSoup(page.content, 'lxml')\n",
        "          if 'captcha' in str(soup) or 'Something went wrong' in str(soup):\n",
        "              uag_random = fake.user_agent()\n",
        "              print(f'\\rBot has been detected... retrying ... use new identity: {uag_random} ', end='', flush=True)\n",
        "              continue\n",
        "          else:\n",
        "              print('Bot bypassed')\n",
        "              print(str(soup))\n",
        "              return soup\n",
        "\n",
        "\n",
        "def get_detail(url):\n",
        "    soup = get_soup_retry(url)\n",
        "    try:\n",
        "        title = soup.find('h1').text.strip()  # to get the text, and strip is used to remove all the leading and trailing spaces from a string.\n",
        "    except AttributeError:\n",
        "        title = ''\n",
        "    print(soup.text)\n",
        "    return\n",
        "    try:\n",
        "        discount_percent = soup.find('td', attrs={'class': 'a-span12 a-color-price a-size-base'}).find('span', attrs={\n",
        "            'class': 'a-color-price'}).text.split('(')[1].replace(')', '')\n",
        "    except AttributeError:\n",
        "        discount_percent = ''\n",
        "\n",
        "    if discount_percent:\n",
        "        try:\n",
        "            original_price = soup.find('span', attrs={'class': 'a-price a-text-price a-size-base'}).find('span', attrs={\n",
        "                'class': 'a-offscreen'}).text.strip()\n",
        "        except AttributeError:\n",
        "            original_price = ''\n",
        "        discount_save = soup.find('td', attrs={'class': 'a-span12 a-color-price a-size-base'}).find('span', attrs={\n",
        "            'class': 'a-color-price'}).find('span', attrs={'class': 'a-offscreen'}).text.strip()\n",
        "    else:\n",
        "        original_price = ''\n",
        "        discount_save = ''\n",
        "        pass\n",
        "\n",
        "    try:\n",
        "        current_price = soup.find('span', attrs={'class': 'a-price a-text-price a-size-medium apexPriceToPay'}).find(\n",
        "            'span', attrs={'class': 'a-offscreen'}).text.strip()\n",
        "    except AttributeError:\n",
        "        current_price = ''\n",
        "    try:\n",
        "        review_count = soup.find('span', attrs={'id': 'acrCustomerReviewText'}).text.strip()\n",
        "    except AttributeError:\n",
        "        review_count = ''\n",
        "    try:\n",
        "        feature_bullet = soup.find('div', attrs={'id': 'feature-bullets'}).find('ul', attrs={\n",
        "            'class': 'a-unordered-list a-vertical a-spacing-mini'}).find_all('li')\n",
        "        sv_feature = []\n",
        "        for li in feature_bullet:\n",
        "            text = li.find('span', attrs={'class': 'a-list-item'})\n",
        "            features = str(text.string).strip()\n",
        "            if 'None' in features:\n",
        "                pass\n",
        "            else:\n",
        "                sv_feature.append(features)\n",
        "    except AttributeError:\n",
        "        sv_feature = ''\n",
        "    data = soup.select(\n",
        "        \"#imageBlock_feature_div > script:nth-child(2)\")  # using selector, right click > copy > copy selector\n",
        "    try:\n",
        "        script_text = data[0].text  # remove html tag\n",
        "        # use regex to pull out the relevant json string\n",
        "        json_str = re.search('{(.+)}', script_text)[0].replace(\"\\'\", '\"').replace(\"null\",\n",
        "                                                                                  '\"null\"')  # replace single quote ' to double quote \"\n",
        "        json_obj = json.loads(json_str)\n",
        "        images_url = []\n",
        "        for i in json_obj['initial']:\n",
        "            images_hires = i['hiRes']\n",
        "            images_large = i['large']\n",
        "            if images_hires is None:\n",
        "                images_url.append(images_large)\n",
        "            else:\n",
        "                images_url.append(images_hires)\n",
        "    except IndexError:\n",
        "        images_url = ''\n",
        "\n",
        "    try:\n",
        "        available_stock = soup.find('div', attrs={'id': 'availability'}).find('span').text.strip()\n",
        "    except AttributeError:\n",
        "        available_stock = ''\n",
        "    try:\n",
        "        asin = soup.find(id='averageCustomerReviews').get('data-asin')\n",
        "    except AttributeError:\n",
        "        asin = url.split('/dp/')[1].replace('/', '')\n",
        "    try:\n",
        "        description = soup.find('div', attrs={'id': 'productDescription'}).text.replace('\\n', '').strip()\n",
        "    except AttributeError:\n",
        "        description = ''\n",
        "    try:\n",
        "        rating = soup.find('span', attrs={'data-hook': 'rating-out-of-text'}).text.strip()\n",
        "    except AttributeError:\n",
        "        rating = ''\n",
        "\n",
        "    goal = {\n",
        "        'asin': asin,\n",
        "        'title': title,\n",
        "        'price': current_price,\n",
        "        'rating': rating,\n",
        "        'review': review_count,\n",
        "        'stock': available_stock,\n",
        "        'feature': sv_feature,\n",
        "        'description': description,\n",
        "        'discount_percent': discount_percent,\n",
        "        'original_price': original_price,\n",
        "        'discount_save': discount_save,\n",
        "        'images_url': images_url\n",
        "    }\n",
        "    print(goal)\n",
        "\n",
        "    result.append(goal)\n",
        "    return result\n",
        "\n",
        "\n",
        "get_detail(\"https://www.amazon.com/dp/B01HJ91P94\")"
      ],
      "metadata": {
        "colab": {
          "base_uri": "https://localhost:8080/",
          "height": 407
        },
        "id": "eoZ70IMyuRCB",
        "outputId": "234b7b30-cf35-47b8-b13a-63d98afc94d1"
      },
      "execution_count": 58,
      "outputs": [
        {
          "output_type": "stream",
          "name": "stdout",
          "text": [
            "Bot has been detected... retrying ... use new identity: Opera/8.62.(X11; Linux x86_64; unm-US) Presto/2.9.179 Version/12.00 "
          ]
        },
        {
          "output_type": "error",
          "ename": "KeyboardInterrupt",
          "evalue": "ignored",
          "traceback": [
            "\u001b[0;31m---------------------------------------------------------------------------\u001b[0m",
            "\u001b[0;31mKeyboardInterrupt\u001b[0m                         Traceback (most recent call last)",
            "\u001b[0;32m<ipython-input-58-b13e03851a19>\u001b[0m in \u001b[0;36m<cell line: 140>\u001b[0;34m()\u001b[0m\n\u001b[1;32m    138\u001b[0m \u001b[0;34m\u001b[0m\u001b[0m\n\u001b[1;32m    139\u001b[0m \u001b[0;34m\u001b[0m\u001b[0m\n\u001b[0;32m--> 140\u001b[0;31m \u001b[0mget_detail\u001b[0m\u001b[0;34m(\u001b[0m\u001b[0;34m\"https://www.amazon.com/dp/B01HJ91P94\"\u001b[0m\u001b[0;34m)\u001b[0m\u001b[0;34m\u001b[0m\u001b[0;34m\u001b[0m\u001b[0m\n\u001b[0m",
            "\u001b[0;32m<ipython-input-58-b13e03851a19>\u001b[0m in \u001b[0;36mget_detail\u001b[0;34m(url)\u001b[0m\n\u001b[1;32m     34\u001b[0m \u001b[0;34m\u001b[0m\u001b[0m\n\u001b[1;32m     35\u001b[0m \u001b[0;32mdef\u001b[0m \u001b[0mget_detail\u001b[0m\u001b[0;34m(\u001b[0m\u001b[0murl\u001b[0m\u001b[0;34m)\u001b[0m\u001b[0;34m:\u001b[0m\u001b[0;34m\u001b[0m\u001b[0;34m\u001b[0m\u001b[0m\n\u001b[0;32m---> 36\u001b[0;31m     \u001b[0msoup\u001b[0m \u001b[0;34m=\u001b[0m \u001b[0mget_soup_retry\u001b[0m\u001b[0;34m(\u001b[0m\u001b[0murl\u001b[0m\u001b[0;34m)\u001b[0m\u001b[0;34m\u001b[0m\u001b[0;34m\u001b[0m\u001b[0m\n\u001b[0m\u001b[1;32m     37\u001b[0m     \u001b[0;32mtry\u001b[0m\u001b[0;34m:\u001b[0m\u001b[0;34m\u001b[0m\u001b[0;34m\u001b[0m\u001b[0m\n\u001b[1;32m     38\u001b[0m         \u001b[0mtitle\u001b[0m \u001b[0;34m=\u001b[0m \u001b[0msoup\u001b[0m\u001b[0;34m.\u001b[0m\u001b[0mfind\u001b[0m\u001b[0;34m(\u001b[0m\u001b[0;34m'h1'\u001b[0m\u001b[0;34m)\u001b[0m\u001b[0;34m.\u001b[0m\u001b[0mtext\u001b[0m\u001b[0;34m.\u001b[0m\u001b[0mstrip\u001b[0m\u001b[0;34m(\u001b[0m\u001b[0;34m)\u001b[0m  \u001b[0;31m# to get the text, and strip is used to remove all the leading and trailing spaces from a string.\u001b[0m\u001b[0;34m\u001b[0m\u001b[0;34m\u001b[0m\u001b[0m\n",
            "\u001b[0;32m<ipython-input-58-b13e03851a19>\u001b[0m in \u001b[0;36mget_soup_retry\u001b[0;34m(url)\u001b[0m\n\u001b[1;32m     18\u001b[0m     \u001b[0misCaptcha\u001b[0m \u001b[0;34m=\u001b[0m \u001b[0;32mTrue\u001b[0m\u001b[0;34m\u001b[0m\u001b[0;34m\u001b[0m\u001b[0m\n\u001b[1;32m     19\u001b[0m     \u001b[0;32mwhile\u001b[0m \u001b[0misCaptcha\u001b[0m\u001b[0;34m:\u001b[0m\u001b[0;34m\u001b[0m\u001b[0;34m\u001b[0m\u001b[0m\n\u001b[0;32m---> 20\u001b[0;31m         \u001b[0mpage\u001b[0m \u001b[0;34m=\u001b[0m \u001b[0mrequests\u001b[0m\u001b[0;34m.\u001b[0m\u001b[0mget\u001b[0m\u001b[0;34m(\u001b[0m\u001b[0murl\u001b[0m\u001b[0;34m,\u001b[0m \u001b[0mheaders\u001b[0m\u001b[0;34m=\u001b[0m\u001b[0mheader\u001b[0m\u001b[0;34m)\u001b[0m\u001b[0;34m\u001b[0m\u001b[0;34m\u001b[0m\u001b[0m\n\u001b[0m\u001b[1;32m     21\u001b[0m         \u001b[0;31m# print(page.status_code,type(page.status_code))\u001b[0m\u001b[0;34m\u001b[0m\u001b[0;34m\u001b[0m\u001b[0m\n\u001b[1;32m     22\u001b[0m         \u001b[0;31m# assert page.status_code == 200\u001b[0m\u001b[0;34m\u001b[0m\u001b[0;34m\u001b[0m\u001b[0m\n",
            "\u001b[0;32m/usr/local/lib/python3.9/dist-packages/requests/api.py\u001b[0m in \u001b[0;36mget\u001b[0;34m(url, params, **kwargs)\u001b[0m\n\u001b[1;32m     73\u001b[0m     \"\"\"\n\u001b[1;32m     74\u001b[0m \u001b[0;34m\u001b[0m\u001b[0m\n\u001b[0;32m---> 75\u001b[0;31m     \u001b[0;32mreturn\u001b[0m \u001b[0mrequest\u001b[0m\u001b[0;34m(\u001b[0m\u001b[0;34m'get'\u001b[0m\u001b[0;34m,\u001b[0m \u001b[0murl\u001b[0m\u001b[0;34m,\u001b[0m \u001b[0mparams\u001b[0m\u001b[0;34m=\u001b[0m\u001b[0mparams\u001b[0m\u001b[0;34m,\u001b[0m \u001b[0;34m**\u001b[0m\u001b[0mkwargs\u001b[0m\u001b[0;34m)\u001b[0m\u001b[0;34m\u001b[0m\u001b[0;34m\u001b[0m\u001b[0m\n\u001b[0m\u001b[1;32m     76\u001b[0m \u001b[0;34m\u001b[0m\u001b[0m\n\u001b[1;32m     77\u001b[0m \u001b[0;34m\u001b[0m\u001b[0m\n",
            "\u001b[0;32m/usr/local/lib/python3.9/dist-packages/requests/api.py\u001b[0m in \u001b[0;36mrequest\u001b[0;34m(method, url, **kwargs)\u001b[0m\n\u001b[1;32m     59\u001b[0m     \u001b[0;31m# cases, and look like a memory leak in others.\u001b[0m\u001b[0;34m\u001b[0m\u001b[0;34m\u001b[0m\u001b[0m\n\u001b[1;32m     60\u001b[0m     \u001b[0;32mwith\u001b[0m \u001b[0msessions\u001b[0m\u001b[0;34m.\u001b[0m\u001b[0mSession\u001b[0m\u001b[0;34m(\u001b[0m\u001b[0;34m)\u001b[0m \u001b[0;32mas\u001b[0m \u001b[0msession\u001b[0m\u001b[0;34m:\u001b[0m\u001b[0;34m\u001b[0m\u001b[0;34m\u001b[0m\u001b[0m\n\u001b[0;32m---> 61\u001b[0;31m         \u001b[0;32mreturn\u001b[0m \u001b[0msession\u001b[0m\u001b[0;34m.\u001b[0m\u001b[0mrequest\u001b[0m\u001b[0;34m(\u001b[0m\u001b[0mmethod\u001b[0m\u001b[0;34m=\u001b[0m\u001b[0mmethod\u001b[0m\u001b[0;34m,\u001b[0m \u001b[0murl\u001b[0m\u001b[0;34m=\u001b[0m\u001b[0murl\u001b[0m\u001b[0;34m,\u001b[0m \u001b[0;34m**\u001b[0m\u001b[0mkwargs\u001b[0m\u001b[0;34m)\u001b[0m\u001b[0;34m\u001b[0m\u001b[0;34m\u001b[0m\u001b[0m\n\u001b[0m\u001b[1;32m     62\u001b[0m \u001b[0;34m\u001b[0m\u001b[0m\n\u001b[1;32m     63\u001b[0m \u001b[0;34m\u001b[0m\u001b[0m\n",
            "\u001b[0;32m/usr/local/lib/python3.9/dist-packages/requests/sessions.py\u001b[0m in \u001b[0;36mrequest\u001b[0;34m(self, method, url, params, data, headers, cookies, files, auth, timeout, allow_redirects, proxies, hooks, stream, verify, cert, json)\u001b[0m\n\u001b[1;32m    527\u001b[0m         }\n\u001b[1;32m    528\u001b[0m         \u001b[0msend_kwargs\u001b[0m\u001b[0;34m.\u001b[0m\u001b[0mupdate\u001b[0m\u001b[0;34m(\u001b[0m\u001b[0msettings\u001b[0m\u001b[0;34m)\u001b[0m\u001b[0;34m\u001b[0m\u001b[0;34m\u001b[0m\u001b[0m\n\u001b[0;32m--> 529\u001b[0;31m         \u001b[0mresp\u001b[0m \u001b[0;34m=\u001b[0m \u001b[0mself\u001b[0m\u001b[0;34m.\u001b[0m\u001b[0msend\u001b[0m\u001b[0;34m(\u001b[0m\u001b[0mprep\u001b[0m\u001b[0;34m,\u001b[0m \u001b[0;34m**\u001b[0m\u001b[0msend_kwargs\u001b[0m\u001b[0;34m)\u001b[0m\u001b[0;34m\u001b[0m\u001b[0;34m\u001b[0m\u001b[0m\n\u001b[0m\u001b[1;32m    530\u001b[0m \u001b[0;34m\u001b[0m\u001b[0m\n\u001b[1;32m    531\u001b[0m         \u001b[0;32mreturn\u001b[0m \u001b[0mresp\u001b[0m\u001b[0;34m\u001b[0m\u001b[0;34m\u001b[0m\u001b[0m\n",
            "\u001b[0;32m/usr/local/lib/python3.9/dist-packages/requests/sessions.py\u001b[0m in \u001b[0;36msend\u001b[0;34m(self, request, **kwargs)\u001b[0m\n\u001b[1;32m    643\u001b[0m \u001b[0;34m\u001b[0m\u001b[0m\n\u001b[1;32m    644\u001b[0m         \u001b[0;31m# Send the request\u001b[0m\u001b[0;34m\u001b[0m\u001b[0;34m\u001b[0m\u001b[0m\n\u001b[0;32m--> 645\u001b[0;31m         \u001b[0mr\u001b[0m \u001b[0;34m=\u001b[0m \u001b[0madapter\u001b[0m\u001b[0;34m.\u001b[0m\u001b[0msend\u001b[0m\u001b[0;34m(\u001b[0m\u001b[0mrequest\u001b[0m\u001b[0;34m,\u001b[0m \u001b[0;34m**\u001b[0m\u001b[0mkwargs\u001b[0m\u001b[0;34m)\u001b[0m\u001b[0;34m\u001b[0m\u001b[0;34m\u001b[0m\u001b[0m\n\u001b[0m\u001b[1;32m    646\u001b[0m \u001b[0;34m\u001b[0m\u001b[0m\n\u001b[1;32m    647\u001b[0m         \u001b[0;31m# Total elapsed time of the request (approximately)\u001b[0m\u001b[0;34m\u001b[0m\u001b[0;34m\u001b[0m\u001b[0m\n",
            "\u001b[0;32m/usr/local/lib/python3.9/dist-packages/requests/adapters.py\u001b[0m in \u001b[0;36msend\u001b[0;34m(self, request, stream, timeout, verify, cert, proxies)\u001b[0m\n\u001b[1;32m    438\u001b[0m         \u001b[0;32mtry\u001b[0m\u001b[0;34m:\u001b[0m\u001b[0;34m\u001b[0m\u001b[0;34m\u001b[0m\u001b[0m\n\u001b[1;32m    439\u001b[0m             \u001b[0;32mif\u001b[0m \u001b[0;32mnot\u001b[0m \u001b[0mchunked\u001b[0m\u001b[0;34m:\u001b[0m\u001b[0;34m\u001b[0m\u001b[0;34m\u001b[0m\u001b[0m\n\u001b[0;32m--> 440\u001b[0;31m                 resp = conn.urlopen(\n\u001b[0m\u001b[1;32m    441\u001b[0m                     \u001b[0mmethod\u001b[0m\u001b[0;34m=\u001b[0m\u001b[0mrequest\u001b[0m\u001b[0;34m.\u001b[0m\u001b[0mmethod\u001b[0m\u001b[0;34m,\u001b[0m\u001b[0;34m\u001b[0m\u001b[0;34m\u001b[0m\u001b[0m\n\u001b[1;32m    442\u001b[0m                     \u001b[0murl\u001b[0m\u001b[0;34m=\u001b[0m\u001b[0murl\u001b[0m\u001b[0;34m,\u001b[0m\u001b[0;34m\u001b[0m\u001b[0;34m\u001b[0m\u001b[0m\n",
            "\u001b[0;32m/usr/local/lib/python3.9/dist-packages/urllib3/connectionpool.py\u001b[0m in \u001b[0;36murlopen\u001b[0;34m(self, method, url, body, headers, retries, redirect, assert_same_host, timeout, pool_timeout, release_conn, chunked, body_pos, **response_kw)\u001b[0m\n\u001b[1;32m    701\u001b[0m \u001b[0;34m\u001b[0m\u001b[0m\n\u001b[1;32m    702\u001b[0m             \u001b[0;31m# Make the request on the httplib connection object.\u001b[0m\u001b[0;34m\u001b[0m\u001b[0;34m\u001b[0m\u001b[0m\n\u001b[0;32m--> 703\u001b[0;31m             httplib_response = self._make_request(\n\u001b[0m\u001b[1;32m    704\u001b[0m                 \u001b[0mconn\u001b[0m\u001b[0;34m,\u001b[0m\u001b[0;34m\u001b[0m\u001b[0;34m\u001b[0m\u001b[0m\n\u001b[1;32m    705\u001b[0m                 \u001b[0mmethod\u001b[0m\u001b[0;34m,\u001b[0m\u001b[0;34m\u001b[0m\u001b[0;34m\u001b[0m\u001b[0m\n",
            "\u001b[0;32m/usr/local/lib/python3.9/dist-packages/urllib3/connectionpool.py\u001b[0m in \u001b[0;36m_make_request\u001b[0;34m(self, conn, method, url, timeout, chunked, **httplib_request_kw)\u001b[0m\n\u001b[1;32m    384\u001b[0m         \u001b[0;31m# Trigger any extra validation we need to do.\u001b[0m\u001b[0;34m\u001b[0m\u001b[0;34m\u001b[0m\u001b[0m\n\u001b[1;32m    385\u001b[0m         \u001b[0;32mtry\u001b[0m\u001b[0;34m:\u001b[0m\u001b[0;34m\u001b[0m\u001b[0;34m\u001b[0m\u001b[0m\n\u001b[0;32m--> 386\u001b[0;31m             \u001b[0mself\u001b[0m\u001b[0;34m.\u001b[0m\u001b[0m_validate_conn\u001b[0m\u001b[0;34m(\u001b[0m\u001b[0mconn\u001b[0m\u001b[0;34m)\u001b[0m\u001b[0;34m\u001b[0m\u001b[0;34m\u001b[0m\u001b[0m\n\u001b[0m\u001b[1;32m    387\u001b[0m         \u001b[0;32mexcept\u001b[0m \u001b[0;34m(\u001b[0m\u001b[0mSocketTimeout\u001b[0m\u001b[0;34m,\u001b[0m \u001b[0mBaseSSLError\u001b[0m\u001b[0;34m)\u001b[0m \u001b[0;32mas\u001b[0m \u001b[0me\u001b[0m\u001b[0;34m:\u001b[0m\u001b[0;34m\u001b[0m\u001b[0;34m\u001b[0m\u001b[0m\n\u001b[1;32m    388\u001b[0m             \u001b[0;31m# Py2 raises this as a BaseSSLError, Py3 raises it as socket timeout.\u001b[0m\u001b[0;34m\u001b[0m\u001b[0;34m\u001b[0m\u001b[0m\n",
            "\u001b[0;32m/usr/local/lib/python3.9/dist-packages/urllib3/connectionpool.py\u001b[0m in \u001b[0;36m_validate_conn\u001b[0;34m(self, conn)\u001b[0m\n\u001b[1;32m   1040\u001b[0m         \u001b[0;31m# Force connect early to allow us to validate the connection.\u001b[0m\u001b[0;34m\u001b[0m\u001b[0;34m\u001b[0m\u001b[0m\n\u001b[1;32m   1041\u001b[0m         \u001b[0;32mif\u001b[0m \u001b[0;32mnot\u001b[0m \u001b[0mgetattr\u001b[0m\u001b[0;34m(\u001b[0m\u001b[0mconn\u001b[0m\u001b[0;34m,\u001b[0m \u001b[0;34m\"sock\"\u001b[0m\u001b[0;34m,\u001b[0m \u001b[0;32mNone\u001b[0m\u001b[0;34m)\u001b[0m\u001b[0;34m:\u001b[0m  \u001b[0;31m# AppEngine might not have  `.sock`\u001b[0m\u001b[0;34m\u001b[0m\u001b[0;34m\u001b[0m\u001b[0m\n\u001b[0;32m-> 1042\u001b[0;31m             \u001b[0mconn\u001b[0m\u001b[0;34m.\u001b[0m\u001b[0mconnect\u001b[0m\u001b[0;34m(\u001b[0m\u001b[0;34m)\u001b[0m\u001b[0;34m\u001b[0m\u001b[0;34m\u001b[0m\u001b[0m\n\u001b[0m\u001b[1;32m   1043\u001b[0m \u001b[0;34m\u001b[0m\u001b[0m\n\u001b[1;32m   1044\u001b[0m         \u001b[0;32mif\u001b[0m \u001b[0;32mnot\u001b[0m \u001b[0mconn\u001b[0m\u001b[0;34m.\u001b[0m\u001b[0mis_verified\u001b[0m\u001b[0;34m:\u001b[0m\u001b[0;34m\u001b[0m\u001b[0;34m\u001b[0m\u001b[0m\n",
            "\u001b[0;32m/usr/local/lib/python3.9/dist-packages/urllib3/connection.py\u001b[0m in \u001b[0;36mconnect\u001b[0;34m(self)\u001b[0m\n\u001b[1;32m    361\u001b[0m     \u001b[0;32mdef\u001b[0m \u001b[0mconnect\u001b[0m\u001b[0;34m(\u001b[0m\u001b[0mself\u001b[0m\u001b[0;34m)\u001b[0m\u001b[0;34m:\u001b[0m\u001b[0;34m\u001b[0m\u001b[0;34m\u001b[0m\u001b[0m\n\u001b[1;32m    362\u001b[0m         \u001b[0;31m# Add certificate verification\u001b[0m\u001b[0;34m\u001b[0m\u001b[0;34m\u001b[0m\u001b[0m\n\u001b[0;32m--> 363\u001b[0;31m         \u001b[0mself\u001b[0m\u001b[0;34m.\u001b[0m\u001b[0msock\u001b[0m \u001b[0;34m=\u001b[0m \u001b[0mconn\u001b[0m \u001b[0;34m=\u001b[0m \u001b[0mself\u001b[0m\u001b[0;34m.\u001b[0m\u001b[0m_new_conn\u001b[0m\u001b[0;34m(\u001b[0m\u001b[0;34m)\u001b[0m\u001b[0;34m\u001b[0m\u001b[0;34m\u001b[0m\u001b[0m\n\u001b[0m\u001b[1;32m    364\u001b[0m         \u001b[0mhostname\u001b[0m \u001b[0;34m=\u001b[0m \u001b[0mself\u001b[0m\u001b[0;34m.\u001b[0m\u001b[0mhost\u001b[0m\u001b[0;34m\u001b[0m\u001b[0;34m\u001b[0m\u001b[0m\n\u001b[1;32m    365\u001b[0m         \u001b[0mtls_in_tls\u001b[0m \u001b[0;34m=\u001b[0m \u001b[0;32mFalse\u001b[0m\u001b[0;34m\u001b[0m\u001b[0;34m\u001b[0m\u001b[0m\n",
            "\u001b[0;32m/usr/local/lib/python3.9/dist-packages/urllib3/connection.py\u001b[0m in \u001b[0;36m_new_conn\u001b[0;34m(self)\u001b[0m\n\u001b[1;32m    172\u001b[0m \u001b[0;34m\u001b[0m\u001b[0m\n\u001b[1;32m    173\u001b[0m         \u001b[0;32mtry\u001b[0m\u001b[0;34m:\u001b[0m\u001b[0;34m\u001b[0m\u001b[0;34m\u001b[0m\u001b[0m\n\u001b[0;32m--> 174\u001b[0;31m             conn = connection.create_connection(\n\u001b[0m\u001b[1;32m    175\u001b[0m                 \u001b[0;34m(\u001b[0m\u001b[0mself\u001b[0m\u001b[0;34m.\u001b[0m\u001b[0m_dns_host\u001b[0m\u001b[0;34m,\u001b[0m \u001b[0mself\u001b[0m\u001b[0;34m.\u001b[0m\u001b[0mport\u001b[0m\u001b[0;34m)\u001b[0m\u001b[0;34m,\u001b[0m \u001b[0mself\u001b[0m\u001b[0;34m.\u001b[0m\u001b[0mtimeout\u001b[0m\u001b[0;34m,\u001b[0m \u001b[0;34m**\u001b[0m\u001b[0mextra_kw\u001b[0m\u001b[0;34m\u001b[0m\u001b[0;34m\u001b[0m\u001b[0m\n\u001b[1;32m    176\u001b[0m             )\n",
            "\u001b[0;32m/usr/local/lib/python3.9/dist-packages/urllib3/util/connection.py\u001b[0m in \u001b[0;36mcreate_connection\u001b[0;34m(address, timeout, source_address, socket_options)\u001b[0m\n\u001b[1;32m     83\u001b[0m             \u001b[0;32mif\u001b[0m \u001b[0msource_address\u001b[0m\u001b[0;34m:\u001b[0m\u001b[0;34m\u001b[0m\u001b[0;34m\u001b[0m\u001b[0m\n\u001b[1;32m     84\u001b[0m                 \u001b[0msock\u001b[0m\u001b[0;34m.\u001b[0m\u001b[0mbind\u001b[0m\u001b[0;34m(\u001b[0m\u001b[0msource_address\u001b[0m\u001b[0;34m)\u001b[0m\u001b[0;34m\u001b[0m\u001b[0;34m\u001b[0m\u001b[0m\n\u001b[0;32m---> 85\u001b[0;31m             \u001b[0msock\u001b[0m\u001b[0;34m.\u001b[0m\u001b[0mconnect\u001b[0m\u001b[0;34m(\u001b[0m\u001b[0msa\u001b[0m\u001b[0;34m)\u001b[0m\u001b[0;34m\u001b[0m\u001b[0;34m\u001b[0m\u001b[0m\n\u001b[0m\u001b[1;32m     86\u001b[0m             \u001b[0;32mreturn\u001b[0m \u001b[0msock\u001b[0m\u001b[0;34m\u001b[0m\u001b[0;34m\u001b[0m\u001b[0m\n\u001b[1;32m     87\u001b[0m \u001b[0;34m\u001b[0m\u001b[0m\n",
            "\u001b[0;31mKeyboardInterrupt\u001b[0m: "
          ]
        }
      ]
    },
    {
      "cell_type": "code",
      "source": [],
      "metadata": {
        "id": "btWEMDe_81K8"
      },
      "execution_count": null,
      "outputs": []
    }
  ]
}